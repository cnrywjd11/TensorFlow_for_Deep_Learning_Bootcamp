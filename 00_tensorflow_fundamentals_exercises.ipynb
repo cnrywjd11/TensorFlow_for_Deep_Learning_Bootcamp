{
 "nbformat": 4,
 "nbformat_minor": 0,
 "metadata": {
  "colab": {
   "provenance": [],
   "collapsed_sections": [
    "fzjcZ4FHCOb5"
   ],
   "authorship_tag": "ABX9TyPtjTIh2BnxrHodM1T0I1I2",
   "include_colab_link": true
  },
  "kernelspec": {
   "name": "python3",
   "display_name": "Python 3 (ipykernel)",
   "language": "python"
  },
  "accelerator": "GPU",
  "gpuClass": "premium"
 },
 "cells": [
  {
   "metadata": {},
   "cell_type": "markdown",
   "source": [
    "## 🛠 Exercises\n",
    "\n",
    "1. Create a vector, scalar, matrix and tensor with values of your choosing using `tf.constant()`.\n",
    "2. Find the shape, rank and size of the tensors you created in 1.\n",
    "3. Create two tensors containing random values between 0 and 1 with shape `[5, 300]`.\n",
    "4. Multiply the two tensors you created in 3 using matrix multiplication.\n",
    "5. Multiply the two tensors you created in 3 using dot product.\n",
    "6. Create a tensor with random values between 0 and 1 with shape `[224, 224, 3]`.\n",
    "7. Find the min and max values of the tensor you created in 6.\n",
    "8. Created a tensor with random values of shape `[1, 224, 224, 3]` then squeeze it to change the shape to `[224, 224, 3]`.\n",
    "9. Create a tensor with shape `[10]` using your own choice of values, then find the index which has the maximum value.\n",
    "10. One-hot encode the tensor you created in 9."
   ]
  },
  {
   "metadata": {
    "ExecuteTime": {
     "end_time": "2024-11-14T04:47:15.779008Z",
     "start_time": "2024-11-14T04:47:15.776700Z"
    }
   },
   "cell_type": "code",
   "source": [
    "import tensorflow as tf\n",
    "print(tf.__version__)"
   ],
   "outputs": [
    {
     "name": "stdout",
     "output_type": "stream",
     "text": [
      "2.18.0\n"
     ]
    }
   ],
   "execution_count": 88
  },
  {
   "metadata": {
    "ExecuteTime": {
     "end_time": "2024-11-14T04:47:15.862462Z",
     "start_time": "2024-11-14T04:47:15.857333Z"
    }
   },
   "cell_type": "code",
   "source": [
    "# Ex1. Create a vector, scalar, matrix and tensor with values of your choosing using `tf.constant()`.\n",
    "\n",
    "vector = tf.constant([1,2,3])\n",
    "scalar = tf.constant(1)\n",
    "matrix = tf.constant([[1,2,3],[4,5,6]]) \n",
    "tensor = tf.constant([[[1,2,3],[4,5,6],[7,8,9]]]) \n",
    "vector, scalar, matrix, tensor"
   ],
   "outputs": [
    {
     "data": {
      "text/plain": [
       "(<tf.Tensor: shape=(3,), dtype=int32, numpy=array([1, 2, 3], dtype=int32)>,\n",
       " <tf.Tensor: shape=(), dtype=int32, numpy=1>,\n",
       " <tf.Tensor: shape=(2, 3), dtype=int32, numpy=\n",
       " array([[1, 2, 3],\n",
       "        [4, 5, 6]], dtype=int32)>,\n",
       " <tf.Tensor: shape=(1, 3, 3), dtype=int32, numpy=\n",
       " array([[[1, 2, 3],\n",
       "         [4, 5, 6],\n",
       "         [7, 8, 9]]], dtype=int32)>)"
      ]
     },
     "execution_count": 89,
     "metadata": {},
     "output_type": "execute_result"
    }
   ],
   "execution_count": 89
  },
  {
   "metadata": {
    "ExecuteTime": {
     "end_time": "2024-11-14T04:47:15.961845Z",
     "start_time": "2024-11-14T04:47:15.958155Z"
    }
   },
   "cell_type": "code",
   "source": [
    "# Ex2. Find the shape, rank and size of the tensors you created in 1.\n",
    "print(\"vector : shape={}, rank={}, size={}\".format(vector.shape, vector.ndim, tf.size(vector)))\n",
    "print(\"scalar : shape={}, rank={}, size={}\".format(scalar.shape, scalar.ndim, tf.size(scalar)))\n",
    "print(\"matrix : shape={}, rank={}, size={}\".format(matrix.shape, matrix.ndim, tf.size(matrix)))\n",
    "print(\"tensor : shape={}, rank={}, size={}\".format(tensor.shape, tensor.ndim, tf.size(tensor)))"
   ],
   "outputs": [
    {
     "name": "stdout",
     "output_type": "stream",
     "text": [
      "vector : shape=(3,), rank=1, size=3\n",
      "scalar : shape=(), rank=0, size=1\n",
      "matrix : shape=(2, 3), rank=2, size=6\n",
      "tensor : shape=(1, 3, 3), rank=3, size=9\n"
     ]
    }
   ],
   "execution_count": 90
  },
  {
   "metadata": {
    "ExecuteTime": {
     "end_time": "2024-11-14T04:47:16.025509Z",
     "start_time": "2024-11-14T04:47:16.021053Z"
    }
   },
   "cell_type": "code",
   "source": [
    "# Ex3.  Create two tensors containing random values between 0 and 1 with shape `[5, 300]`.\n",
    "random_A = tf.random.uniform(shape=(5,300))\n",
    "random_B = tf.random.uniform(shape=(5,300))\n",
    "print(random_A)\n",
    "print(random_B)\n"
   ],
   "outputs": [
    {
     "name": "stdout",
     "output_type": "stream",
     "text": [
      "tf.Tensor(\n",
      "[[0.5893128  0.6692287  0.9299928  ... 0.90287685 0.45422924 0.89077914]\n",
      " [0.00923467 0.659773   0.57638216 ... 0.20906639 0.9899533  0.8566638 ]\n",
      " [0.23230481 0.49630272 0.8980428  ... 0.08721006 0.10718763 0.56374717]\n",
      " [0.44347322 0.77050567 0.92604816 ... 0.97330976 0.64605796 0.39562535]\n",
      " [0.16618788 0.5874078  0.7500695  ... 0.08091617 0.19793499 0.75361073]], shape=(5, 300), dtype=float32)\n",
      "tf.Tensor(\n",
      "[[0.3022319  0.08976114 0.8714596  ... 0.47746432 0.3916105  0.76375437]\n",
      " [0.13422    0.7804123  0.4892559  ... 0.79014087 0.9841311  0.91196096]\n",
      " [0.8515804  0.05416965 0.25891745 ... 0.823266   0.0722208  0.84859776]\n",
      " [0.8546076  0.62253225 0.23044252 ... 0.29979622 0.94119346 0.5575299 ]\n",
      " [0.43089807 0.03513896 0.6113281  ... 0.52724946 0.5899949  0.63132286]], shape=(5, 300), dtype=float32)\n"
     ]
    }
   ],
   "execution_count": 91
  },
  {
   "metadata": {
    "ExecuteTime": {
     "end_time": "2024-11-14T04:47:16.082811Z",
     "start_time": "2024-11-14T04:47:16.077312Z"
    }
   },
   "cell_type": "code",
   "source": [
    "# Ex4. Multiply the two tensors you created in 3 using matrix multiplication.\n",
    "result = tf.transpose(random_A) @ random_B\n",
    "print(result)"
   ],
   "outputs": [
    {
     "name": "stdout",
     "output_type": "stream",
     "text": [
      "tf.Tensor(\n",
      "[[0.8277804  0.35460415 0.78201854 ... 0.70049524 0.77209055 1.0078131 ]\n",
      " [1.6250515  1.1021558  1.5711612  ... 1.7901407  2.018986   2.334399  ]\n",
      " [2.2378025  1.1847912  1.9969078  ... 2.3118892  2.3104155  2.9878368 ]\n",
      " ...\n",
      " [1.2418699  0.85768545 1.1854463  ... 1.0025381  1.529436   1.5479764 ]\n",
      " [0.9988488  1.2282974  1.1778182  ... 1.3853716  1.8847121  1.825835  ]\n",
      " [1.5271132  1.0518169  1.8932422  ... 2.0822623  2.0496087  2.6363196 ]], shape=(300, 300), dtype=float32)\n"
     ]
    }
   ],
   "execution_count": 92
  },
  {
   "metadata": {
    "ExecuteTime": {
     "end_time": "2024-11-14T04:47:16.107988Z",
     "start_time": "2024-11-14T04:47:16.103757Z"
    }
   },
   "cell_type": "code",
   "source": [
    "# Ex5. Multiply the two tensors you created in 3 using dot product.\n",
    "print(tf.tensordot(tf.transpose(random_A), random_B, axes=1))"
   ],
   "outputs": [
    {
     "name": "stdout",
     "output_type": "stream",
     "text": [
      "tf.Tensor(\n",
      "[[0.8277804  0.35460415 0.78201854 ... 0.70049524 0.77209055 1.0078131 ]\n",
      " [1.6250515  1.1021558  1.5711612  ... 1.7901407  2.018986   2.334399  ]\n",
      " [2.2378025  1.1847912  1.9969078  ... 2.3118892  2.3104155  2.9878368 ]\n",
      " ...\n",
      " [1.2418699  0.85768545 1.1854463  ... 1.0025381  1.529436   1.5479764 ]\n",
      " [0.9988488  1.2282974  1.1778182  ... 1.3853716  1.8847121  1.825835  ]\n",
      " [1.5271132  1.0518169  1.8932422  ... 2.0822623  2.0496087  2.6363196 ]], shape=(300, 300), dtype=float32)\n"
     ]
    }
   ],
   "execution_count": 93
  },
  {
   "metadata": {
    "ExecuteTime": {
     "end_time": "2024-11-14T04:47:16.136711Z",
     "start_time": "2024-11-14T04:47:16.132656Z"
    }
   },
   "cell_type": "code",
   "source": [
    "# Ex6. Create a tensor with random values between 0 and 1 with shape `[224, 224, 3]`.\n",
    "X = tf.random.uniform(shape=(224,224,3))\n",
    "print(X)"
   ],
   "outputs": [
    {
     "name": "stdout",
     "output_type": "stream",
     "text": [
      "tf.Tensor(\n",
      "[[[0.07358789 0.2588451  0.18218756]\n",
      "  [0.8745556  0.75599146 0.05744505]\n",
      "  [0.50118876 0.4064839  0.03880084]\n",
      "  ...\n",
      "  [0.10998988 0.23147237 0.9333668 ]\n",
      "  [0.6109834  0.08130777 0.85861003]\n",
      "  [0.97268856 0.8966025  0.75130475]]\n",
      "\n",
      " [[0.80272293 0.12704408 0.4282341 ]\n",
      "  [0.03104496 0.54290164 0.45967555]\n",
      "  [0.5206237  0.47682142 0.8821484 ]\n",
      "  ...\n",
      "  [0.25090063 0.3799522  0.63695204]\n",
      "  [0.2640816  0.5584042  0.9748882 ]\n",
      "  [0.33006573 0.80493915 0.8801452 ]]\n",
      "\n",
      " [[0.19801426 0.46255958 0.7001802 ]\n",
      "  [0.857522   0.4342295  0.5901879 ]\n",
      "  [0.74551857 0.11027002 0.777591  ]\n",
      "  ...\n",
      "  [0.8525878  0.8223703  0.17134285]\n",
      "  [0.85608745 0.66945124 0.8216547 ]\n",
      "  [0.17041743 0.74995005 0.36016762]]\n",
      "\n",
      " ...\n",
      "\n",
      " [[0.7225884  0.9134724  0.1757425 ]\n",
      "  [0.24075866 0.5682757  0.777187  ]\n",
      "  [0.0708226  0.39296925 0.6441128 ]\n",
      "  ...\n",
      "  [0.27701354 0.46480036 0.16744542]\n",
      "  [0.18899548 0.6075649  0.3345909 ]\n",
      "  [0.05338407 0.7872944  0.22828937]]\n",
      "\n",
      " [[0.8456279  0.10470009 0.79802215]\n",
      "  [0.4103551  0.31276286 0.2666974 ]\n",
      "  [0.8146448  0.91850436 0.30241823]\n",
      "  ...\n",
      "  [0.21900022 0.46203446 0.36491942]\n",
      "  [0.28866065 0.86141527 0.40125322]\n",
      "  [0.05288696 0.86739016 0.43102336]]\n",
      "\n",
      " [[0.9133283  0.08558047 0.068663  ]\n",
      "  [0.3974812  0.8650409  0.8120326 ]\n",
      "  [0.44790566 0.53593373 0.01401496]\n",
      "  ...\n",
      "  [0.11270821 0.27704513 0.0256424 ]\n",
      "  [0.07830465 0.89980376 0.10657942]\n",
      "  [0.7115375  0.976979   0.31509614]]], shape=(224, 224, 3), dtype=float32)\n"
     ]
    }
   ],
   "execution_count": 94
  },
  {
   "metadata": {
    "ExecuteTime": {
     "end_time": "2024-11-14T04:47:16.163485Z",
     "start_time": "2024-11-14T04:47:16.161138Z"
    }
   },
   "cell_type": "code",
   "source": [
    "# ex7. Find the min and max values of the tensor you created in 6.\n",
    "print(tf.reduce_min(X), tf.reduce_max(X))"
   ],
   "outputs": [
    {
     "name": "stdout",
     "output_type": "stream",
     "text": [
      "tf.Tensor(2.4318695e-05, shape=(), dtype=float32) tf.Tensor(0.9999963, shape=(), dtype=float32)\n"
     ]
    }
   ],
   "execution_count": 95
  },
  {
   "metadata": {
    "ExecuteTime": {
     "end_time": "2024-11-14T04:47:16.185269Z",
     "start_time": "2024-11-14T04:47:16.182509Z"
    }
   },
   "cell_type": "code",
   "source": "",
   "outputs": [],
   "execution_count": null
  },
  {
   "metadata": {
    "ExecuteTime": {
     "end_time": "2024-11-14T04:47:16.203793Z",
     "start_time": "2024-11-14T04:47:16.198375Z"
    }
   },
   "cell_type": "code",
   "source": [
    "# ex8. Created a tensor with random values of shape `[1, 224, 224, 3]` then squeeze it to change the shape to `[224, 224, 3]`.\n",
    "X = tf.random.normal(shape=(1,224,224,3))\n",
    "print(X)\n",
    "print(tf.squeeze(X))"
   ],
   "outputs": [
    {
     "name": "stdout",
     "output_type": "stream",
     "text": [
      "tf.Tensor(\n",
      "[[[[-0.3447795   0.01134729 -0.64288783]\n",
      "   [-2.1654313  -1.0762575   0.18496841]\n",
      "   [-0.08352145 -0.17109631  1.7821501 ]\n",
      "   ...\n",
      "   [-0.7247938   1.9895786   0.16555233]\n",
      "   [ 0.89161336  0.52467114 -0.9220905 ]\n",
      "   [ 0.11139641  0.543149   -0.2169276 ]]\n",
      "\n",
      "  [[ 1.1613967  -0.96895444 -1.3096296 ]\n",
      "   [-0.82528466 -0.31831208  0.5825781 ]\n",
      "   [ 0.10964222  1.436453   -0.13969795]\n",
      "   ...\n",
      "   [ 1.1701063   1.0252632   0.9437294 ]\n",
      "   [-0.3836721   2.0514092  -1.5913715 ]\n",
      "   [-1.0882277  -0.18117964 -1.2636604 ]]\n",
      "\n",
      "  [[ 1.2968316  -0.63428885 -1.0311545 ]\n",
      "   [-0.42181966  0.30982468  0.19295134]\n",
      "   [ 0.8016752  -0.4250102   0.10741065]\n",
      "   ...\n",
      "   [ 1.7622242   0.9554785  -0.15234247]\n",
      "   [-0.35658216 -1.8776987   0.32245907]\n",
      "   [ 0.04620134  0.740301    0.3483297 ]]\n",
      "\n",
      "  ...\n",
      "\n",
      "  [[ 1.1117233  -1.0917101  -0.45776898]\n",
      "   [ 0.73657185 -0.11248499  1.0506275 ]\n",
      "   [ 1.0612043   0.33143088  1.9379932 ]\n",
      "   ...\n",
      "   [-1.4373571  -0.33333734  0.929391  ]\n",
      "   [-2.7703264   2.0956905  -1.1263777 ]\n",
      "   [-0.8802252  -2.7726538  -0.78516614]]\n",
      "\n",
      "  [[-0.7253205   0.2413913   1.4351844 ]\n",
      "   [-1.9667485  -1.0223857  -0.6476955 ]\n",
      "   [-0.02648294  1.3309346  -0.42121667]\n",
      "   ...\n",
      "   [-1.3582186   0.47894412 -0.6775055 ]\n",
      "   [ 0.7778261   0.28982186  0.15690972]\n",
      "   [-0.16663511  1.5354935  -0.0341339 ]]\n",
      "\n",
      "  [[-0.9537404  -2.1473608   0.36388174]\n",
      "   [-0.84771097  0.77871263 -1.943934  ]\n",
      "   [-0.40496165 -0.32131913  0.70486206]\n",
      "   ...\n",
      "   [ 0.06444335  0.8946544  -0.06753876]\n",
      "   [-1.0157995  -2.0361283  -1.6236036 ]\n",
      "   [ 0.19888712 -0.58667517 -1.244047  ]]]], shape=(1, 224, 224, 3), dtype=float32)\n",
      "tf.Tensor(\n",
      "[[[-0.3447795   0.01134729 -0.64288783]\n",
      "  [-2.1654313  -1.0762575   0.18496841]\n",
      "  [-0.08352145 -0.17109631  1.7821501 ]\n",
      "  ...\n",
      "  [-0.7247938   1.9895786   0.16555233]\n",
      "  [ 0.89161336  0.52467114 -0.9220905 ]\n",
      "  [ 0.11139641  0.543149   -0.2169276 ]]\n",
      "\n",
      " [[ 1.1613967  -0.96895444 -1.3096296 ]\n",
      "  [-0.82528466 -0.31831208  0.5825781 ]\n",
      "  [ 0.10964222  1.436453   -0.13969795]\n",
      "  ...\n",
      "  [ 1.1701063   1.0252632   0.9437294 ]\n",
      "  [-0.3836721   2.0514092  -1.5913715 ]\n",
      "  [-1.0882277  -0.18117964 -1.2636604 ]]\n",
      "\n",
      " [[ 1.2968316  -0.63428885 -1.0311545 ]\n",
      "  [-0.42181966  0.30982468  0.19295134]\n",
      "  [ 0.8016752  -0.4250102   0.10741065]\n",
      "  ...\n",
      "  [ 1.7622242   0.9554785  -0.15234247]\n",
      "  [-0.35658216 -1.8776987   0.32245907]\n",
      "  [ 0.04620134  0.740301    0.3483297 ]]\n",
      "\n",
      " ...\n",
      "\n",
      " [[ 1.1117233  -1.0917101  -0.45776898]\n",
      "  [ 0.73657185 -0.11248499  1.0506275 ]\n",
      "  [ 1.0612043   0.33143088  1.9379932 ]\n",
      "  ...\n",
      "  [-1.4373571  -0.33333734  0.929391  ]\n",
      "  [-2.7703264   2.0956905  -1.1263777 ]\n",
      "  [-0.8802252  -2.7726538  -0.78516614]]\n",
      "\n",
      " [[-0.7253205   0.2413913   1.4351844 ]\n",
      "  [-1.9667485  -1.0223857  -0.6476955 ]\n",
      "  [-0.02648294  1.3309346  -0.42121667]\n",
      "  ...\n",
      "  [-1.3582186   0.47894412 -0.6775055 ]\n",
      "  [ 0.7778261   0.28982186  0.15690972]\n",
      "  [-0.16663511  1.5354935  -0.0341339 ]]\n",
      "\n",
      " [[-0.9537404  -2.1473608   0.36388174]\n",
      "  [-0.84771097  0.77871263 -1.943934  ]\n",
      "  [-0.40496165 -0.32131913  0.70486206]\n",
      "  ...\n",
      "  [ 0.06444335  0.8946544  -0.06753876]\n",
      "  [-1.0157995  -2.0361283  -1.6236036 ]\n",
      "  [ 0.19888712 -0.58667517 -1.244047  ]]], shape=(224, 224, 3), dtype=float32)\n"
     ]
    }
   ],
   "execution_count": 96
  },
  {
   "metadata": {
    "ExecuteTime": {
     "end_time": "2024-11-14T04:47:16.232103Z",
     "start_time": "2024-11-14T04:47:16.228411Z"
    }
   },
   "cell_type": "code",
   "source": [
    "# ex9. Create a tensor with shape `[10]` using your own choice of values, then find the index which has the maximum value.\n",
    "X = tf.random.uniform(shape=(10,), minval=0, maxval=10, dtype=tf.int32)\n",
    "print(X)\n",
    "print(tf.argmax(X))"
   ],
   "outputs": [
    {
     "name": "stdout",
     "output_type": "stream",
     "text": [
      "tf.Tensor([7 5 2 6 1 5 1 2 5 1], shape=(10,), dtype=int32)\n",
      "tf.Tensor(0, shape=(), dtype=int64)\n"
     ]
    }
   ],
   "execution_count": 97
  },
  {
   "metadata": {
    "ExecuteTime": {
     "end_time": "2024-11-14T04:47:16.248994Z",
     "start_time": "2024-11-14T04:47:16.245549Z"
    }
   },
   "cell_type": "code",
   "source": [
    "# ex10. One-hot encode the tensor you created in 9.\n",
    "tf.one_hot(X, depth=10)"
   ],
   "outputs": [
    {
     "data": {
      "text/plain": [
       "<tf.Tensor: shape=(10, 10), dtype=float32, numpy=\n",
       "array([[0., 0., 0., 0., 0., 0., 0., 1., 0., 0.],\n",
       "       [0., 0., 0., 0., 0., 1., 0., 0., 0., 0.],\n",
       "       [0., 0., 1., 0., 0., 0., 0., 0., 0., 0.],\n",
       "       [0., 0., 0., 0., 0., 0., 1., 0., 0., 0.],\n",
       "       [0., 1., 0., 0., 0., 0., 0., 0., 0., 0.],\n",
       "       [0., 0., 0., 0., 0., 1., 0., 0., 0., 0.],\n",
       "       [0., 1., 0., 0., 0., 0., 0., 0., 0., 0.],\n",
       "       [0., 0., 1., 0., 0., 0., 0., 0., 0., 0.],\n",
       "       [0., 0., 0., 0., 0., 1., 0., 0., 0., 0.],\n",
       "       [0., 1., 0., 0., 0., 0., 0., 0., 0., 0.]], dtype=float32)>"
      ]
     },
     "execution_count": 98,
     "metadata": {},
     "output_type": "execute_result"
    }
   ],
   "execution_count": 98
  }
 ]
}
