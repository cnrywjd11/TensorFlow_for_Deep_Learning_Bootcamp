{
 "nbformat": 4,
 "nbformat_minor": 0,
 "metadata": {
  "colab": {
   "provenance": []
  },
  "kernelspec": {
   "name": "python3",
   "language": "python",
   "display_name": "Python 3 (ipykernel)"
  },
  "language_info": {
   "name": "python"
  }
 },
 "cells": [
  {
   "cell_type": "code",
   "source": [
    "import tensorflow as tf\n",
    "\n",
    "print(tf.__version__)"
   ],
   "metadata": {
    "colab": {
     "base_uri": "https://localhost:8080/"
    },
    "id": "pQkglbWUWwsx",
    "outputId": "e1db30b9-b060-450b-b255-57c3fcad650a",
    "ExecuteTime": {
     "end_time": "2024-11-12T16:17:31.812636Z",
     "start_time": "2024-11-12T16:17:31.205582Z"
    }
   },
   "execution_count": 4,
   "outputs": [
    {
     "name": "stdout",
     "output_type": "stream",
     "text": [
      "2.16.2\n"
     ]
    }
   ]
  },
  {
   "cell_type": "code",
   "source": [
    "scalar = tf.constant(7)\n",
    "scalar"
   ],
   "metadata": {
    "colab": {
     "base_uri": "https://localhost:8080/"
    },
    "id": "K9HGBGCqYBrL",
    "outputId": "0923d852-0241-4b80-8591-d2c22b52653e",
    "ExecuteTime": {
     "end_time": "2024-11-12T16:17:31.901028Z",
     "start_time": "2024-11-12T16:17:31.212121Z"
    }
   },
   "execution_count": 5,
   "outputs": [
    {
     "name": "stderr",
     "output_type": "stream",
     "text": [
      "2024-11-13 01:17:31.200052: I metal_plugin/src/device/metal_device.cc:1154] Metal device set to: Apple M1 Pro\n",
      "2024-11-13 01:17:31.200078: I metal_plugin/src/device/metal_device.cc:296] systemMemory: 16.00 GB\n",
      "2024-11-13 01:17:31.200085: I metal_plugin/src/device/metal_device.cc:313] maxCacheSize: 5.33 GB\n",
      "2024-11-13 01:17:31.200135: I tensorflow/core/common_runtime/pluggable_device/pluggable_device_factory.cc:305] Could not identify NUMA node of platform GPU ID 0, defaulting to 0. Your kernel may not have been built with NUMA support.\n",
      "2024-11-13 01:17:31.200149: I tensorflow/core/common_runtime/pluggable_device/pluggable_device_factory.cc:271] Created TensorFlow device (/job:localhost/replica:0/task:0/device:GPU:0 with 0 MB memory) -> physical PluggableDevice (device: 0, name: METAL, pci bus id: <undefined>)\n"
     ]
    },
    {
     "data": {
      "text/plain": "<tf.Tensor: shape=(), dtype=int32, numpy=7>"
     },
     "execution_count": 5,
     "metadata": {},
     "output_type": "execute_result"
    }
   ]
  },
  {
   "cell_type": "code",
   "source": [
    "scalar.ndim"
   ],
   "metadata": {
    "colab": {
     "base_uri": "https://localhost:8080/"
    },
    "id": "Y0ZzBvopXLw6",
    "outputId": "ffd613ae-ab4a-4260-8d87-65fd8a0830f4",
    "ExecuteTime": {
     "end_time": "2024-11-12T16:17:31.901215Z",
     "start_time": "2024-11-12T16:17:31.215570Z"
    }
   },
   "execution_count": 6,
   "outputs": [
    {
     "data": {
      "text/plain": "0"
     },
     "execution_count": 6,
     "metadata": {},
     "output_type": "execute_result"
    }
   ]
  },
  {
   "cell_type": "code",
   "source": [
    "vector = tf.constant([10, 10])\n",
    "vector"
   ],
   "metadata": {
    "colab": {
     "base_uri": "https://localhost:8080/"
    },
    "id": "G8F8BLPhYS8W",
    "outputId": "b21e517e-9924-4bda-da43-8ac44c030277",
    "ExecuteTime": {
     "end_time": "2024-11-12T16:17:31.901313Z",
     "start_time": "2024-11-12T16:17:31.220452Z"
    }
   },
   "execution_count": 7,
   "outputs": [
    {
     "data": {
      "text/plain": "<tf.Tensor: shape=(2,), dtype=int32, numpy=array([10, 10], dtype=int32)>"
     },
     "execution_count": 7,
     "metadata": {},
     "output_type": "execute_result"
    }
   ]
  },
  {
   "cell_type": "code",
   "source": [
    "vector.ndim"
   ],
   "metadata": {
    "colab": {
     "base_uri": "https://localhost:8080/"
    },
    "id": "sjHxbtdSYaD9",
    "outputId": "e09a788f-1826-464f-9e55-29755a04b218",
    "ExecuteTime": {
     "end_time": "2024-11-12T16:17:31.901404Z",
     "start_time": "2024-11-12T16:17:31.224323Z"
    }
   },
   "execution_count": 8,
   "outputs": [
    {
     "data": {
      "text/plain": "1"
     },
     "execution_count": 8,
     "metadata": {},
     "output_type": "execute_result"
    }
   ]
  },
  {
   "cell_type": "code",
   "source": [
    "matrix = tf.constant([[10, 7], [7, 10]])\n",
    "matrix"
   ],
   "metadata": {
    "colab": {
     "base_uri": "https://localhost:8080/"
    },
    "id": "xggZo3W0YbPA",
    "outputId": "05563e6b-8f08-483d-c3d3-8e4683950d8f",
    "ExecuteTime": {
     "end_time": "2024-11-12T16:17:31.901503Z",
     "start_time": "2024-11-12T16:17:31.227989Z"
    }
   },
   "execution_count": 9,
   "outputs": [
    {
     "data": {
      "text/plain": "<tf.Tensor: shape=(2, 2), dtype=int32, numpy=\narray([[10,  7],\n       [ 7, 10]], dtype=int32)>"
     },
     "execution_count": 9,
     "metadata": {},
     "output_type": "execute_result"
    }
   ]
  },
  {
   "cell_type": "code",
   "source": [
    "matrix.ndim"
   ],
   "metadata": {
    "colab": {
     "base_uri": "https://localhost:8080/"
    },
    "id": "0wBa_9eQYqii",
    "outputId": "91b14684-ef49-4a4c-e2cc-c261f6ef712e",
    "ExecuteTime": {
     "end_time": "2024-11-12T16:17:31.901594Z",
     "start_time": "2024-11-12T16:17:31.231283Z"
    }
   },
   "execution_count": 10,
   "outputs": [
    {
     "data": {
      "text/plain": "2"
     },
     "execution_count": 10,
     "metadata": {},
     "output_type": "execute_result"
    }
   ]
  },
  {
   "cell_type": "code",
   "source": [
    "another_matrix = tf.constant([[10., 7.], [3., 2.], [8., 9.]], dtype=tf.float16)\n",
    "another_matrix"
   ],
   "metadata": {
    "colab": {
     "base_uri": "https://localhost:8080/"
    },
    "id": "TrSQtZgUYvHw",
    "outputId": "57da3431-7de0-4566-954d-42f928119715",
    "ExecuteTime": {
     "end_time": "2024-11-12T16:17:31.904931Z",
     "start_time": "2024-11-12T16:17:31.405309Z"
    }
   },
   "execution_count": 11,
   "outputs": [
    {
     "data": {
      "text/plain": "<tf.Tensor: shape=(3, 2), dtype=float16, numpy=\narray([[10.,  7.],\n       [ 3.,  2.],\n       [ 8.,  9.]], dtype=float16)>"
     },
     "execution_count": 11,
     "metadata": {},
     "output_type": "execute_result"
    }
   ]
  },
  {
   "cell_type": "code",
   "source": [
    "another_matrix.ndim"
   ],
   "metadata": {
    "colab": {
     "base_uri": "https://localhost:8080/"
    },
    "id": "bnUX-24iY-hV",
    "outputId": "8f066a02-8f90-4ad0-e3c0-92bee07768da",
    "ExecuteTime": {
     "end_time": "2024-11-12T16:17:31.905854Z",
     "start_time": "2024-11-12T16:17:31.416784Z"
    }
   },
   "execution_count": 12,
   "outputs": [
    {
     "data": {
      "text/plain": "2"
     },
     "execution_count": 12,
     "metadata": {},
     "output_type": "execute_result"
    }
   ]
  },
  {
   "cell_type": "code",
   "source": [
    "tensor = tf.constant([[[1, 2, 3,], [4,5,6]], [[7,8,9], [10,11,12]], [[13,14,15], [16,17,18]]])\n",
    "tensor"
   ],
   "metadata": {
    "colab": {
     "base_uri": "https://localhost:8080/"
    },
    "id": "x-IAyKlbZVQQ",
    "outputId": "9d112788-1771-41a3-f1f4-c407d474c2d4",
    "ExecuteTime": {
     "end_time": "2024-11-12T16:17:31.905972Z",
     "start_time": "2024-11-12T16:17:31.419196Z"
    }
   },
   "execution_count": 13,
   "outputs": [
    {
     "data": {
      "text/plain": "<tf.Tensor: shape=(3, 2, 3), dtype=int32, numpy=\narray([[[ 1,  2,  3],\n        [ 4,  5,  6]],\n\n       [[ 7,  8,  9],\n        [10, 11, 12]],\n\n       [[13, 14, 15],\n        [16, 17, 18]]], dtype=int32)>"
     },
     "execution_count": 13,
     "metadata": {},
     "output_type": "execute_result"
    }
   ]
  },
  {
   "cell_type": "code",
   "source": [
    "tensor.ndim"
   ],
   "metadata": {
    "colab": {
     "base_uri": "https://localhost:8080/"
    },
    "id": "hWLtdUDUZpXX",
    "outputId": "961a700b-32b8-4842-ce33-29b5367794e4",
    "ExecuteTime": {
     "end_time": "2024-11-12T16:17:31.923678Z",
     "start_time": "2024-11-12T16:17:31.423216Z"
    }
   },
   "execution_count": 14,
   "outputs": [
    {
     "data": {
      "text/plain": "3"
     },
     "execution_count": 14,
     "metadata": {},
     "output_type": "execute_result"
    }
   ]
  },
  {
   "cell_type": "code",
   "source": [
    "changeable_tensor = tf.Variable([10, 7])\n",
    "unchangeable_tensor = tf.constant([10, 7])\n",
    "changeable_tensor, unchangeable_tensor"
   ],
   "metadata": {
    "colab": {
     "base_uri": "https://localhost:8080/"
    },
    "id": "veuRoSVBZsGl",
    "outputId": "1eb27f8a-f905-4019-e6b9-b464c5927c3a",
    "ExecuteTime": {
     "end_time": "2024-11-12T16:17:31.924199Z",
     "start_time": "2024-11-12T16:17:31.425442Z"
    }
   },
   "execution_count": 15,
   "outputs": [
    {
     "data": {
      "text/plain": "(<tf.Variable 'Variable:0' shape=(2,) dtype=int32, numpy=array([10,  7], dtype=int32)>,\n <tf.Tensor: shape=(2,), dtype=int32, numpy=array([10,  7], dtype=int32)>)"
     },
     "execution_count": 15,
     "metadata": {},
     "output_type": "execute_result"
    }
   ]
  },
  {
   "cell_type": "code",
   "source": [
    "# changeable_tensor[0] = 7\n",
    "# changeable_tensor"
   ],
   "metadata": {
    "colab": {
     "base_uri": "https://localhost:8080/",
     "height": 162
    },
    "id": "7_tt7B4taRtb",
    "outputId": "68e24c70-1e2c-491f-e1ff-ed3113c5cbf9",
    "ExecuteTime": {
     "end_time": "2024-11-12T16:17:31.924253Z",
     "start_time": "2024-11-12T16:17:31.431154Z"
    }
   },
   "execution_count": 16,
   "outputs": []
  },
  {
   "cell_type": "code",
   "source": [
    "changeable_tensor[0].assign(7)\n",
    "changeable_tensor"
   ],
   "metadata": {
    "colab": {
     "base_uri": "https://localhost:8080/"
    },
    "id": "8H69vr41aXw0",
    "outputId": "e3d2beea-63aa-4755-9220-a226fedb744e",
    "ExecuteTime": {
     "end_time": "2024-11-12T16:17:31.924361Z",
     "start_time": "2024-11-12T16:17:31.436718Z"
    }
   },
   "execution_count": 17,
   "outputs": [
    {
     "data": {
      "text/plain": "<tf.Variable 'Variable:0' shape=(2,) dtype=int32, numpy=array([7, 7], dtype=int32)>"
     },
     "execution_count": 17,
     "metadata": {},
     "output_type": "execute_result"
    }
   ]
  },
  {
   "cell_type": "code",
   "source": [
    "# unchangeable_tensor[0].assign(7)\n",
    "# unchangeable_tensor"
   ],
   "metadata": {
    "colab": {
     "base_uri": "https://localhost:8080/",
     "height": 287
    },
    "id": "V_3wtUwaagjJ",
    "outputId": "4816074e-7fa1-41a9-9ac6-d8225c65dd25",
    "ExecuteTime": {
     "end_time": "2024-11-12T16:17:31.924565Z",
     "start_time": "2024-11-12T16:17:31.442032Z"
    }
   },
   "execution_count": 18,
   "outputs": []
  },
  {
   "cell_type": "code",
   "source": [
    "random_1 = tf.random.Generator.from_seed(7)\n",
    "random_1 = random_1.normal(shape=(3, 2))\n",
    "random_2 = tf.random.Generator.from_seed(7)\n",
    "random_2 = random_2.normal(shape=(3, 2))\n",
    "\n",
    "random_1, random_2, random_1 == random_2"
   ],
   "metadata": {
    "colab": {
     "base_uri": "https://localhost:8080/"
    },
    "id": "G2JJ3j5Uami8",
    "outputId": "74f26b8e-decf-4bca-dd38-9603827461fc",
    "ExecuteTime": {
     "end_time": "2024-11-12T16:17:32.374192Z",
     "start_time": "2024-11-12T16:17:31.445184Z"
    }
   },
   "execution_count": 19,
   "outputs": [
    {
     "data": {
      "text/plain": "(<tf.Tensor: shape=(3, 2), dtype=float32, numpy=\n array([[-1.3240397 ,  0.28785658],\n        [-0.87579006, -0.08856997],\n        [ 0.6921164 ,  0.842157  ]], dtype=float32)>,\n <tf.Tensor: shape=(3, 2), dtype=float32, numpy=\n array([[-1.3240397 ,  0.28785658],\n        [-0.87579006, -0.08856997],\n        [ 0.6921164 ,  0.842157  ]], dtype=float32)>,\n <tf.Tensor: shape=(3, 2), dtype=bool, numpy=\n array([[ True,  True],\n        [ True,  True],\n        [ True,  True]])>)"
     },
     "execution_count": 19,
     "metadata": {},
     "output_type": "execute_result"
    }
   ]
  },
  {
   "cell_type": "code",
   "source": [
    " not_shuffled = tf.constant([[10, 7], [3,4], [2,5]])\n",
    " tf.random.shuffle(not_shuffled)"
   ],
   "metadata": {
    "colab": {
     "base_uri": "https://localhost:8080/"
    },
    "id": "2p9mbO2Zbyey",
    "outputId": "a23583da-4929-4b95-b357-54eb9da5f4aa",
    "ExecuteTime": {
     "end_time": "2024-11-12T16:17:32.374430Z",
     "start_time": "2024-11-12T16:17:32.363327Z"
    }
   },
   "execution_count": 20,
   "outputs": [
    {
     "data": {
      "text/plain": "<tf.Tensor: shape=(3, 2), dtype=int32, numpy=\narray([[ 2,  5],\n       [ 3,  4],\n       [10,  7]], dtype=int32)>"
     },
     "execution_count": 20,
     "metadata": {},
     "output_type": "execute_result"
    }
   ]
  },
  {
   "cell_type": "code",
   "source": [
    "tf.random.set_seed(42)\n",
    "tf.random.shuffle(not_shuffled, seed=42)"
   ],
   "metadata": {
    "colab": {
     "base_uri": "https://localhost:8080/"
    },
    "id": "Nog99Sv5dGl_",
    "outputId": "2ba15399-81b1-4a92-a03b-4d42b50d024c",
    "ExecuteTime": {
     "end_time": "2024-11-12T16:17:32.374562Z",
     "start_time": "2024-11-12T16:17:32.370725Z"
    }
   },
   "execution_count": 21,
   "outputs": [
    {
     "data": {
      "text/plain": "<tf.Tensor: shape=(3, 2), dtype=int32, numpy=\narray([[10,  7],\n       [ 3,  4],\n       [ 2,  5]], dtype=int32)>"
     },
     "execution_count": 21,
     "metadata": {},
     "output_type": "execute_result"
    }
   ]
  },
  {
   "cell_type": "code",
   "source": [
    "tf.random.set_seed(42)\n",
    "display(tf.random.shuffle(not_shuffled, seed=42))\n",
    "display(tf.random.shuffle(not_shuffled, seed=42))\n",
    "display(tf.random.shuffle(not_shuffled, seed=42))\n"
   ],
   "metadata": {
    "colab": {
     "base_uri": "https://localhost:8080/",
     "height": 231
    },
    "id": "x49-sGvxdh0o",
    "outputId": "bc6798f7-376f-4e6f-c106-06fbe0dcf755",
    "ExecuteTime": {
     "end_time": "2024-11-12T16:17:32.391603Z",
     "start_time": "2024-11-12T16:17:32.375074Z"
    }
   },
   "execution_count": 22,
   "outputs": [
    {
     "data": {
      "text/plain": "<tf.Tensor: shape=(3, 2), dtype=int32, numpy=\narray([[10,  7],\n       [ 3,  4],\n       [ 2,  5]], dtype=int32)>"
     },
     "metadata": {},
     "output_type": "display_data"
    },
    {
     "data": {
      "text/plain": "<tf.Tensor: shape=(3, 2), dtype=int32, numpy=\narray([[ 2,  5],\n       [10,  7],\n       [ 3,  4]], dtype=int32)>"
     },
     "metadata": {},
     "output_type": "display_data"
    },
    {
     "data": {
      "text/plain": "<tf.Tensor: shape=(3, 2), dtype=int32, numpy=\narray([[ 2,  5],\n       [10,  7],\n       [ 3,  4]], dtype=int32)>"
     },
     "metadata": {},
     "output_type": "display_data"
    }
   ]
  },
  {
   "cell_type": "code",
   "source": [
    "tf.random.set_seed(42)\n",
    "display(tf.random.shuffle(not_shuffled))\n",
    "display(tf.random.shuffle(not_shuffled))\n",
    "display(tf.random.shuffle(not_shuffled))\n",
    "display(tf.random.shuffle(not_shuffled, seed=1))\n",
    "display(tf.random.shuffle(not_shuffled, seed=1))\n",
    "display(tf.random.shuffle(not_shuffled, seed=1))"
   ],
   "metadata": {
    "colab": {
     "base_uri": "https://localhost:8080/",
     "height": 446
    },
    "id": "CBuXxElweQpY",
    "outputId": "4625d3c1-c3b3-4312-d21f-207cfdc3665e",
    "ExecuteTime": {
     "end_time": "2024-11-12T16:17:32.392029Z",
     "start_time": "2024-11-12T16:17:32.380993Z"
    }
   },
   "execution_count": 23,
   "outputs": [
    {
     "data": {
      "text/plain": "<tf.Tensor: shape=(3, 2), dtype=int32, numpy=\narray([[ 3,  4],\n       [ 2,  5],\n       [10,  7]], dtype=int32)>"
     },
     "metadata": {},
     "output_type": "display_data"
    },
    {
     "data": {
      "text/plain": "<tf.Tensor: shape=(3, 2), dtype=int32, numpy=\narray([[ 2,  5],\n       [10,  7],\n       [ 3,  4]], dtype=int32)>"
     },
     "metadata": {},
     "output_type": "display_data"
    },
    {
     "data": {
      "text/plain": "<tf.Tensor: shape=(3, 2), dtype=int32, numpy=\narray([[ 2,  5],\n       [ 3,  4],\n       [10,  7]], dtype=int32)>"
     },
     "metadata": {},
     "output_type": "display_data"
    },
    {
     "data": {
      "text/plain": "<tf.Tensor: shape=(3, 2), dtype=int32, numpy=\narray([[10,  7],\n       [ 2,  5],\n       [ 3,  4]], dtype=int32)>"
     },
     "metadata": {},
     "output_type": "display_data"
    },
    {
     "data": {
      "text/plain": "<tf.Tensor: shape=(3, 2), dtype=int32, numpy=\narray([[10,  7],\n       [ 3,  4],\n       [ 2,  5]], dtype=int32)>"
     },
     "metadata": {},
     "output_type": "display_data"
    },
    {
     "data": {
      "text/plain": "<tf.Tensor: shape=(3, 2), dtype=int32, numpy=\narray([[10,  7],\n       [ 2,  5],\n       [ 3,  4]], dtype=int32)>"
     },
     "metadata": {},
     "output_type": "display_data"
    }
   ]
  },
  {
   "cell_type": "code",
   "source": [
    "display(tf.random.shuffle(not_shuffled))\n",
    "display(tf.random.shuffle(not_shuffled))\n",
    "display(tf.random.shuffle(not_shuffled))\n",
    "display(tf.random.shuffle(not_shuffled, seed=1))\n",
    "display(tf.random.shuffle(not_shuffled, seed=1))\n",
    "display(tf.random.shuffle(not_shuffled, seed=1))"
   ],
   "metadata": {
    "colab": {
     "base_uri": "https://localhost:8080/",
     "height": 446
    },
    "id": "Hh7hghzrfgv4",
    "outputId": "d2a96124-80d4-4704-a33f-6dc5d1e4d8b0",
    "ExecuteTime": {
     "end_time": "2024-11-12T16:17:32.529997Z",
     "start_time": "2024-11-12T16:17:32.389433Z"
    }
   },
   "execution_count": 24,
   "outputs": [
    {
     "data": {
      "text/plain": "<tf.Tensor: shape=(3, 2), dtype=int32, numpy=\narray([[ 2,  5],\n       [ 3,  4],\n       [10,  7]], dtype=int32)>"
     },
     "metadata": {},
     "output_type": "display_data"
    },
    {
     "data": {
      "text/plain": "<tf.Tensor: shape=(3, 2), dtype=int32, numpy=\narray([[10,  7],\n       [ 2,  5],\n       [ 3,  4]], dtype=int32)>"
     },
     "metadata": {},
     "output_type": "display_data"
    },
    {
     "data": {
      "text/plain": "<tf.Tensor: shape=(3, 2), dtype=int32, numpy=\narray([[10,  7],\n       [ 2,  5],\n       [ 3,  4]], dtype=int32)>"
     },
     "metadata": {},
     "output_type": "display_data"
    },
    {
     "data": {
      "text/plain": "<tf.Tensor: shape=(3, 2), dtype=int32, numpy=\narray([[10,  7],\n       [ 2,  5],\n       [ 3,  4]], dtype=int32)>"
     },
     "metadata": {},
     "output_type": "display_data"
    },
    {
     "data": {
      "text/plain": "<tf.Tensor: shape=(3, 2), dtype=int32, numpy=\narray([[ 2,  5],\n       [ 3,  4],\n       [10,  7]], dtype=int32)>"
     },
     "metadata": {},
     "output_type": "display_data"
    },
    {
     "data": {
      "text/plain": "<tf.Tensor: shape=(3, 2), dtype=int32, numpy=\narray([[ 2,  5],\n       [10,  7],\n       [ 3,  4]], dtype=int32)>"
     },
     "metadata": {},
     "output_type": "display_data"
    }
   ]
  },
  {
   "cell_type": "code",
   "source": [
    "tf.ones([10, 7])"
   ],
   "metadata": {
    "colab": {
     "base_uri": "https://localhost:8080/"
    },
    "id": "bImsVwdLfvuZ",
    "outputId": "d1bcc84f-6f7e-49fe-a251-a6fdcac1e471",
    "ExecuteTime": {
     "end_time": "2024-11-12T16:17:32.550129Z",
     "start_time": "2024-11-12T16:17:32.398975Z"
    }
   },
   "execution_count": 25,
   "outputs": [
    {
     "data": {
      "text/plain": "<tf.Tensor: shape=(10, 7), dtype=float32, numpy=\narray([[1., 1., 1., 1., 1., 1., 1.],\n       [1., 1., 1., 1., 1., 1., 1.],\n       [1., 1., 1., 1., 1., 1., 1.],\n       [1., 1., 1., 1., 1., 1., 1.],\n       [1., 1., 1., 1., 1., 1., 1.],\n       [1., 1., 1., 1., 1., 1., 1.],\n       [1., 1., 1., 1., 1., 1., 1.],\n       [1., 1., 1., 1., 1., 1., 1.],\n       [1., 1., 1., 1., 1., 1., 1.],\n       [1., 1., 1., 1., 1., 1., 1.]], dtype=float32)>"
     },
     "execution_count": 25,
     "metadata": {},
     "output_type": "execute_result"
    }
   ]
  },
  {
   "cell_type": "code",
   "source": [
    "tf.zeros(shape=(3,4))"
   ],
   "metadata": {
    "colab": {
     "base_uri": "https://localhost:8080/"
    },
    "id": "wLhYq3lnhyvv",
    "outputId": "00c0e664-f4fc-44b5-94be-cb3705492f91",
    "ExecuteTime": {
     "end_time": "2024-11-12T16:17:32.559314Z",
     "start_time": "2024-11-12T16:17:32.429845Z"
    }
   },
   "execution_count": 26,
   "outputs": [
    {
     "data": {
      "text/plain": "<tf.Tensor: shape=(3, 4), dtype=float32, numpy=\narray([[0., 0., 0., 0.],\n       [0., 0., 0., 0.],\n       [0., 0., 0., 0.]], dtype=float32)>"
     },
     "execution_count": 26,
     "metadata": {},
     "output_type": "execute_result"
    }
   ]
  },
  {
   "cell_type": "code",
   "source": [
    "import numpy as np\n",
    "numpy_A = np.arange(1, 25, dtype=np.int32)\n",
    "numpy_A"
   ],
   "metadata": {
    "colab": {
     "base_uri": "https://localhost:8080/"
    },
    "id": "xZ_KVtuih6Fn",
    "outputId": "af8e089d-30f2-4f28-b779-4b7bcd2c53fa",
    "ExecuteTime": {
     "end_time": "2024-11-12T16:17:32.559710Z",
     "start_time": "2024-11-12T16:17:32.437351Z"
    }
   },
   "execution_count": 27,
   "outputs": [
    {
     "data": {
      "text/plain": "array([ 1,  2,  3,  4,  5,  6,  7,  8,  9, 10, 11, 12, 13, 14, 15, 16, 17,\n       18, 19, 20, 21, 22, 23, 24], dtype=int32)"
     },
     "execution_count": 27,
     "metadata": {},
     "output_type": "execute_result"
    }
   ]
  },
  {
   "cell_type": "code",
   "source": [
    "A = tf.constant(numpy_A, shape=(3, 8))\n",
    "B = tf.constant(numpy_A)\n",
    "A, B"
   ],
   "metadata": {
    "colab": {
     "base_uri": "https://localhost:8080/"
    },
    "id": "tvuIak4-iXM8",
    "outputId": "20189a56-83eb-4967-b674-e8e0201e778e",
    "ExecuteTime": {
     "end_time": "2024-11-12T16:17:32.560053Z",
     "start_time": "2024-11-12T16:17:32.440919Z"
    }
   },
   "execution_count": 28,
   "outputs": [
    {
     "data": {
      "text/plain": "(<tf.Tensor: shape=(3, 8), dtype=int32, numpy=\n array([[ 1,  2,  3,  4,  5,  6,  7,  8],\n        [ 9, 10, 11, 12, 13, 14, 15, 16],\n        [17, 18, 19, 20, 21, 22, 23, 24]], dtype=int32)>,\n <tf.Tensor: shape=(24,), dtype=int32, numpy=\n array([ 1,  2,  3,  4,  5,  6,  7,  8,  9, 10, 11, 12, 13, 14, 15, 16, 17,\n        18, 19, 20, 21, 22, 23, 24], dtype=int32)>)"
     },
     "execution_count": 28,
     "metadata": {},
     "output_type": "execute_result"
    }
   ]
  },
  {
   "cell_type": "code",
   "source": [
    "A.ndim"
   ],
   "metadata": {
    "colab": {
     "base_uri": "https://localhost:8080/"
    },
    "id": "1Ekz-VLCiYmn",
    "outputId": "dfe1c938-b433-4a2d-eef8-a0dad27e98dc",
    "ExecuteTime": {
     "end_time": "2024-11-12T16:17:32.560266Z",
     "start_time": "2024-11-12T16:17:32.444396Z"
    }
   },
   "execution_count": 29,
   "outputs": [
    {
     "data": {
      "text/plain": "2"
     },
     "execution_count": 29,
     "metadata": {},
     "output_type": "execute_result"
    }
   ]
  },
  {
   "cell_type": "code",
   "execution_count": 30,
   "outputs": [
    {
     "data": {
      "text/plain": "<tf.Tensor: shape=(2, 3, 4, 5), dtype=float32, numpy=\narray([[[[0., 0., 0., 0., 0.],\n         [0., 0., 0., 0., 0.],\n         [0., 0., 0., 0., 0.],\n         [0., 0., 0., 0., 0.]],\n\n        [[0., 0., 0., 0., 0.],\n         [0., 0., 0., 0., 0.],\n         [0., 0., 0., 0., 0.],\n         [0., 0., 0., 0., 0.]],\n\n        [[0., 0., 0., 0., 0.],\n         [0., 0., 0., 0., 0.],\n         [0., 0., 0., 0., 0.],\n         [0., 0., 0., 0., 0.]]],\n\n\n       [[[0., 0., 0., 0., 0.],\n         [0., 0., 0., 0., 0.],\n         [0., 0., 0., 0., 0.],\n         [0., 0., 0., 0., 0.]],\n\n        [[0., 0., 0., 0., 0.],\n         [0., 0., 0., 0., 0.],\n         [0., 0., 0., 0., 0.],\n         [0., 0., 0., 0., 0.]],\n\n        [[0., 0., 0., 0., 0.],\n         [0., 0., 0., 0., 0.],\n         [0., 0., 0., 0., 0.],\n         [0., 0., 0., 0., 0.]]]], dtype=float32)>"
     },
     "execution_count": 30,
     "metadata": {},
     "output_type": "execute_result"
    }
   ],
   "source": [
    "rank_4_tensor = tf.zeros([2,3,4,5])\n",
    "rank_4_tensor"
   ],
   "metadata": {
    "collapsed": false,
    "ExecuteTime": {
     "end_time": "2024-11-12T16:17:32.560848Z",
     "start_time": "2024-11-12T16:17:32.448578Z"
    }
   }
  },
  {
   "cell_type": "code",
   "execution_count": 31,
   "outputs": [
    {
     "data": {
      "text/plain": "<tf.Tensor: shape=(3, 4, 5), dtype=float32, numpy=\narray([[[0., 0., 0., 0., 0.],\n        [0., 0., 0., 0., 0.],\n        [0., 0., 0., 0., 0.],\n        [0., 0., 0., 0., 0.]],\n\n       [[0., 0., 0., 0., 0.],\n        [0., 0., 0., 0., 0.],\n        [0., 0., 0., 0., 0.],\n        [0., 0., 0., 0., 0.]],\n\n       [[0., 0., 0., 0., 0.],\n        [0., 0., 0., 0., 0.],\n        [0., 0., 0., 0., 0.],\n        [0., 0., 0., 0., 0.]]], dtype=float32)>"
     },
     "execution_count": 31,
     "metadata": {},
     "output_type": "execute_result"
    }
   ],
   "source": [
    "rank_4_tensor[0]"
   ],
   "metadata": {
    "collapsed": false,
    "ExecuteTime": {
     "end_time": "2024-11-12T16:17:32.560982Z",
     "start_time": "2024-11-12T16:17:32.506241Z"
    }
   }
  },
  {
   "cell_type": "code",
   "execution_count": 32,
   "outputs": [
    {
     "data": {
      "text/plain": "(TensorShape([2, 3, 4, 5]), 4, <tf.Tensor: shape=(), dtype=int32, numpy=120>)"
     },
     "execution_count": 32,
     "metadata": {},
     "output_type": "execute_result"
    }
   ],
   "source": [
    "rank_4_tensor.shape, rank_4_tensor.ndim, tf.size(rank_4_tensor)"
   ],
   "metadata": {
    "collapsed": false,
    "ExecuteTime": {
     "end_time": "2024-11-12T16:17:32.561086Z",
     "start_time": "2024-11-12T16:17:32.506387Z"
    }
   }
  },
  {
   "cell_type": "code",
   "execution_count": 33,
   "outputs": [
    {
     "data": {
      "text/plain": "120"
     },
     "execution_count": 33,
     "metadata": {},
     "output_type": "execute_result"
    }
   ],
   "source": [
    "2*3*4*5"
   ],
   "metadata": {
    "collapsed": false,
    "ExecuteTime": {
     "end_time": "2024-11-12T16:17:32.561246Z",
     "start_time": "2024-11-12T16:17:32.506449Z"
    }
   }
  },
  {
   "cell_type": "code",
   "execution_count": 34,
   "outputs": [
    {
     "name": "stdout",
     "output_type": "stream",
     "text": [
      "<dtype: 'float32'>\n",
      "4\n",
      "(2, 3, 4, 5)\n",
      "2\n",
      "5\n",
      "tf.Tensor(120, shape=(), dtype=int32)\n",
      "120\n"
     ]
    }
   ],
   "source": [
    "print(rank_4_tensor.dtype)\n",
    "print(rank_4_tensor.ndim)\n",
    "print(rank_4_tensor.shape)\n",
    "print(rank_4_tensor.shape[0])\n",
    "print(rank_4_tensor.shape[-1])\n",
    "print(tf.size(rank_4_tensor))\n",
    "print(tf.size(rank_4_tensor).numpy())"
   ],
   "metadata": {
    "collapsed": false,
    "ExecuteTime": {
     "end_time": "2024-11-12T16:17:32.561425Z",
     "start_time": "2024-11-12T16:17:32.510887Z"
    }
   }
  },
  {
   "cell_type": "code",
   "execution_count": 35,
   "outputs": [
    {
     "data": {
      "text/plain": "[1, 2]"
     },
     "execution_count": 35,
     "metadata": {},
     "output_type": "execute_result"
    }
   ],
   "source": [
    "some_list = [1,2,3,4]\n",
    "some_list[:2]"
   ],
   "metadata": {
    "collapsed": false,
    "ExecuteTime": {
     "end_time": "2024-11-12T16:17:32.561607Z",
     "start_time": "2024-11-12T16:17:32.513420Z"
    }
   }
  },
  {
   "cell_type": "code",
   "execution_count": 36,
   "outputs": [
    {
     "data": {
      "text/plain": "<tf.Tensor: shape=(2, 2, 2, 2), dtype=float32, numpy=\narray([[[[0., 0.],\n         [0., 0.]],\n\n        [[0., 0.],\n         [0., 0.]]],\n\n\n       [[[0., 0.],\n         [0., 0.]],\n\n        [[0., 0.],\n         [0., 0.]]]], dtype=float32)>"
     },
     "execution_count": 36,
     "metadata": {},
     "output_type": "execute_result"
    }
   ],
   "source": [
    "rank_4_tensor[:2,:2,:2,:2]"
   ],
   "metadata": {
    "collapsed": false,
    "ExecuteTime": {
     "end_time": "2024-11-12T16:17:32.564068Z",
     "start_time": "2024-11-12T16:17:32.518068Z"
    }
   }
  },
  {
   "cell_type": "code",
   "execution_count": 36,
   "outputs": [],
   "source": [],
   "metadata": {
    "collapsed": false,
    "ExecuteTime": {
     "end_time": "2024-11-12T16:17:32.564165Z",
     "start_time": "2024-11-12T16:17:32.537353Z"
    }
   }
  },
  {
   "cell_type": "code",
   "execution_count": 37,
   "outputs": [
    {
     "data": {
      "text/plain": "TensorShape([1, 3, 1, 5])"
     },
     "execution_count": 37,
     "metadata": {},
     "output_type": "execute_result"
    }
   ],
   "source": [
    "rank_4_tensor[:1, :, :1, :].shape"
   ],
   "metadata": {
    "collapsed": false,
    "ExecuteTime": {
     "end_time": "2024-11-12T16:17:32.722835Z",
     "start_time": "2024-11-12T16:17:32.540427Z"
    }
   }
  },
  {
   "cell_type": "code",
   "execution_count": 38,
   "outputs": [
    {
     "data": {
      "text/plain": "(TensorShape([2, 2]), 2)"
     },
     "execution_count": 38,
     "metadata": {},
     "output_type": "execute_result"
    }
   ],
   "source": [
    "rank_2_tensor = tf.constant([[10,7], [3,4]])\n",
    "rank_2_tensor.shape, rank_2_tensor.ndim"
   ],
   "metadata": {
    "collapsed": false,
    "ExecuteTime": {
     "end_time": "2024-11-12T16:17:32.723476Z",
     "start_time": "2024-11-12T16:17:32.594330Z"
    }
   }
  },
  {
   "cell_type": "code",
   "execution_count": 39,
   "outputs": [
    {
     "data": {
      "text/plain": "<tf.Tensor: shape=(2,), dtype=int32, numpy=array([7, 4], dtype=int32)>"
     },
     "execution_count": 39,
     "metadata": {},
     "output_type": "execute_result"
    }
   ],
   "source": [
    "rank_2_tensor[:, -1]"
   ],
   "metadata": {
    "collapsed": false,
    "ExecuteTime": {
     "end_time": "2024-11-12T16:17:32.723687Z",
     "start_time": "2024-11-12T16:17:32.597433Z"
    }
   }
  },
  {
   "cell_type": "code",
   "execution_count": 40,
   "outputs": [
    {
     "name": "stdout",
     "output_type": "stream",
     "text": [
      "tf.Tensor(\n",
      "[[[10]\n",
      "  [ 7]]\n",
      "\n",
      " [[ 3]\n",
      "  [ 4]]], shape=(2, 2, 1), dtype=int32)\n"
     ]
    },
    {
     "data": {
      "text/plain": "<tf.Tensor: shape=(2, 2, 1), dtype=int32, numpy=\narray([[[10],\n        [ 7]],\n\n       [[ 3],\n        [ 4]]], dtype=int32)>"
     },
     "execution_count": 40,
     "metadata": {},
     "output_type": "execute_result"
    }
   ],
   "source": [
    "print(rank_2_tensor[:, :, tf.newaxis])\n",
    "rank_3_tensor = rank_2_tensor[..., tf.newaxis]\n",
    "rank_3_tensor"
   ],
   "metadata": {
    "collapsed": false,
    "ExecuteTime": {
     "end_time": "2024-11-12T16:17:32.723985Z",
     "start_time": "2024-11-12T16:17:32.601756Z"
    }
   }
  },
  {
   "cell_type": "code",
   "execution_count": 41,
   "outputs": [
    {
     "name": "stdout",
     "output_type": "stream",
     "text": [
      "tf.Tensor(\n",
      "[[[10]\n",
      "  [ 7]]\n",
      "\n",
      " [[ 3]\n",
      "  [ 4]]], shape=(2, 2, 1), dtype=int32)\n",
      "tf.Tensor(\n",
      "[[[10  7]\n",
      "  [ 3  4]]], shape=(1, 2, 2), dtype=int32)\n"
     ]
    }
   ],
   "source": [
    "print(tf.expand_dims(rank_2_tensor, axis=-1))\n",
    "print(tf.expand_dims(rank_2_tensor, axis=0))"
   ],
   "metadata": {
    "collapsed": false,
    "ExecuteTime": {
     "end_time": "2024-11-12T16:17:32.724163Z",
     "start_time": "2024-11-12T16:17:32.607574Z"
    }
   }
  },
  {
   "cell_type": "code",
   "execution_count": 42,
   "outputs": [
    {
     "name": "stdout",
     "output_type": "stream",
     "text": [
      "tf.Tensor(\n",
      "[[20 17]\n",
      " [13 14]], shape=(2, 2), dtype=int32)\n",
      "tf.Tensor(\n",
      "[[10  7]\n",
      " [ 3  4]], shape=(2, 2), dtype=int32)\n",
      "tf.Tensor(\n",
      "[[100  70]\n",
      " [ 30  40]], shape=(2, 2), dtype=int32)\n",
      "tf.Tensor(\n",
      "[[ 0 -3]\n",
      " [-7 -6]], shape=(2, 2), dtype=int32)\n"
     ]
    }
   ],
   "source": [
    "tensor = tf.constant([[10, 7], [3,4]])\n",
    "print(tensor + 10)\n",
    "print(tensor)\n",
    "print(tensor * 10)\n",
    "print(tensor - 10)"
   ],
   "metadata": {
    "collapsed": false,
    "ExecuteTime": {
     "end_time": "2024-11-12T16:17:32.724361Z",
     "start_time": "2024-11-12T16:17:32.611191Z"
    }
   }
  },
  {
   "cell_type": "code",
   "execution_count": 43,
   "outputs": [
    {
     "data": {
      "text/plain": "<tf.Tensor: shape=(2, 2), dtype=int32, numpy=\narray([[100,  70],\n       [ 30,  40]], dtype=int32)>"
     },
     "execution_count": 43,
     "metadata": {},
     "output_type": "execute_result"
    }
   ],
   "source": [
    "tf.multiply(tensor, 10)"
   ],
   "metadata": {
    "collapsed": false,
    "ExecuteTime": {
     "end_time": "2024-11-12T16:17:32.724733Z",
     "start_time": "2024-11-12T16:17:32.622588Z"
    }
   }
  },
  {
   "cell_type": "code",
   "execution_count": 44,
   "outputs": [
    {
     "name": "stderr",
     "output_type": "stream",
     "text": [
      "2024-11-13 01:17:35.365881: I tensorflow/core/grappler/optimizers/custom_graph_optimizer_registry.cc:117] Plugin optimizer for device_type GPU is enabled.\n"
     ]
    },
    {
     "name": "stdout",
     "output_type": "stream",
     "text": [
      "1.2752467080000045 1.4093965409999996 1.3453458750000067\n"
     ]
    }
   ],
   "source": [
    "import  timeit\n",
    "\n",
    "large_t = tf.random.normal(shape=(100, 25, 75, 30))\n",
    "\n",
    "def f1():\n",
    " # return large_t * 10\n",
    " return large_t / 10\n",
    "\n",
    "def f2():\n",
    " return tf.divide(large_t, 10)\n",
    "\n",
    "@tf.function\n",
    "def f3():\n",
    " return tf.divide(large_t, 10)\n",
    "\n",
    "t1 = timeit.timeit(f1, number=5000)\n",
    "t2 = timeit.timeit(f2, number=5000)\n",
    "t3 = timeit.timeit(f3, number=5000)\n",
    "print(t1, t2, t3)"
   ],
   "metadata": {
    "collapsed": false,
    "ExecuteTime": {
     "end_time": "2024-11-12T16:17:36.694294Z",
     "start_time": "2024-11-12T16:17:32.626162Z"
    }
   }
  },
  {
   "cell_type": "code",
   "execution_count": 45,
   "outputs": [
    {
     "data": {
      "text/plain": "<tf.Tensor: shape=(2, 2), dtype=int32, numpy=\narray([[121,  98],\n       [ 42,  37]], dtype=int32)>"
     },
     "execution_count": 45,
     "metadata": {},
     "output_type": "execute_result"
    }
   ],
   "source": [
    "tf.matmul(tensor, tensor)"
   ],
   "metadata": {
    "collapsed": false,
    "ExecuteTime": {
     "end_time": "2024-11-12T16:17:36.700175Z",
     "start_time": "2024-11-12T16:17:36.694031Z"
    }
   }
  },
  {
   "cell_type": "code",
   "execution_count": 46,
   "outputs": [
    {
     "name": "stdout",
     "output_type": "stream",
     "text": [
      "tf.Tensor(\n",
      "[[10  7]\n",
      " [ 3  4]], shape=(2, 2), dtype=int32)\n",
      "tf.Tensor(\n",
      "[[100  49]\n",
      " [  9  16]], shape=(2, 2), dtype=int32)\n",
      "tf.Tensor(\n",
      "[[121  98]\n",
      " [ 42  37]], shape=(2, 2), dtype=int32)\n"
     ]
    }
   ],
   "source": [
    "print(tensor)\n",
    "print(tensor * tensor)\n",
    "print(tensor @ tensor)"
   ],
   "metadata": {
    "collapsed": false,
    "ExecuteTime": {
     "end_time": "2024-11-12T16:17:36.708786Z",
     "start_time": "2024-11-12T16:17:36.699671Z"
    }
   }
  },
  {
   "cell_type": "code",
   "execution_count": 91,
   "outputs": [
    {
     "name": "stdout",
     "output_type": "stream",
     "text": [
      "5.524238499999996\n",
      "4.559615082999997\n"
     ]
    }
   ],
   "source": [
    "print(timeit.timeit(lambda: tensor @ tensor, number=100000))\n",
    "print(timeit.timeit(lambda: tf.matmul(tensor, tensor), number=100000))"
   ],
   "metadata": {
    "collapsed": false,
    "ExecuteTime": {
     "end_time": "2024-11-12T16:19:00.474684Z",
     "start_time": "2024-11-12T16:18:50.387533Z"
    }
   }
  },
  {
   "cell_type": "code",
   "execution_count": 48,
   "outputs": [
    {
     "data": {
      "text/plain": "(<tf.Tensor: shape=(3, 2), dtype=int32, numpy=\n array([[1, 2],\n        [3, 4],\n        [5, 6]], dtype=int32)>,\n <tf.Tensor: shape=(3, 2), dtype=int32, numpy=\n array([[ 7,  8],\n        [ 9, 10],\n        [11, 12]], dtype=int32)>)"
     },
     "execution_count": 48,
     "metadata": {},
     "output_type": "execute_result"
    }
   ],
   "source": [
    "X = tf.constant([[1,2], [3,4], [5,6]])\n",
    "Y = tf.constant([[7,8], [9,10], [11,12]])\n",
    "X, Y"
   ],
   "metadata": {
    "collapsed": false,
    "ExecuteTime": {
     "end_time": "2024-11-12T16:17:40.128644Z",
     "start_time": "2024-11-12T16:17:40.125060Z"
    }
   }
  },
  {
   "cell_type": "code",
   "execution_count": 49,
   "outputs": [
    {
     "name": "stdout",
     "output_type": "stream",
     "text": [
      "tf.Tensor(\n",
      "[[ 89  98]\n",
      " [116 128]], shape=(2, 2), dtype=int32)\n",
      "tf.Tensor(\n",
      "[[ 23  29  35]\n",
      " [ 53  67  81]\n",
      " [ 83 105 127]], shape=(3, 3), dtype=int32)\n"
     ]
    }
   ],
   "source": [
    "print(tf.matmul(X, Y, transpose_a=True))\n",
    "print(tf.matmul(X, Y, transpose_b=True))"
   ],
   "metadata": {
    "collapsed": false,
    "ExecuteTime": {
     "end_time": "2024-11-12T16:17:40.131085Z",
     "start_time": "2024-11-12T16:17:40.127810Z"
    }
   }
  },
  {
   "cell_type": "code",
   "execution_count": 50,
   "outputs": [
    {
     "data": {
      "text/plain": "<tf.Tensor: shape=(3, 3), dtype=int32, numpy=\narray([[ 23,  29,  35],\n       [ 53,  67,  81],\n       [ 83, 105, 127]], dtype=int32)>"
     },
     "execution_count": 50,
     "metadata": {},
     "output_type": "execute_result"
    }
   ],
   "source": [
    "tf.tensordot(X, tf.transpose(Y), axes=1)"
   ],
   "metadata": {
    "collapsed": false,
    "ExecuteTime": {
     "end_time": "2024-11-12T16:17:40.184631Z",
     "start_time": "2024-11-12T16:17:40.131391Z"
    }
   }
  },
  {
   "cell_type": "code",
   "execution_count": 90,
   "outputs": [
    {
     "name": "stdout",
     "output_type": "stream",
     "text": [
      "5.380578374999999\n",
      "0.15468083300000046\n",
      "5.2988882500000045\n"
     ]
    }
   ],
   "source": [
    "print(timeit.timeit(lambda: tf.matmul(X,tf.transpose(Y)), number=10000))\n",
    "print(timeit.timeit(lambda: tf.matmul(X,Y, transpose_b=True), number=10000))\n",
    "print(timeit.timeit(lambda: tf.tensordot(X, tf.transpose(Y), axes=1), number=10000))"
   ],
   "metadata": {
    "collapsed": false,
    "ExecuteTime": {
     "end_time": "2024-11-12T16:18:32.786702Z",
     "start_time": "2024-11-12T16:18:21.949757Z"
    }
   }
  },
  {
   "cell_type": "code",
   "execution_count": 52,
   "outputs": [
    {
     "data": {
      "text/plain": "tf.float32"
     },
     "execution_count": 52,
     "metadata": {},
     "output_type": "execute_result"
    }
   ],
   "source": [
    "B = tf.constant([1.7, 7.4])\n",
    "B.dtype"
   ],
   "metadata": {
    "collapsed": false,
    "ExecuteTime": {
     "end_time": "2024-11-12T16:17:51.899394Z",
     "start_time": "2024-11-12T16:17:51.895701Z"
    }
   }
  },
  {
   "cell_type": "code",
   "execution_count": 53,
   "outputs": [
    {
     "data": {
      "text/plain": "tf.int32"
     },
     "execution_count": 53,
     "metadata": {},
     "output_type": "execute_result"
    }
   ],
   "source": [
    "C = tf.constant([7, 10])\n",
    "C.dtype"
   ],
   "metadata": {
    "collapsed": false,
    "ExecuteTime": {
     "end_time": "2024-11-12T16:17:51.901425Z",
     "start_time": "2024-11-12T16:17:51.898781Z"
    }
   }
  },
  {
   "cell_type": "code",
   "execution_count": 54,
   "outputs": [
    {
     "data": {
      "text/plain": "'2.16.2'"
     },
     "execution_count": 54,
     "metadata": {},
     "output_type": "execute_result"
    }
   ],
   "source": [
    "tf.__version__"
   ],
   "metadata": {
    "collapsed": false,
    "ExecuteTime": {
     "end_time": "2024-11-12T16:17:51.910032Z",
     "start_time": "2024-11-12T16:17:51.901658Z"
    }
   }
  },
  {
   "cell_type": "code",
   "execution_count": 55,
   "outputs": [
    {
     "data": {
      "text/plain": "<tf.Tensor: shape=(2,), dtype=float16, numpy=array([1.7, 7.4], dtype=float16)>"
     },
     "execution_count": 55,
     "metadata": {},
     "output_type": "execute_result"
    }
   ],
   "source": [
    "D = tf.cast(B, dtype=tf.float16)\n",
    "D"
   ],
   "metadata": {
    "collapsed": false,
    "ExecuteTime": {
     "end_time": "2024-11-12T16:17:51.950601Z",
     "start_time": "2024-11-12T16:17:51.904483Z"
    }
   }
  },
  {
   "cell_type": "code",
   "execution_count": 56,
   "outputs": [
    {
     "data": {
      "text/plain": "<tf.Tensor: shape=(2,), dtype=float32, numpy=array([ 7., 10.], dtype=float32)>"
     },
     "execution_count": 56,
     "metadata": {},
     "output_type": "execute_result"
    }
   ],
   "source": [
    "E = tf.cast(C, dtype=tf.float32)\n",
    "E"
   ],
   "metadata": {
    "collapsed": false,
    "ExecuteTime": {
     "end_time": "2024-11-12T16:17:52.003458Z",
     "start_time": "2024-11-12T16:17:51.951260Z"
    }
   }
  },
  {
   "cell_type": "code",
   "execution_count": 57,
   "outputs": [
    {
     "data": {
      "text/plain": "<tf.Tensor: shape=(2,), dtype=float16, numpy=array([ 7., 10.], dtype=float16)>"
     },
     "execution_count": 57,
     "metadata": {},
     "output_type": "execute_result"
    }
   ],
   "source": [
    "E_float16 = tf.cast(E, dtype=tf.float16)\n",
    "E_float16"
   ],
   "metadata": {
    "collapsed": false,
    "ExecuteTime": {
     "end_time": "2024-11-12T16:17:52.003731Z",
     "start_time": "2024-11-12T16:17:51.981342Z"
    }
   }
  },
  {
   "cell_type": "code",
   "execution_count": 58,
   "outputs": [
    {
     "data": {
      "text/plain": "<tf.Tensor: shape=(2,), dtype=int32, numpy=array([ -7, -10], dtype=int32)>"
     },
     "execution_count": 58,
     "metadata": {},
     "output_type": "execute_result"
    }
   ],
   "source": [
    "D = tf.constant([-7, -10])\n",
    "D"
   ],
   "metadata": {
    "collapsed": false,
    "ExecuteTime": {
     "end_time": "2024-11-12T16:17:52.003829Z",
     "start_time": "2024-11-12T16:17:51.985955Z"
    }
   }
  },
  {
   "cell_type": "code",
   "execution_count": 59,
   "outputs": [
    {
     "data": {
      "text/plain": "<tf.Tensor: shape=(2,), dtype=int32, numpy=array([ 7, 10], dtype=int32)>"
     },
     "execution_count": 59,
     "metadata": {},
     "output_type": "execute_result"
    }
   ],
   "source": [
    "tf.abs(D)"
   ],
   "metadata": {
    "collapsed": false,
    "ExecuteTime": {
     "end_time": "2024-11-12T16:17:52.061254Z",
     "start_time": "2024-11-12T16:17:51.988888Z"
    }
   }
  },
  {
   "cell_type": "code",
   "execution_count": 60,
   "outputs": [
    {
     "data": {
      "text/plain": "<tf.Tensor: shape=(50,), dtype=int64, numpy=\narray([88, 44,  7, 81, 83, 29, 61, 28,  3, 13, 51, 94,  1, 80, 33, 21, 62,\n       83, 90, 52, 66, 88,  0,  1, 55, 78, 27, 82, 51, 34, 21, 85, 51, 16,\n       55, 69, 66,  9, 31, 85, 51, 71, 81, 93, 39, 86, 17, 82, 94, 15])>"
     },
     "execution_count": 60,
     "metadata": {},
     "output_type": "execute_result"
    }
   ],
   "source": [
    "E = tf.constant(np.random.randint(0, 100, size=50))\n",
    "E"
   ],
   "metadata": {
    "collapsed": false,
    "ExecuteTime": {
     "end_time": "2024-11-12T16:17:52.061806Z",
     "start_time": "2024-11-12T16:17:52.025488Z"
    }
   }
  },
  {
   "cell_type": "code",
   "execution_count": 61,
   "outputs": [
    {
     "data": {
      "text/plain": "(<tf.Tensor: shape=(), dtype=int32, numpy=50>, TensorShape([50]), 1)"
     },
     "execution_count": 61,
     "metadata": {},
     "output_type": "execute_result"
    }
   ],
   "source": [
    "tf.size(E), E.shape, E.ndim"
   ],
   "metadata": {
    "collapsed": false,
    "ExecuteTime": {
     "end_time": "2024-11-12T16:17:52.062551Z",
     "start_time": "2024-11-12T16:17:52.029446Z"
    }
   }
  },
  {
   "cell_type": "code",
   "execution_count": 62,
   "outputs": [
    {
     "data": {
      "text/plain": "<tf.Tensor: shape=(), dtype=int64, numpy=0>"
     },
     "execution_count": 62,
     "metadata": {},
     "output_type": "execute_result"
    }
   ],
   "source": [
    "tf.reduce_min(E)"
   ],
   "metadata": {
    "collapsed": false,
    "ExecuteTime": {
     "end_time": "2024-11-12T16:17:52.062740Z",
     "start_time": "2024-11-12T16:17:52.032851Z"
    }
   }
  },
  {
   "cell_type": "code",
   "execution_count": 63,
   "outputs": [
    {
     "data": {
      "text/plain": "<tf.Tensor: shape=(), dtype=int64, numpy=94>"
     },
     "execution_count": 63,
     "metadata": {},
     "output_type": "execute_result"
    }
   ],
   "source": [
    "tf.reduce_max(E)"
   ],
   "metadata": {
    "collapsed": false,
    "ExecuteTime": {
     "end_time": "2024-11-12T16:17:52.062893Z",
     "start_time": "2024-11-12T16:17:52.036322Z"
    }
   }
  },
  {
   "cell_type": "code",
   "execution_count": 64,
   "outputs": [
    {
     "data": {
      "text/plain": "<tf.Tensor: shape=(), dtype=int64, numpy=52>"
     },
     "execution_count": 64,
     "metadata": {},
     "output_type": "execute_result"
    }
   ],
   "source": [
    "tf.reduce_mean(E)"
   ],
   "metadata": {
    "collapsed": false,
    "ExecuteTime": {
     "end_time": "2024-11-12T16:17:52.063036Z",
     "start_time": "2024-11-12T16:17:52.039868Z"
    }
   }
  },
  {
   "cell_type": "code",
   "execution_count": 65,
   "outputs": [
    {
     "data": {
      "text/plain": "<tf.Tensor: shape=(), dtype=int64, numpy=2603>"
     },
     "execution_count": 65,
     "metadata": {},
     "output_type": "execute_result"
    }
   ],
   "source": [
    "tf.reduce_sum(E)"
   ],
   "metadata": {
    "collapsed": false,
    "ExecuteTime": {
     "end_time": "2024-11-12T16:17:52.063140Z",
     "start_time": "2024-11-12T16:17:52.043421Z"
    }
   }
  },
  {
   "cell_type": "code",
   "execution_count": 66,
   "outputs": [
    {
     "name": "stdout",
     "output_type": "stream",
     "text": [
      "tf.Tensor(905.8164, shape=(), dtype=float32)\n",
      "tf.Tensor(30.096785, shape=(), dtype=float32)\n",
      "tf.Tensor(905.8164, shape=(), dtype=float32)\n",
      "tf.Tensor(30.096785, shape=(), dtype=float32)\n"
     ]
    }
   ],
   "source": [
    "EE = tf.cast(E, dtype=tf.float32)\n",
    "print(tf.reduce_mean(tf.pow(EE - tf.reduce_mean(EE), 2)))\n",
    "print(tf.sqrt(tf.reduce_mean(tf.pow(EE - tf.reduce_mean(EE), 2))))\n",
    "\n",
    "print(tf.math.reduce_variance(EE))\n",
    "print(tf.math.reduce_std(EE))"
   ],
   "metadata": {
    "collapsed": false,
    "ExecuteTime": {
     "end_time": "2024-11-12T16:17:52.318545Z",
     "start_time": "2024-11-12T16:17:52.047121Z"
    }
   }
  },
  {
   "cell_type": "code",
   "execution_count": 67,
   "outputs": [
    {
     "name": "stdout",
     "output_type": "stream",
     "text": [
      "1.4643813340000023\n",
      "1.4696722500000021\n",
      "1.7416080409999921\n",
      "1.739838375000005\n"
     ]
    }
   ],
   "source": [
    "def my_var():\n",
    " return tf.reduce_mean(tf.pow(EE - tf.reduce_mean(EE), 2))\n",
    "\n",
    "def my_std():\n",
    " return tf.sqrt(tf.reduce_mean(tf.pow(EE - tf.reduce_mean(EE), 2)))\n",
    "\n",
    "print(timeit.timeit(my_var, number=10000))\n",
    "print(timeit.timeit(lambda:tf.math.reduce_variance(EE), number=10000))\n",
    "print(timeit.timeit(my_std, number=10000))\n",
    "print(timeit.timeit(lambda:tf.math.reduce_std(EE), number=10000))"
   ],
   "metadata": {
    "collapsed": false,
    "ExecuteTime": {
     "end_time": "2024-11-12T16:17:58.739194Z",
     "start_time": "2024-11-12T16:17:52.319176Z"
    }
   }
  },
  {
   "cell_type": "code",
   "execution_count": 68,
   "outputs": [
    {
     "data": {
      "text/plain": "<tf.Tensor: shape=(50,), dtype=float32, numpy=\narray([0.6645621 , 0.44100678, 0.3528825 , 0.46448255, 0.03366041,\n       0.68467236, 0.74011743, 0.8724445 , 0.22632635, 0.22319686,\n       0.3103881 , 0.7223358 , 0.13318717, 0.5480639 , 0.5746088 ,\n       0.8996835 , 0.00946367, 0.5212307 , 0.6345445 , 0.1993283 ,\n       0.72942245, 0.54583454, 0.10756552, 0.6767061 , 0.6602763 ,\n       0.33695042, 0.60141766, 0.21062577, 0.8527372 , 0.44062173,\n       0.9485276 , 0.23752594, 0.81179297, 0.5263394 , 0.494308  ,\n       0.21612847, 0.8457197 , 0.8718841 , 0.3083862 , 0.6868038 ,\n       0.23764038, 0.7817228 , 0.9671384 , 0.06870162, 0.79873943,\n       0.66028714, 0.5871513 , 0.16461694, 0.7381023 , 0.32054043],\n      dtype=float32)>"
     },
     "execution_count": 68,
     "metadata": {},
     "output_type": "execute_result"
    }
   ],
   "source": [
    "tf.random.set_seed(42)\n",
    "F = tf.random.uniform(shape=[50])\n",
    "F"
   ],
   "metadata": {
    "collapsed": false,
    "ExecuteTime": {
     "end_time": "2024-11-12T16:17:58.753131Z",
     "start_time": "2024-11-12T16:17:58.745869Z"
    }
   }
  },
  {
   "cell_type": "code",
   "execution_count": 69,
   "outputs": [
    {
     "data": {
      "text/plain": "<tf.Tensor: shape=(), dtype=float32, numpy=0.9671384>"
     },
     "execution_count": 69,
     "metadata": {},
     "output_type": "execute_result"
    }
   ],
   "source": [
    "F[tf.argmax(F)]"
   ],
   "metadata": {
    "collapsed": false,
    "ExecuteTime": {
     "end_time": "2024-11-12T16:17:58.786740Z",
     "start_time": "2024-11-12T16:17:58.752999Z"
    }
   }
  },
  {
   "cell_type": "code",
   "execution_count": 70,
   "outputs": [
    {
     "data": {
      "text/plain": "<tf.Tensor: shape=(), dtype=float32, numpy=0.9671384>"
     },
     "execution_count": 70,
     "metadata": {},
     "output_type": "execute_result"
    }
   ],
   "source": [
    "tf.reduce_max(F)"
   ],
   "metadata": {
    "collapsed": false,
    "ExecuteTime": {
     "end_time": "2024-11-12T16:17:58.882486Z",
     "start_time": "2024-11-12T16:17:58.785556Z"
    }
   }
  },
  {
   "cell_type": "code",
   "execution_count": 71,
   "outputs": [
    {
     "name": "stdout",
     "output_type": "stream",
     "text": [
      "tf.Tensor(0.009463668, shape=(), dtype=float32)\n",
      "tf.Tensor(0.009463668, shape=(), dtype=float32)\n"
     ]
    }
   ],
   "source": [
    "print(F[tf.argmin(F)])\n",
    "print(tf.reduce_min(F))"
   ],
   "metadata": {
    "collapsed": false,
    "ExecuteTime": {
     "end_time": "2024-11-12T16:17:58.999966Z",
     "start_time": "2024-11-12T16:17:58.881938Z"
    }
   }
  },
  {
   "cell_type": "code",
   "execution_count": 72,
   "outputs": [
    {
     "data": {
      "text/plain": "<tf.Tensor: shape=(1, 1, 1, 1, 50), dtype=float32, numpy=\narray([[[[[0.6645621 , 0.44100678, 0.3528825 , 0.46448255, 0.03366041,\n           0.68467236, 0.74011743, 0.8724445 , 0.22632635, 0.22319686,\n           0.3103881 , 0.7223358 , 0.13318717, 0.5480639 , 0.5746088 ,\n           0.8996835 , 0.00946367, 0.5212307 , 0.6345445 , 0.1993283 ,\n           0.72942245, 0.54583454, 0.10756552, 0.6767061 , 0.6602763 ,\n           0.33695042, 0.60141766, 0.21062577, 0.8527372 , 0.44062173,\n           0.9485276 , 0.23752594, 0.81179297, 0.5263394 , 0.494308  ,\n           0.21612847, 0.8457197 , 0.8718841 , 0.3083862 , 0.6868038 ,\n           0.23764038, 0.7817228 , 0.9671384 , 0.06870162, 0.79873943,\n           0.66028714, 0.5871513 , 0.16461694, 0.7381023 , 0.32054043]]]]],\n      dtype=float32)>"
     },
     "execution_count": 72,
     "metadata": {},
     "output_type": "execute_result"
    }
   ],
   "source": [
    "tf.random.set_seed(42)\n",
    "G = tf.constant(tf.random.uniform(shape=[50]), shape=(1, 1, 1, 1, 50))\n",
    "G"
   ],
   "metadata": {
    "collapsed": false,
    "ExecuteTime": {
     "end_time": "2024-11-12T16:17:59.013506Z",
     "start_time": "2024-11-12T16:17:59.001280Z"
    }
   }
  },
  {
   "cell_type": "code",
   "execution_count": 73,
   "outputs": [
    {
     "data": {
      "text/plain": "TensorShape([1, 1, 1, 1, 50])"
     },
     "execution_count": 73,
     "metadata": {},
     "output_type": "execute_result"
    }
   ],
   "source": [
    "G.shape"
   ],
   "metadata": {
    "collapsed": false,
    "ExecuteTime": {
     "end_time": "2024-11-12T16:17:59.013754Z",
     "start_time": "2024-11-12T16:17:59.010562Z"
    }
   }
  },
  {
   "cell_type": "code",
   "execution_count": 74,
   "outputs": [
    {
     "data": {
      "text/plain": "(<tf.Tensor: shape=(50,), dtype=float32, numpy=\n array([0.6645621 , 0.44100678, 0.3528825 , 0.46448255, 0.03366041,\n        0.68467236, 0.74011743, 0.8724445 , 0.22632635, 0.22319686,\n        0.3103881 , 0.7223358 , 0.13318717, 0.5480639 , 0.5746088 ,\n        0.8996835 , 0.00946367, 0.5212307 , 0.6345445 , 0.1993283 ,\n        0.72942245, 0.54583454, 0.10756552, 0.6767061 , 0.6602763 ,\n        0.33695042, 0.60141766, 0.21062577, 0.8527372 , 0.44062173,\n        0.9485276 , 0.23752594, 0.81179297, 0.5263394 , 0.494308  ,\n        0.21612847, 0.8457197 , 0.8718841 , 0.3083862 , 0.6868038 ,\n        0.23764038, 0.7817228 , 0.9671384 , 0.06870162, 0.79873943,\n        0.66028714, 0.5871513 , 0.16461694, 0.7381023 , 0.32054043],\n       dtype=float32)>,\n TensorShape([50]))"
     },
     "execution_count": 74,
     "metadata": {},
     "output_type": "execute_result"
    }
   ],
   "source": [
    "G_squeezed = tf.squeeze(G)\n",
    "G_squeezed, G_squeezed.shape"
   ],
   "metadata": {
    "collapsed": false,
    "ExecuteTime": {
     "end_time": "2024-11-12T16:17:59.021093Z",
     "start_time": "2024-11-12T16:17:59.013805Z"
    }
   }
  },
  {
   "cell_type": "code",
   "execution_count": 75,
   "outputs": [
    {
     "data": {
      "text/plain": "<tf.Tensor: shape=(4, 4), dtype=float32, numpy=\narray([[1., 0., 0., 0.],\n       [0., 1., 0., 0.],\n       [0., 0., 1., 0.],\n       [0., 0., 0., 1.]], dtype=float32)>"
     },
     "execution_count": 75,
     "metadata": {},
     "output_type": "execute_result"
    }
   ],
   "source": [
    "some_list = [0, 1, 2, 3]\n",
    "tf.one_hot(some_list, depth=len(some_list))"
   ],
   "metadata": {
    "collapsed": false,
    "ExecuteTime": {
     "end_time": "2024-11-12T16:17:59.071045Z",
     "start_time": "2024-11-12T16:17:59.018044Z"
    }
   }
  },
  {
   "cell_type": "code",
   "execution_count": 76,
   "outputs": [
    {
     "data": {
      "text/plain": "<tf.Tensor: shape=(4, 4), dtype=string, numpy=\narray([[b'123', b'456', b'456', b'456'],\n       [b'456', b'123', b'456', b'456'],\n       [b'456', b'456', b'123', b'456'],\n       [b'456', b'456', b'456', b'123']], dtype=object)>"
     },
     "execution_count": 76,
     "metadata": {},
     "output_type": "execute_result"
    }
   ],
   "source": [
    "tf.one_hot(some_list, depth=len(some_list), on_value=\"123\", off_value=\"456\")"
   ],
   "metadata": {
    "collapsed": false,
    "ExecuteTime": {
     "end_time": "2024-11-12T16:17:59.071235Z",
     "start_time": "2024-11-12T16:17:59.059145Z"
    }
   }
  },
  {
   "cell_type": "code",
   "execution_count": 77,
   "outputs": [
    {
     "data": {
      "text/plain": "<tf.Tensor: shape=(9,), dtype=int32, numpy=array([1, 2, 3, 4, 5, 6, 7, 8, 9], dtype=int32)>"
     },
     "execution_count": 77,
     "metadata": {},
     "output_type": "execute_result"
    }
   ],
   "source": [
    "H = tf.range(1, 10)\n",
    "H"
   ],
   "metadata": {
    "collapsed": false,
    "ExecuteTime": {
     "end_time": "2024-11-12T16:17:59.072990Z",
     "start_time": "2024-11-12T16:17:59.063057Z"
    }
   }
  },
  {
   "cell_type": "code",
   "execution_count": 78,
   "outputs": [
    {
     "data": {
      "text/plain": "<tf.Tensor: shape=(9,), dtype=int32, numpy=array([ 1,  4,  9, 16, 25, 36, 49, 64, 81], dtype=int32)>"
     },
     "execution_count": 78,
     "metadata": {},
     "output_type": "execute_result"
    }
   ],
   "source": [
    "tf.square(H)"
   ],
   "metadata": {
    "collapsed": false,
    "ExecuteTime": {
     "end_time": "2024-11-12T16:17:59.133735Z",
     "start_time": "2024-11-12T16:17:59.070081Z"
    }
   }
  },
  {
   "cell_type": "code",
   "execution_count": 79,
   "outputs": [
    {
     "data": {
      "text/plain": "<tf.Tensor: shape=(9,), dtype=float32, numpy=\narray([1.       , 1.4142135, 1.7320508, 2.       , 2.236068 , 2.4494898,\n       2.6457512, 2.828427 , 3.       ], dtype=float32)>"
     },
     "execution_count": 79,
     "metadata": {},
     "output_type": "execute_result"
    }
   ],
   "source": [
    "tf.sqrt(tf.cast(H, tf.float32))"
   ],
   "metadata": {
    "collapsed": false,
    "ExecuteTime": {
     "end_time": "2024-11-12T16:17:59.136192Z",
     "start_time": "2024-11-12T16:17:59.102645Z"
    }
   }
  },
  {
   "cell_type": "code",
   "execution_count": 80,
   "outputs": [
    {
     "data": {
      "text/plain": "<tf.Tensor: shape=(9,), dtype=float32, numpy=\narray([0.       , 0.6931472, 1.0986123, 1.3862944, 1.609438 , 1.7917595,\n       1.9459102, 2.0794415, 2.1972246], dtype=float32)>"
     },
     "execution_count": 80,
     "metadata": {},
     "output_type": "execute_result"
    }
   ],
   "source": [
    "tf.math.log(tf.cast(H, tf.float32))"
   ],
   "metadata": {
    "collapsed": false,
    "ExecuteTime": {
     "end_time": "2024-11-12T16:17:59.183570Z",
     "start_time": "2024-11-12T16:17:59.132579Z"
    }
   }
  },
  {
   "cell_type": "code",
   "execution_count": 81,
   "outputs": [
    {
     "data": {
      "text/plain": "<tf.Tensor: shape=(3,), dtype=float64, numpy=array([ 3.,  7., 10.])>"
     },
     "execution_count": 81,
     "metadata": {},
     "output_type": "execute_result"
    }
   ],
   "source": [
    "J = tf.constant(np.array([3., 7., 10.]))\n",
    "J"
   ],
   "metadata": {
    "collapsed": false,
    "ExecuteTime": {
     "end_time": "2024-11-12T16:17:59.183851Z",
     "start_time": "2024-11-12T16:17:59.165220Z"
    }
   }
  },
  {
   "cell_type": "code",
   "execution_count": 82,
   "outputs": [
    {
     "data": {
      "text/plain": "(array([ 3.,  7., 10.]), numpy.ndarray)"
     },
     "execution_count": 82,
     "metadata": {},
     "output_type": "execute_result"
    }
   ],
   "source": [
    "np.array(J), type(np.array(J))"
   ],
   "metadata": {
    "collapsed": false,
    "ExecuteTime": {
     "end_time": "2024-11-12T16:17:59.184001Z",
     "start_time": "2024-11-12T16:17:59.169082Z"
    }
   }
  },
  {
   "cell_type": "code",
   "execution_count": 83,
   "outputs": [
    {
     "data": {
      "text/plain": "(array([ 3.,  7., 10.]), numpy.ndarray)"
     },
     "execution_count": 83,
     "metadata": {},
     "output_type": "execute_result"
    }
   ],
   "source": [
    "J.numpy(), type(J.numpy())"
   ],
   "metadata": {
    "collapsed": false,
    "ExecuteTime": {
     "end_time": "2024-11-12T16:17:59.184110Z",
     "start_time": "2024-11-12T16:17:59.172921Z"
    }
   }
  },
  {
   "cell_type": "code",
   "execution_count": 84,
   "outputs": [
    {
     "data": {
      "text/plain": "3.0"
     },
     "execution_count": 84,
     "metadata": {},
     "output_type": "execute_result"
    }
   ],
   "source": [
    "J = tf.constant([3.])\n",
    "J.numpy()[0]"
   ],
   "metadata": {
    "collapsed": false,
    "ExecuteTime": {
     "end_time": "2024-11-12T16:17:59.186283Z",
     "start_time": "2024-11-12T16:17:59.176592Z"
    }
   }
  },
  {
   "cell_type": "code",
   "execution_count": 85,
   "outputs": [
    {
     "data": {
      "text/plain": "(tf.float64, tf.float32)"
     },
     "execution_count": 85,
     "metadata": {},
     "output_type": "execute_result"
    }
   ],
   "source": [
    "numpy_J = tf.constant(np.array([3., 7., 10.]))\n",
    "tensor_J = tf.constant([3., 7., 10.])\n",
    "\n",
    "numpy_J.dtype, tensor_J.dtype"
   ],
   "metadata": {
    "collapsed": false,
    "ExecuteTime": {
     "end_time": "2024-11-12T16:17:59.186439Z",
     "start_time": "2024-11-12T16:17:59.181233Z"
    }
   }
  },
  {
   "cell_type": "code",
   "execution_count": 2,
   "outputs": [
    {
     "name": "stderr",
     "output_type": "stream",
     "text": [
      "/Users/user/PycharmProjects/TensorFlow_for_Deep_Learning_Bootcamp/venv/lib/python3.9/site-packages/urllib3/__init__.py:35: NotOpenSSLWarning: urllib3 v2 only supports OpenSSL 1.1.1+, currently the 'ssl' module is compiled with 'LibreSSL 2.8.3'. See: https://github.com/urllib3/urllib3/issues/3020\n",
      "  warnings.warn(\n"
     ]
    },
    {
     "data": {
      "text/plain": "[PhysicalDevice(name='/physical_device:CPU:0', device_type='CPU'),\n PhysicalDevice(name='/physical_device:GPU:0', device_type='GPU')]"
     },
     "execution_count": 2,
     "metadata": {},
     "output_type": "execute_result"
    }
   ],
   "source": [
    "import tensorflow as tf\n",
    "tf.config.list_physical_devices()"
   ],
   "metadata": {
    "collapsed": false,
    "ExecuteTime": {
     "end_time": "2024-11-12T16:23:59.572897Z",
     "start_time": "2024-11-12T16:23:56.672098Z"
    }
   }
  },
  {
   "cell_type": "code",
   "execution_count": 87,
   "outputs": [
    {
     "data": {
      "text/plain": "'2.16.2'"
     },
     "execution_count": 87,
     "metadata": {},
     "output_type": "execute_result"
    }
   ],
   "source": [
    "tf.__version__"
   ],
   "metadata": {
    "collapsed": false,
    "ExecuteTime": {
     "end_time": "2024-11-12T16:17:59.215812Z",
     "start_time": "2024-11-12T16:17:59.187262Z"
    }
   }
  },
  {
   "cell_type": "code",
   "execution_count": 88,
   "outputs": [
    {
     "name": "stdout",
     "output_type": "stream",
     "text": [
      "Requirement already satisfied: tensorflow-macos in /Users/user/PycharmProjects/TensorFlow_for_Deep_Learning_Bootcamp/venv/lib/python3.9/site-packages (2.16.2)\r\n",
      "Requirement already satisfied: tensorflow==2.16.2 in /Users/user/PycharmProjects/TensorFlow_for_Deep_Learning_Bootcamp/venv/lib/python3.9/site-packages (from tensorflow-macos) (2.16.2)\r\n",
      "Requirement already satisfied: absl-py>=1.0.0 in /Users/user/PycharmProjects/TensorFlow_for_Deep_Learning_Bootcamp/venv/lib/python3.9/site-packages (from tensorflow==2.16.2->tensorflow-macos) (2.1.0)\r\n",
      "Requirement already satisfied: astunparse>=1.6.0 in /Users/user/PycharmProjects/TensorFlow_for_Deep_Learning_Bootcamp/venv/lib/python3.9/site-packages (from tensorflow==2.16.2->tensorflow-macos) (1.6.3)\r\n",
      "Requirement already satisfied: flatbuffers>=23.5.26 in /Users/user/PycharmProjects/TensorFlow_for_Deep_Learning_Bootcamp/venv/lib/python3.9/site-packages (from tensorflow==2.16.2->tensorflow-macos) (24.3.25)\r\n",
      "Requirement already satisfied: gast!=0.5.0,!=0.5.1,!=0.5.2,>=0.2.1 in /Users/user/PycharmProjects/TensorFlow_for_Deep_Learning_Bootcamp/venv/lib/python3.9/site-packages (from tensorflow==2.16.2->tensorflow-macos) (0.6.0)\r\n",
      "Requirement already satisfied: google-pasta>=0.1.1 in /Users/user/PycharmProjects/TensorFlow_for_Deep_Learning_Bootcamp/venv/lib/python3.9/site-packages (from tensorflow==2.16.2->tensorflow-macos) (0.2.0)\r\n",
      "Requirement already satisfied: h5py>=3.10.0 in /Users/user/PycharmProjects/TensorFlow_for_Deep_Learning_Bootcamp/venv/lib/python3.9/site-packages (from tensorflow==2.16.2->tensorflow-macos) (3.12.1)\r\n",
      "Requirement already satisfied: libclang>=13.0.0 in /Users/user/PycharmProjects/TensorFlow_for_Deep_Learning_Bootcamp/venv/lib/python3.9/site-packages (from tensorflow==2.16.2->tensorflow-macos) (18.1.1)\r\n",
      "Requirement already satisfied: ml-dtypes~=0.3.1 in /Users/user/PycharmProjects/TensorFlow_for_Deep_Learning_Bootcamp/venv/lib/python3.9/site-packages (from tensorflow==2.16.2->tensorflow-macos) (0.3.2)\r\n",
      "Requirement already satisfied: opt-einsum>=2.3.2 in /Users/user/PycharmProjects/TensorFlow_for_Deep_Learning_Bootcamp/venv/lib/python3.9/site-packages (from tensorflow==2.16.2->tensorflow-macos) (3.4.0)\r\n",
      "Requirement already satisfied: packaging in /Users/user/PycharmProjects/TensorFlow_for_Deep_Learning_Bootcamp/venv/lib/python3.9/site-packages (from tensorflow==2.16.2->tensorflow-macos) (24.2)\r\n",
      "Requirement already satisfied: protobuf!=4.21.0,!=4.21.1,!=4.21.2,!=4.21.3,!=4.21.4,!=4.21.5,<5.0.0dev,>=3.20.3 in /Users/user/PycharmProjects/TensorFlow_for_Deep_Learning_Bootcamp/venv/lib/python3.9/site-packages (from tensorflow==2.16.2->tensorflow-macos) (4.25.5)\r\n",
      "Requirement already satisfied: requests<3,>=2.21.0 in /Users/user/PycharmProjects/TensorFlow_for_Deep_Learning_Bootcamp/venv/lib/python3.9/site-packages (from tensorflow==2.16.2->tensorflow-macos) (2.32.3)\r\n",
      "Requirement already satisfied: setuptools in /Users/user/PycharmProjects/TensorFlow_for_Deep_Learning_Bootcamp/venv/lib/python3.9/site-packages (from tensorflow==2.16.2->tensorflow-macos) (68.2.0)\r\n",
      "Requirement already satisfied: six>=1.12.0 in /Users/user/PycharmProjects/TensorFlow_for_Deep_Learning_Bootcamp/venv/lib/python3.9/site-packages (from tensorflow==2.16.2->tensorflow-macos) (1.16.0)\r\n",
      "Requirement already satisfied: termcolor>=1.1.0 in /Users/user/PycharmProjects/TensorFlow_for_Deep_Learning_Bootcamp/venv/lib/python3.9/site-packages (from tensorflow==2.16.2->tensorflow-macos) (2.5.0)\r\n",
      "Requirement already satisfied: typing-extensions>=3.6.6 in /Users/user/PycharmProjects/TensorFlow_for_Deep_Learning_Bootcamp/venv/lib/python3.9/site-packages (from tensorflow==2.16.2->tensorflow-macos) (4.12.2)\r\n",
      "Requirement already satisfied: wrapt>=1.11.0 in /Users/user/PycharmProjects/TensorFlow_for_Deep_Learning_Bootcamp/venv/lib/python3.9/site-packages (from tensorflow==2.16.2->tensorflow-macos) (1.16.0)\r\n",
      "Requirement already satisfied: grpcio<2.0,>=1.24.3 in /Users/user/PycharmProjects/TensorFlow_for_Deep_Learning_Bootcamp/venv/lib/python3.9/site-packages (from tensorflow==2.16.2->tensorflow-macos) (1.67.1)\r\n",
      "Requirement already satisfied: tensorboard<2.17,>=2.16 in /Users/user/PycharmProjects/TensorFlow_for_Deep_Learning_Bootcamp/venv/lib/python3.9/site-packages (from tensorflow==2.16.2->tensorflow-macos) (2.16.2)\r\n",
      "Requirement already satisfied: keras>=3.0.0 in /Users/user/PycharmProjects/TensorFlow_for_Deep_Learning_Bootcamp/venv/lib/python3.9/site-packages (from tensorflow==2.16.2->tensorflow-macos) (3.5.0)\r\n",
      "Requirement already satisfied: tensorflow-io-gcs-filesystem>=0.23.1 in /Users/user/PycharmProjects/TensorFlow_for_Deep_Learning_Bootcamp/venv/lib/python3.9/site-packages (from tensorflow==2.16.2->tensorflow-macos) (0.37.1)\r\n",
      "Requirement already satisfied: numpy<2.0.0,>=1.23.5 in /Users/user/PycharmProjects/TensorFlow_for_Deep_Learning_Bootcamp/venv/lib/python3.9/site-packages (from tensorflow==2.16.2->tensorflow-macos) (1.26.4)\r\n",
      "Requirement already satisfied: wheel<1.0,>=0.23.0 in /Users/user/PycharmProjects/TensorFlow_for_Deep_Learning_Bootcamp/venv/lib/python3.9/site-packages (from astunparse>=1.6.0->tensorflow==2.16.2->tensorflow-macos) (0.41.2)\r\n",
      "Requirement already satisfied: rich in /Users/user/PycharmProjects/TensorFlow_for_Deep_Learning_Bootcamp/venv/lib/python3.9/site-packages (from keras>=3.0.0->tensorflow==2.16.2->tensorflow-macos) (13.9.4)\r\n",
      "Requirement already satisfied: namex in /Users/user/PycharmProjects/TensorFlow_for_Deep_Learning_Bootcamp/venv/lib/python3.9/site-packages (from keras>=3.0.0->tensorflow==2.16.2->tensorflow-macos) (0.0.8)\r\n",
      "Requirement already satisfied: optree in /Users/user/PycharmProjects/TensorFlow_for_Deep_Learning_Bootcamp/venv/lib/python3.9/site-packages (from keras>=3.0.0->tensorflow==2.16.2->tensorflow-macos) (0.13.0)\r\n",
      "Requirement already satisfied: charset-normalizer<4,>=2 in /Users/user/PycharmProjects/TensorFlow_for_Deep_Learning_Bootcamp/venv/lib/python3.9/site-packages (from requests<3,>=2.21.0->tensorflow==2.16.2->tensorflow-macos) (3.4.0)\r\n",
      "Requirement already satisfied: idna<4,>=2.5 in /Users/user/PycharmProjects/TensorFlow_for_Deep_Learning_Bootcamp/venv/lib/python3.9/site-packages (from requests<3,>=2.21.0->tensorflow==2.16.2->tensorflow-macos) (3.10)\r\n",
      "Requirement already satisfied: urllib3<3,>=1.21.1 in /Users/user/PycharmProjects/TensorFlow_for_Deep_Learning_Bootcamp/venv/lib/python3.9/site-packages (from requests<3,>=2.21.0->tensorflow==2.16.2->tensorflow-macos) (2.2.3)\r\n",
      "Requirement already satisfied: certifi>=2017.4.17 in /Users/user/PycharmProjects/TensorFlow_for_Deep_Learning_Bootcamp/venv/lib/python3.9/site-packages (from requests<3,>=2.21.0->tensorflow==2.16.2->tensorflow-macos) (2024.8.30)\r\n",
      "Requirement already satisfied: markdown>=2.6.8 in /Users/user/PycharmProjects/TensorFlow_for_Deep_Learning_Bootcamp/venv/lib/python3.9/site-packages (from tensorboard<2.17,>=2.16->tensorflow==2.16.2->tensorflow-macos) (3.7)\r\n",
      "Requirement already satisfied: tensorboard-data-server<0.8.0,>=0.7.0 in /Users/user/PycharmProjects/TensorFlow_for_Deep_Learning_Bootcamp/venv/lib/python3.9/site-packages (from tensorboard<2.17,>=2.16->tensorflow==2.16.2->tensorflow-macos) (0.7.2)\r\n",
      "Requirement already satisfied: werkzeug>=1.0.1 in /Users/user/PycharmProjects/TensorFlow_for_Deep_Learning_Bootcamp/venv/lib/python3.9/site-packages (from tensorboard<2.17,>=2.16->tensorflow==2.16.2->tensorflow-macos) (3.1.3)\r\n",
      "Requirement already satisfied: importlib-metadata>=4.4 in /Users/user/PycharmProjects/TensorFlow_for_Deep_Learning_Bootcamp/venv/lib/python3.9/site-packages (from markdown>=2.6.8->tensorboard<2.17,>=2.16->tensorflow==2.16.2->tensorflow-macos) (8.5.0)\r\n",
      "Requirement already satisfied: MarkupSafe>=2.1.1 in /Users/user/PycharmProjects/TensorFlow_for_Deep_Learning_Bootcamp/venv/lib/python3.9/site-packages (from werkzeug>=1.0.1->tensorboard<2.17,>=2.16->tensorflow==2.16.2->tensorflow-macos) (3.0.2)\r\n",
      "Requirement already satisfied: markdown-it-py>=2.2.0 in /Users/user/PycharmProjects/TensorFlow_for_Deep_Learning_Bootcamp/venv/lib/python3.9/site-packages (from rich->keras>=3.0.0->tensorflow==2.16.2->tensorflow-macos) (3.0.0)\r\n",
      "Requirement already satisfied: pygments<3.0.0,>=2.13.0 in /Users/user/PycharmProjects/TensorFlow_for_Deep_Learning_Bootcamp/venv/lib/python3.9/site-packages (from rich->keras>=3.0.0->tensorflow==2.16.2->tensorflow-macos) (2.18.0)\r\n",
      "Requirement already satisfied: zipp>=3.20 in /Users/user/PycharmProjects/TensorFlow_for_Deep_Learning_Bootcamp/venv/lib/python3.9/site-packages (from importlib-metadata>=4.4->markdown>=2.6.8->tensorboard<2.17,>=2.16->tensorflow==2.16.2->tensorflow-macos) (3.21.0)\r\n",
      "Requirement already satisfied: mdurl~=0.1 in /Users/user/PycharmProjects/TensorFlow_for_Deep_Learning_Bootcamp/venv/lib/python3.9/site-packages (from markdown-it-py>=2.2.0->rich->keras>=3.0.0->tensorflow==2.16.2->tensorflow-macos) (0.1.2)\r\n"
     ]
    }
   ],
   "source": [
    "!pip install tensorflow-macos"
   ],
   "metadata": {
    "collapsed": false,
    "ExecuteTime": {
     "end_time": "2024-11-12T16:17:59.807634Z",
     "start_time": "2024-11-12T16:17:59.189956Z"
    }
   }
  },
  {
   "cell_type": "code",
   "execution_count": 89,
   "outputs": [
    {
     "name": "stdout",
     "output_type": "stream",
     "text": [
      "Requirement already satisfied: tensorflow-metal in /Users/user/PycharmProjects/TensorFlow_for_Deep_Learning_Bootcamp/venv/lib/python3.9/site-packages (1.1.0)\r\n",
      "Requirement already satisfied: wheel~=0.35 in /Users/user/PycharmProjects/TensorFlow_for_Deep_Learning_Bootcamp/venv/lib/python3.9/site-packages (from tensorflow-metal) (0.41.2)\r\n",
      "Requirement already satisfied: six>=1.15.0 in /Users/user/PycharmProjects/TensorFlow_for_Deep_Learning_Bootcamp/venv/lib/python3.9/site-packages (from tensorflow-metal) (1.16.0)\r\n"
     ]
    }
   ],
   "source": [
    "!pip install tensorflow-metal"
   ],
   "metadata": {
    "collapsed": false,
    "ExecuteTime": {
     "end_time": "2024-11-12T16:18:00.307492Z",
     "start_time": "2024-11-12T16:17:59.808669Z"
    }
   }
  },
  {
   "cell_type": "code",
   "execution_count": 4,
   "outputs": [],
   "source": [
    "scalar = tf.constant(1.)\n",
    "vector = tf.constant([1., 2.])\n",
    "matrix = tf.constant([[1., 2.],[3., 4.]])\n",
    "tensor = tf.constant(tf.random.uniform(shape=(3, 4, 5)))"
   ],
   "metadata": {
    "collapsed": false,
    "ExecuteTime": {
     "end_time": "2024-11-12T16:24:47.086254Z",
     "start_time": "2024-11-12T16:24:47.044979Z"
    }
   }
  },
  {
   "cell_type": "code",
   "execution_count": 6,
   "outputs": [
    {
     "name": "stdout",
     "output_type": "stream",
     "text": [
      "() 0 tf.Tensor(1, shape=(), dtype=int32)\n",
      "(2,) 1 tf.Tensor(2, shape=(), dtype=int32)\n",
      "(2, 2) 2 tf.Tensor(4, shape=(), dtype=int32)\n",
      "(3, 4, 5) 3 tf.Tensor(60, shape=(), dtype=int32)\n"
     ]
    }
   ],
   "source": [
    "def print_2(sample):\n",
    " print(sample.shape, sample.ndim, tf.size(sample))\n",
    " \n",
    "print_2(scalar)\n",
    "print_2(vector)\n",
    "print_2(matrix)\n",
    "print_2(tensor)"
   ],
   "metadata": {
    "collapsed": false,
    "ExecuteTime": {
     "end_time": "2024-11-12T16:26:14.822248Z",
     "start_time": "2024-11-12T16:26:14.804968Z"
    }
   }
  },
  {
   "cell_type": "code",
   "execution_count": 11,
   "outputs": [],
   "source": [
    "t1 = tf.random.uniform((5, 300), 0, 1)\n",
    "t2 = tf.random.uniform((5, 300), 0, 1)"
   ],
   "metadata": {
    "collapsed": false,
    "ExecuteTime": {
     "end_time": "2024-11-12T16:29:24.003732Z",
     "start_time": "2024-11-12T16:29:23.990204Z"
    }
   }
  },
  {
   "cell_type": "code",
   "execution_count": 13,
   "outputs": [
    {
     "data": {
      "text/plain": "<tf.Tensor: shape=(5, 5), dtype=float32, numpy=\narray([[ 98.34755 ,  80.0121  ,  76.37611 ,  70.609406,  74.27988 ],\n       [ 80.0121  , 107.65361 ,  74.474396,  72.36779 ,  79.742485],\n       [ 76.37611 ,  74.474396,  99.23935 ,  71.1331  ,  72.19905 ],\n       [ 70.609406,  72.36779 ,  71.1331  ,  89.66724 ,  69.214325],\n       [ 74.27988 ,  79.742485,  72.19905 ,  69.214325,  99.42442 ]],\n      dtype=float32)>"
     },
     "execution_count": 13,
     "metadata": {},
     "output_type": "execute_result"
    }
   ],
   "source": [
    "tf.matmul(t1, t2, transpose_b=True)"
   ],
   "metadata": {
    "collapsed": false,
    "ExecuteTime": {
     "end_time": "2024-11-12T16:30:00.234252Z",
     "start_time": "2024-11-12T16:29:59.663975Z"
    }
   }
  },
  {
   "cell_type": "code",
   "execution_count": 15,
   "outputs": [
    {
     "data": {
      "text/plain": "<tf.Tensor: shape=(5, 5), dtype=float32, numpy=\narray([[ 98.34755 ,  80.0121  ,  76.37611 ,  70.609406,  74.27988 ],\n       [ 80.0121  , 107.65361 ,  74.474396,  72.36779 ,  79.742485],\n       [ 76.37611 ,  74.474396,  99.23935 ,  71.1331  ,  72.19905 ],\n       [ 70.609406,  72.36779 ,  71.1331  ,  89.66724 ,  69.214325],\n       [ 74.27988 ,  79.742485,  72.19905 ,  69.214325,  99.42442 ]],\n      dtype=float32)>"
     },
     "execution_count": 15,
     "metadata": {},
     "output_type": "execute_result"
    }
   ],
   "source": [
    "tf.tensordot(t1, tf.transpose(t2), axes=1)"
   ],
   "metadata": {
    "collapsed": false,
    "ExecuteTime": {
     "end_time": "2024-11-12T16:30:32.154861Z",
     "start_time": "2024-11-12T16:30:31.861291Z"
    }
   }
  },
  {
   "cell_type": "code",
   "execution_count": 16,
   "outputs": [],
   "source": [
    "t6 = tf.random.uniform((224, 224, 3), 0, 1)"
   ],
   "metadata": {
    "collapsed": false,
    "ExecuteTime": {
     "end_time": "2024-11-12T16:32:03.076764Z",
     "start_time": "2024-11-12T16:32:03.036640Z"
    }
   }
  },
  {
   "cell_type": "code",
   "execution_count": 18,
   "outputs": [
    {
     "name": "stdout",
     "output_type": "stream",
     "text": [
      "tf.Tensor(4.053116e-06, shape=(), dtype=float32)\n",
      "tf.Tensor(0.99998736, shape=(), dtype=float32)\n"
     ]
    }
   ],
   "source": [
    "print(tf.reduce_min(t6))\n",
    "print(tf.reduce_max(t6))"
   ],
   "metadata": {
    "collapsed": false,
    "ExecuteTime": {
     "end_time": "2024-11-12T16:32:33.357973Z",
     "start_time": "2024-11-12T16:32:33.221394Z"
    }
   }
  },
  {
   "cell_type": "code",
   "execution_count": 19,
   "outputs": [
    {
     "name": "stdout",
     "output_type": "stream",
     "text": [
      "tf.Tensor(\n",
      "[[[0.31179297 0.8263413  0.6849456 ]\n",
      "  [0.0067091  0.78749514 0.3906511 ]\n",
      "  [0.29263055 0.99216926 0.95810425]\n",
      "  ...\n",
      "  [0.43970728 0.976676   0.8946736 ]\n",
      "  [0.9747398  0.7011992  0.73613393]\n",
      "  [0.4360633  0.7536833  0.01353109]]\n",
      "\n",
      " [[0.2823602  0.0927937  0.2424469 ]\n",
      "  [0.92214036 0.1318667  0.18895125]\n",
      "  [0.13469017 0.29916108 0.22880554]\n",
      "  ...\n",
      "  [0.10263181 0.3771491  0.7380618 ]\n",
      "  [0.6484846  0.69211054 0.67284966]\n",
      "  [0.43589175 0.48166    0.14082742]]\n",
      "\n",
      " [[0.41235518 0.45162737 0.6804353 ]\n",
      "  [0.04887676 0.6775023  0.29143417]\n",
      "  [0.3466624  0.17450547 0.38451958]\n",
      "  ...\n",
      "  [0.8667455  0.16113937 0.67500424]\n",
      "  [0.8560462  0.48929954 0.97561824]\n",
      "  [0.5725883  0.8036673  0.3923154 ]]\n",
      "\n",
      " ...\n",
      "\n",
      " [[0.68855166 0.3706571  0.03126299]\n",
      "  [0.61133444 0.21750414 0.9080095 ]\n",
      "  [0.20064199 0.31340492 0.85072494]\n",
      "  ...\n",
      "  [0.8053781  0.54289234 0.08450699]\n",
      "  [0.6037886  0.0091573  0.14664805]\n",
      "  [0.36727667 0.66913784 0.9003469 ]]\n",
      "\n",
      " [[0.4256966  0.88771296 0.6295724 ]\n",
      "  [0.99141705 0.49446368 0.28761828]\n",
      "  [0.18791914 0.23971832 0.9050621 ]\n",
      "  ...\n",
      "  [0.871716   0.18161333 0.5948199 ]\n",
      "  [0.41212344 0.57436764 0.69658744]\n",
      "  [0.64828384 0.0412488  0.70286477]]\n",
      "\n",
      " [[0.48708987 0.24799585 0.5379176 ]\n",
      "  [0.21690464 0.206483   0.40172505]\n",
      "  [0.8851794  0.11487484 0.05643916]\n",
      "  ...\n",
      "  [0.97581923 0.1263851  0.1536969 ]\n",
      "  [0.47106755 0.2772559  0.00255883]\n",
      "  [0.16718328 0.01739931 0.56322515]]], shape=(224, 224, 3), dtype=float32)\n"
     ]
    }
   ],
   "source": [
    "t8 = tf.random.uniform((1,224,224,3), 0, 1)\n",
    "print(tf.squeeze(t8))"
   ],
   "metadata": {
    "collapsed": false,
    "ExecuteTime": {
     "end_time": "2024-11-12T16:33:07.396394Z",
     "start_time": "2024-11-12T16:33:07.283753Z"
    }
   }
  },
  {
   "cell_type": "code",
   "execution_count": 20,
   "outputs": [
    {
     "name": "stdout",
     "output_type": "stream",
     "text": [
      "tf.Tensor(9, shape=(), dtype=int64)\n"
     ]
    }
   ],
   "source": [
    "t9 = tf.constant([1,2,3,4,5,6,7,8,9,10])\n",
    "print(tf.argmax(t9))"
   ],
   "metadata": {
    "collapsed": false,
    "ExecuteTime": {
     "end_time": "2024-11-12T16:34:03.331292Z",
     "start_time": "2024-11-12T16:34:03.273255Z"
    }
   }
  },
  {
   "cell_type": "code",
   "execution_count": 21,
   "outputs": [
    {
     "data": {
      "text/plain": "<tf.Tensor: shape=(10, 10), dtype=float32, numpy=\narray([[0., 1., 0., 0., 0., 0., 0., 0., 0., 0.],\n       [0., 0., 1., 0., 0., 0., 0., 0., 0., 0.],\n       [0., 0., 0., 1., 0., 0., 0., 0., 0., 0.],\n       [0., 0., 0., 0., 1., 0., 0., 0., 0., 0.],\n       [0., 0., 0., 0., 0., 1., 0., 0., 0., 0.],\n       [0., 0., 0., 0., 0., 0., 1., 0., 0., 0.],\n       [0., 0., 0., 0., 0., 0., 0., 1., 0., 0.],\n       [0., 0., 0., 0., 0., 0., 0., 0., 1., 0.],\n       [0., 0., 0., 0., 0., 0., 0., 0., 0., 1.],\n       [0., 0., 0., 0., 0., 0., 0., 0., 0., 0.]], dtype=float32)>"
     },
     "execution_count": 21,
     "metadata": {},
     "output_type": "execute_result"
    }
   ],
   "source": [
    "tf.one_hot(t9, len(t9))"
   ],
   "metadata": {
    "collapsed": false,
    "ExecuteTime": {
     "end_time": "2024-11-12T16:34:24.426162Z",
     "start_time": "2024-11-12T16:34:24.375016Z"
    }
   }
  },
  {
   "cell_type": "markdown",
   "source": [
    "https://www.tensorflow.org/api_docs/python/tf/einsum"
   ],
   "metadata": {
    "collapsed": false
   }
  },
  {
   "cell_type": "code",
   "execution_count": 66,
   "outputs": [
    {
     "name": "stdout",
     "output_type": "stream",
     "text": [
      "tf.Tensor(\n",
      "[[ 2.3321762  -0.88794357]\n",
      " [-0.88794357  1.2332839 ]], shape=(2, 2), dtype=float32)\n",
      "tf.Tensor(\n",
      "[[ 2.3321762  -0.88794357]\n",
      " [-0.88794357  1.2332839 ]], shape=(2, 2), dtype=float32)\n",
      "tf.Tensor(\n",
      "[[ 2.3321762  -0.88794357]\n",
      " [-0.88794357  1.2332839 ]], shape=(2, 2), dtype=float32)\n",
      "tf.Tensor(\n",
      "[[ 2.3321762 -0.8879435]\n",
      " [-0.8879435  1.2332839]], shape=(2, 2), dtype=float32)\n",
      "0.9327361669998027\n",
      "0.3919327080002404\n",
      "1.370832457999768\n",
      "0.1666867080002703\n"
     ]
    }
   ],
   "source": [
    "import timeit\n",
    "\n",
    "X = tf.random.normal((2,3))\n",
    "Y = tf.random.normal((2,3))\n",
    "\n",
    "print(tf.matmul(X,tf.transpose(Y)))\n",
    "print(tf.matmul(X,Y, transpose_b=True))\n",
    "print(tf.tensordot(X, tf.transpose(Y), axes=1))\n",
    "print(tf.einsum('ik,jk->ij', X, Y))\n",
    "\n",
    "print(timeit.timeit(lambda: tf.matmul(X,tf.transpose(Y)), number=10000))\n",
    "print(timeit.timeit(lambda: tf.matmul(X,Y, transpose_b=True), number=10000))\n",
    "print(timeit.timeit(lambda: tf.tensordot(X, tf.transpose(Y), axes=1), number=10000))\n",
    "print(timeit.timeit(lambda: tf.einsum('ik,jk->ij', X, Y), number=10000))"
   ],
   "metadata": {
    "collapsed": false,
    "ExecuteTime": {
     "end_time": "2024-11-12T17:04:11.210112Z",
     "start_time": "2024-11-12T17:04:08.338322Z"
    }
   }
  },
  {
   "cell_type": "code",
   "execution_count": 67,
   "outputs": [
    {
     "name": "stdout",
     "output_type": "stream",
     "text": [
      "tf.Tensor(\n",
      "[[[ 3.2798784   0.51854265 -2.786354  ]\n",
      "  [ 0.51854265  2.828868   -1.3231732 ]\n",
      "  [-2.786354   -1.3231732   7.6572614 ]]\n",
      "\n",
      " [[ 4.5611253  -2.0525615  -0.27128035]\n",
      "  [-2.0525615   5.481697   -3.3955414 ]\n",
      "  [-0.27128035 -3.3955414   3.4017682 ]]], shape=(2, 3, 3), dtype=float32)\n",
      "tf.Tensor(\n",
      "[[[ 3.2798781   0.5185426  -2.786354  ]\n",
      "  [ 0.5185426   2.828868   -1.3231733 ]\n",
      "  [-2.786354   -1.3231733   7.6572614 ]]\n",
      "\n",
      " [[ 4.5611253  -2.0525618  -0.27128035]\n",
      "  [-2.0525618   5.481697   -3.3955417 ]\n",
      "  [-0.27128035 -3.3955417   3.4017682 ]]], shape=(2, 3, 3), dtype=float32)\n",
      "0.4083901250000963\n",
      "0.16653825000003053\n"
     ]
    }
   ],
   "source": [
    "A = tf.random.normal((2,3,5))\n",
    "B = tf.random.normal((2,3,5))\n",
    "\n",
    "print(tf.matmul(A, B, transpose_b=True))\n",
    "print(tf.einsum('bik,bjk->bij',A, B))\n",
    "\n",
    "print(timeit.timeit(lambda: tf.matmul(A, B, transpose_b=True), number=10000))\n",
    "print(timeit.timeit(lambda: tf.einsum('bik,bjk->bij',A, B), number=10000))"
   ],
   "metadata": {
    "collapsed": false,
    "ExecuteTime": {
     "end_time": "2024-11-12T17:06:33.876242Z",
     "start_time": "2024-11-12T17:06:33.273249Z"
    }
   }
  },
  {
   "cell_type": "code",
   "execution_count": 82,
   "outputs": [],
   "source": [
    "mnist = tf.keras.datasets.mnist\n",
    "\n",
    "(x_train, y_train), (x_test, y_test) = mnist.load_data()\n",
    "x_train, x_test = x_train / 255.0, x_test / 255.0"
   ],
   "metadata": {
    "collapsed": false,
    "ExecuteTime": {
     "end_time": "2024-11-12T17:11:50.672794Z",
     "start_time": "2024-11-12T17:11:50.543818Z"
    }
   }
  },
  {
   "cell_type": "code",
   "execution_count": 83,
   "outputs": [
    {
     "name": "stderr",
     "output_type": "stream",
     "text": [
      "/Users/user/PycharmProjects/TensorFlow_for_Deep_Learning_Bootcamp/venv/lib/python3.9/site-packages/keras/src/layers/reshaping/flatten.py:37: UserWarning: Do not pass an `input_shape`/`input_dim` argument to a layer. When using Sequential models, prefer using an `Input(shape)` object as the first layer in the model instead.\n",
      "  super().__init__(**kwargs)\n"
     ]
    }
   ],
   "source": [
    "model = tf.keras.models.Sequential([\n",
    " tf.keras.layers.Flatten(input_shape=(28, 28)),\n",
    " tf.keras.layers.Dense(128, activation='relu'),\n",
    " tf.keras.layers.Dropout(0.2),\n",
    " tf.keras.layers.Dense(10)\n",
    "])"
   ],
   "metadata": {
    "collapsed": false,
    "ExecuteTime": {
     "end_time": "2024-11-12T17:13:02.410091Z",
     "start_time": "2024-11-12T17:13:02.249645Z"
    }
   }
  },
  {
   "cell_type": "code",
   "execution_count": 85,
   "outputs": [],
   "source": [
    "predictions = model(x_train[:1]).numpy()"
   ],
   "metadata": {
    "collapsed": false,
    "ExecuteTime": {
     "end_time": "2024-11-12T17:14:25.288458Z",
     "start_time": "2024-11-12T17:14:24.571013Z"
    }
   }
  },
  {
   "cell_type": "code",
   "execution_count": 86,
   "outputs": [
    {
     "data": {
      "text/plain": "array([[ 0.4359669 ,  0.12342291,  0.2785663 , -0.77384734,  0.3951696 ,\n         0.8109244 , -0.20347536, -0.48026335, -0.11645067,  0.1171076 ]],\n      dtype=float32)"
     },
     "execution_count": 86,
     "metadata": {},
     "output_type": "execute_result"
    }
   ],
   "source": [
    "predictions"
   ],
   "metadata": {
    "collapsed": false,
    "ExecuteTime": {
     "end_time": "2024-11-12T17:14:35.248970Z",
     "start_time": "2024-11-12T17:14:35.192873Z"
    }
   }
  },
  {
   "cell_type": "code",
   "execution_count": 89,
   "outputs": [
    {
     "data": {
      "text/plain": "array([[0.13281453, 0.09716492, 0.11347165, 0.03961229, 0.12750511,\n        0.19323581, 0.07007117, 0.05312903, 0.07644229, 0.09655323]],\n      dtype=float32)"
     },
     "execution_count": 89,
     "metadata": {},
     "output_type": "execute_result"
    }
   ],
   "source": [
    "tf.nn.softmax(predictions).numpy()"
   ],
   "metadata": {
    "collapsed": false,
    "ExecuteTime": {
     "end_time": "2024-11-12T17:16:08.155698Z",
     "start_time": "2024-11-12T17:16:08.135581Z"
    }
   }
  },
  {
   "cell_type": "code",
   "execution_count": 91,
   "outputs": [],
   "source": [
    "loss_fn = tf.keras.losses.SparseCategoricalCrossentropy(from_logits=True)"
   ],
   "metadata": {
    "collapsed": false,
    "ExecuteTime": {
     "end_time": "2024-11-12T17:17:14.415709Z",
     "start_time": "2024-11-12T17:17:14.387453Z"
    }
   }
  },
  {
   "cell_type": "code",
   "execution_count": 92,
   "outputs": [
    {
     "data": {
      "text/plain": "1.643844"
     },
     "execution_count": 92,
     "metadata": {},
     "output_type": "execute_result"
    }
   ],
   "source": [
    "loss_fn(y_train[:1], predictions).numpy()"
   ],
   "metadata": {
    "collapsed": false,
    "ExecuteTime": {
     "end_time": "2024-11-12T17:17:32.314196Z",
     "start_time": "2024-11-12T17:17:31.996907Z"
    }
   }
  },
  {
   "cell_type": "code",
   "execution_count": 93,
   "outputs": [],
   "source": [
    "model.compile(optimizer='adam', loss=loss_fn, metrics=['accuracy'])"
   ],
   "metadata": {
    "collapsed": false,
    "ExecuteTime": {
     "end_time": "2024-11-12T17:19:46.813038Z",
     "start_time": "2024-11-12T17:19:46.758369Z"
    }
   }
  },
  {
   "cell_type": "code",
   "execution_count": 94,
   "outputs": [
    {
     "name": "stdout",
     "output_type": "stream",
     "text": [
      "Epoch 1/5\n"
     ]
    },
    {
     "name": "stderr",
     "output_type": "stream",
     "text": [
      "2024-11-13 02:20:00.883639: I tensorflow/core/grappler/optimizers/custom_graph_optimizer_registry.cc:117] Plugin optimizer for device_type GPU is enabled.\n"
     ]
    },
    {
     "name": "stdout",
     "output_type": "stream",
     "text": [
      "\u001B[1m1875/1875\u001B[0m \u001B[32m━━━━━━━━━━━━━━━━━━━━\u001B[0m\u001B[37m\u001B[0m \u001B[1m14s\u001B[0m 6ms/step - accuracy: 0.8608 - loss: 0.4794\n",
      "Epoch 2/5\n",
      "\u001B[1m1875/1875\u001B[0m \u001B[32m━━━━━━━━━━━━━━━━━━━━\u001B[0m\u001B[37m\u001B[0m \u001B[1m13s\u001B[0m 7ms/step - accuracy: 0.9557 - loss: 0.1509\n",
      "Epoch 3/5\n",
      "\u001B[1m1875/1875\u001B[0m \u001B[32m━━━━━━━━━━━━━━━━━━━━\u001B[0m\u001B[37m\u001B[0m \u001B[1m13s\u001B[0m 7ms/step - accuracy: 0.9669 - loss: 0.1072\n",
      "Epoch 4/5\n",
      "\u001B[1m1875/1875\u001B[0m \u001B[32m━━━━━━━━━━━━━━━━━━━━\u001B[0m\u001B[37m\u001B[0m \u001B[1m13s\u001B[0m 7ms/step - accuracy: 0.9733 - loss: 0.0887\n",
      "Epoch 5/5\n",
      "\u001B[1m1875/1875\u001B[0m \u001B[32m━━━━━━━━━━━━━━━━━━━━\u001B[0m\u001B[37m\u001B[0m \u001B[1m14s\u001B[0m 7ms/step - accuracy: 0.9764 - loss: 0.0755\n"
     ]
    },
    {
     "data": {
      "text/plain": "<keras.src.callbacks.history.History at 0x3061687c0>"
     },
     "execution_count": 94,
     "metadata": {},
     "output_type": "execute_result"
    }
   ],
   "source": [
    "model.fit(x_train, y_train, epochs=5)"
   ],
   "metadata": {
    "collapsed": false,
    "ExecuteTime": {
     "end_time": "2024-11-12T17:21:08.073617Z",
     "start_time": "2024-11-12T17:20:00.386164Z"
    }
   }
  },
  {
   "cell_type": "code",
   "execution_count": 95,
   "outputs": [
    {
     "name": "stdout",
     "output_type": "stream",
     "text": [
      "313/313 - 1s - 4ms/step - accuracy: 0.9785 - loss: 0.0703\n"
     ]
    },
    {
     "data": {
      "text/plain": "[0.07030155509710312, 0.9785000085830688]"
     },
     "execution_count": 95,
     "metadata": {},
     "output_type": "execute_result"
    }
   ],
   "source": [
    "model.evaluate(x_test,  y_test, verbose=2)"
   ],
   "metadata": {
    "collapsed": false,
    "ExecuteTime": {
     "end_time": "2024-11-12T17:21:09.398979Z",
     "start_time": "2024-11-12T17:21:08.054058Z"
    }
   }
  },
  {
   "cell_type": "code",
   "execution_count": 96,
   "outputs": [],
   "source": [
    "probability_model = tf.keras.Sequential([\n",
    "  model,\n",
    "  tf.keras.layers.Softmax()\n",
    "])"
   ],
   "metadata": {
    "collapsed": false,
    "ExecuteTime": {
     "end_time": "2024-11-12T17:21:09.404180Z",
     "start_time": "2024-11-12T17:21:09.402040Z"
    }
   }
  },
  {
   "cell_type": "code",
   "execution_count": 97,
   "outputs": [
    {
     "data": {
      "text/plain": "<tf.Tensor: shape=(5, 10), dtype=float32, numpy=\narray([[7.90538035e-09, 5.29668087e-09, 2.17116917e-06, 5.64872935e-05,\n        3.65498430e-12, 1.21981009e-06, 1.18167113e-13, 9.99932647e-01,\n        9.93368303e-07, 6.35612969e-06],\n       [1.31168396e-10, 3.72042778e-05, 9.99941230e-01, 1.26756095e-05,\n        4.63613277e-15, 8.53995243e-06, 2.90682664e-07, 6.83314904e-15,\n        7.34585939e-08, 6.05854397e-16],\n       [8.66851266e-08, 9.98676240e-01, 9.64881838e-05, 3.38244581e-06,\n        1.02572631e-04, 5.55204542e-06, 6.75403953e-06, 7.73184816e-04,\n        3.35330347e-04, 3.37306375e-07],\n       [9.99951124e-01, 2.69727174e-09, 3.06216316e-05, 1.55055943e-07,\n        8.10769318e-09, 3.55405336e-06, 6.91632886e-06, 9.15805956e-08,\n        5.05572562e-09, 7.55222618e-06],\n       [2.26475368e-06, 2.59165883e-10, 5.78497156e-06, 4.47667468e-08,\n        9.97632384e-01, 4.71307580e-08, 4.98260051e-05, 6.82452228e-05,\n        4.98468637e-07, 2.24086642e-03]], dtype=float32)>"
     },
     "execution_count": 97,
     "metadata": {},
     "output_type": "execute_result"
    }
   ],
   "source": [
    "probability_model(x_test[:5])"
   ],
   "metadata": {
    "collapsed": false,
    "ExecuteTime": {
     "end_time": "2024-11-12T17:21:10.052487Z",
     "start_time": "2024-11-12T17:21:09.405657Z"
    }
   }
  },
  {
   "cell_type": "code",
   "execution_count": null,
   "outputs": [],
   "source": [],
   "metadata": {
    "collapsed": false
   }
  }
 ]
}
