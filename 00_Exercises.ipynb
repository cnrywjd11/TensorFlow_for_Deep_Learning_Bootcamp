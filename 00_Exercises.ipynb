{
  "nbformat": 4,
  "nbformat_minor": 0,
  "metadata": {
    "colab": {
      "provenance": []
    },
    "kernelspec": {
      "name": "python3",
      "display_name": "Python 3"
    },
    "language_info": {
      "name": "python"
    }
  },
  "cells": [
    {
      "cell_type": "code",
      "execution_count": 55,
      "metadata": {
        "colab": {
          "base_uri": "https://localhost:8080/"
        },
        "id": "S3q6kvjB0KIz",
        "outputId": "442a7691-510e-48a3-b387-a04df08ddba3"
      },
      "outputs": [
        {
          "output_type": "stream",
          "name": "stdout",
          "text": [
            "2.17.0\n",
            "1.26.4\n"
          ]
        }
      ],
      "source": [
        "import tensorflow as tf\n",
        "print(tf.__version__)\n",
        "import numpy as np\n",
        "print(np.__version__)"
      ]
    },
    {
      "cell_type": "markdown",
      "source": [
        "#### 1. Create a vector, scalar, matrix and tensor with values of your choosing using tf.constant()."
      ],
      "metadata": {
        "id": "4s7HlJfO0YIG"
      }
    },
    {
      "cell_type": "code",
      "source": [
        "vector = tf.constant([7])\n",
        "vector.ndim"
      ],
      "metadata": {
        "colab": {
          "base_uri": "https://localhost:8080/"
        },
        "id": "3gGu_Ogk0MBc",
        "outputId": "36ed1d7e-ccdb-4585-ca18-e11b0ffbf0fb"
      },
      "execution_count": 16,
      "outputs": [
        {
          "output_type": "execute_result",
          "data": {
            "text/plain": [
              "1"
            ]
          },
          "metadata": {},
          "execution_count": 16
        }
      ]
    },
    {
      "cell_type": "code",
      "source": [
        "scalar = tf.constant(7)\n",
        "scalar.ndim"
      ],
      "metadata": {
        "colab": {
          "base_uri": "https://localhost:8080/"
        },
        "id": "nvlijjE90jX_",
        "outputId": "d4000062-a229-41d9-ff9c-d5fb695177c1"
      },
      "execution_count": 17,
      "outputs": [
        {
          "output_type": "execute_result",
          "data": {
            "text/plain": [
              "0"
            ]
          },
          "metadata": {},
          "execution_count": 17
        }
      ]
    },
    {
      "cell_type": "code",
      "source": [
        "matrix = tf.constant([[1, 2], [3, 4]])\n",
        "matrix.ndim"
      ],
      "metadata": {
        "colab": {
          "base_uri": "https://localhost:8080/"
        },
        "id": "M1FB7h4d0o7-",
        "outputId": "bdfb0c05-c17c-47ba-96bf-d17568ec52a7"
      },
      "execution_count": 18,
      "outputs": [
        {
          "output_type": "execute_result",
          "data": {
            "text/plain": [
              "2"
            ]
          },
          "metadata": {},
          "execution_count": 18
        }
      ]
    },
    {
      "cell_type": "code",
      "source": [
        "tensor = tf.constant([[[1, 2], [3, 4]],\n",
        "                      [[5, 6], [7, 8]],\n",
        "                      [[9, 10], [11, 12]]])\n",
        "tensor"
      ],
      "metadata": {
        "colab": {
          "base_uri": "https://localhost:8080/"
        },
        "id": "FX3UPtw50vdW",
        "outputId": "1797d9e3-8a32-4a58-b254-02615065e511"
      },
      "execution_count": 19,
      "outputs": [
        {
          "output_type": "execute_result",
          "data": {
            "text/plain": [
              "<tf.Tensor: shape=(3, 2, 2), dtype=int32, numpy=\n",
              "array([[[ 1,  2],\n",
              "        [ 3,  4]],\n",
              "\n",
              "       [[ 5,  6],\n",
              "        [ 7,  8]],\n",
              "\n",
              "       [[ 9, 10],\n",
              "        [11, 12]]], dtype=int32)>"
            ]
          },
          "metadata": {},
          "execution_count": 19
        }
      ]
    },
    {
      "cell_type": "markdown",
      "source": [
        "#### 2. Find the shape, rank and size of the tensors you created in 1."
      ],
      "metadata": {
        "id": "5laudHh31QbT"
      }
    },
    {
      "cell_type": "code",
      "source": [
        "vector.shape, tf.rank(vector), tf.size(vector)"
      ],
      "metadata": {
        "colab": {
          "base_uri": "https://localhost:8080/"
        },
        "id": "4X8WRe6f1Ski",
        "outputId": "ed6bdd8e-a9a6-4e07-f29f-205e2d829461"
      },
      "execution_count": 21,
      "outputs": [
        {
          "output_type": "execute_result",
          "data": {
            "text/plain": [
              "(TensorShape([1]),\n",
              " <tf.Tensor: shape=(), dtype=int32, numpy=1>,\n",
              " <tf.Tensor: shape=(), dtype=int32, numpy=1>)"
            ]
          },
          "metadata": {},
          "execution_count": 21
        }
      ]
    },
    {
      "cell_type": "code",
      "source": [
        "scalar.shape, tf.rank(scalar), tf.size(scalar)"
      ],
      "metadata": {
        "colab": {
          "base_uri": "https://localhost:8080/"
        },
        "id": "e2Ox-YZx1VGx",
        "outputId": "f464df31-ef3e-4a20-919e-a9dfdebe6420"
      },
      "execution_count": 22,
      "outputs": [
        {
          "output_type": "execute_result",
          "data": {
            "text/plain": [
              "(TensorShape([]),\n",
              " <tf.Tensor: shape=(), dtype=int32, numpy=0>,\n",
              " <tf.Tensor: shape=(), dtype=int32, numpy=1>)"
            ]
          },
          "metadata": {},
          "execution_count": 22
        }
      ]
    },
    {
      "cell_type": "code",
      "source": [
        "matrix.shape, tf.rank(matrix), tf.size(matrix)"
      ],
      "metadata": {
        "colab": {
          "base_uri": "https://localhost:8080/"
        },
        "id": "nZ_ZS4Bs1WnH",
        "outputId": "a194b136-7ad2-48f2-f0f9-d8995113ae7b"
      },
      "execution_count": 23,
      "outputs": [
        {
          "output_type": "execute_result",
          "data": {
            "text/plain": [
              "(TensorShape([2, 2]),\n",
              " <tf.Tensor: shape=(), dtype=int32, numpy=2>,\n",
              " <tf.Tensor: shape=(), dtype=int32, numpy=4>)"
            ]
          },
          "metadata": {},
          "execution_count": 23
        }
      ]
    },
    {
      "cell_type": "code",
      "source": [
        "tensor.shape, tf.rank(tensor), tf.size(tensor)"
      ],
      "metadata": {
        "colab": {
          "base_uri": "https://localhost:8080/"
        },
        "id": "j-Ev8LcR1YaC",
        "outputId": "40547172-6f61-4d11-c20c-256be8370ddf"
      },
      "execution_count": 24,
      "outputs": [
        {
          "output_type": "execute_result",
          "data": {
            "text/plain": [
              "(TensorShape([3, 2, 2]),\n",
              " <tf.Tensor: shape=(), dtype=int32, numpy=3>,\n",
              " <tf.Tensor: shape=(), dtype=int32, numpy=12>)"
            ]
          },
          "metadata": {},
          "execution_count": 24
        }
      ]
    },
    {
      "cell_type": "code",
      "source": [],
      "metadata": {
        "id": "hK32zg_g1cF6"
      },
      "execution_count": null,
      "outputs": []
    },
    {
      "cell_type": "markdown",
      "source": [
        "#### 3. Create two tensors containing random values between 0 and 1 with shape [5, 300]."
      ],
      "metadata": {
        "id": "4sqIgMCD1f3N"
      }
    },
    {
      "cell_type": "code",
      "source": [
        "A = tf.random.uniform(shape=[5, 300])\n",
        "A"
      ],
      "metadata": {
        "colab": {
          "base_uri": "https://localhost:8080/"
        },
        "id": "DCDe4ikz1gcF",
        "outputId": "6ff05c8c-cc8c-4ffd-a70a-97a292c37cbc"
      },
      "execution_count": 32,
      "outputs": [
        {
          "output_type": "execute_result",
          "data": {
            "text/plain": [
              "<tf.Tensor: shape=(5, 300), dtype=float32, numpy=\n",
              "array([[0.95831835, 0.01680839, 0.3156035 , ..., 0.67105925, 0.76730955,\n",
              "        0.20125735],\n",
              "       [0.09921694, 0.02475083, 0.47242153, ..., 0.9631474 , 0.34333456,\n",
              "        0.8129494 ],\n",
              "       [0.08817983, 0.9311962 , 0.2293179 , ..., 0.41450226, 0.008304  ,\n",
              "        0.02438807],\n",
              "       [0.54814565, 0.37019622, 0.5272658 , ..., 0.8656951 , 0.19644582,\n",
              "        0.5959221 ],\n",
              "       [0.8964087 , 0.15288067, 0.3360591 , ..., 0.5725572 , 0.4094149 ,\n",
              "        0.40059018]], dtype=float32)>"
            ]
          },
          "metadata": {},
          "execution_count": 32
        }
      ]
    },
    {
      "cell_type": "code",
      "source": [
        "B = tf.random.uniform(shape=[5, 300])\n",
        "B"
      ],
      "metadata": {
        "colab": {
          "base_uri": "https://localhost:8080/"
        },
        "id": "4RjIqGpz1i2p",
        "outputId": "4dfb8c5b-2a0d-41f3-84aa-c1f27b26d0f3"
      },
      "execution_count": 34,
      "outputs": [
        {
          "output_type": "execute_result",
          "data": {
            "text/plain": [
              "<tf.Tensor: shape=(5, 300), dtype=float32, numpy=\n",
              "array([[0.14241445, 0.40161622, 0.33360183, ..., 0.467453  , 0.4010433 ,\n",
              "        0.77402675],\n",
              "       [0.68600106, 0.36842024, 0.838217  , ..., 0.5757059 , 0.321252  ,\n",
              "        0.4654348 ],\n",
              "       [0.51995134, 0.3815695 , 0.59582543, ..., 0.09222043, 0.6600671 ,\n",
              "        0.00907719],\n",
              "       [0.11020112, 0.18113029, 0.16872919, ..., 0.05145729, 0.21334374,\n",
              "        0.12166667],\n",
              "       [0.90618634, 0.7663641 , 0.9128959 , ..., 0.90221953, 0.00464523,\n",
              "        0.03899753]], dtype=float32)>"
            ]
          },
          "metadata": {},
          "execution_count": 34
        }
      ]
    },
    {
      "cell_type": "markdown",
      "source": [
        "#### 4. Multiply the two tensors you created in 3 using matrix multiplication."
      ],
      "metadata": {
        "id": "32F7pTmM1v9B"
      }
    },
    {
      "cell_type": "code",
      "source": [
        "tf.matmul(A, tf.reshape(B, shape=(300, 5)))"
      ],
      "metadata": {
        "colab": {
          "base_uri": "https://localhost:8080/"
        },
        "id": "fLHqDLlM2GMA",
        "outputId": "21eb2e60-edd5-4f36-8bd9-e322c2eb380d"
      },
      "execution_count": 36,
      "outputs": [
        {
          "output_type": "execute_result",
          "data": {
            "text/plain": [
              "<tf.Tensor: shape=(5, 5), dtype=float32, numpy=\n",
              "array([[70.492294, 71.20219 , 73.33479 , 71.580414, 75.46095 ],\n",
              "       [71.42946 , 76.49174 , 71.894325, 75.42511 , 75.00824 ],\n",
              "       [77.53951 , 77.31646 , 81.22734 , 78.52912 , 82.55268 ],\n",
              "       [73.59802 , 76.68869 , 77.45349 , 76.0298  , 78.84175 ],\n",
              "       [73.446686, 74.69656 , 75.69572 , 76.62387 , 77.6922  ]],\n",
              "      dtype=float32)>"
            ]
          },
          "metadata": {},
          "execution_count": 36
        }
      ]
    },
    {
      "cell_type": "markdown",
      "source": [
        "#### 5. Multiply the two tensors you created in 3 using dot product."
      ],
      "metadata": {
        "id": "C4Mizw4c1xb5"
      }
    },
    {
      "cell_type": "code",
      "source": [
        "tf.tensordot(A, tf.transpose(B), axes=1)"
      ],
      "metadata": {
        "colab": {
          "base_uri": "https://localhost:8080/"
        },
        "id": "R9gq-2_D2ZM5",
        "outputId": "7b8fa008-c2d8-4643-a5bd-93005120d475"
      },
      "execution_count": 41,
      "outputs": [
        {
          "output_type": "execute_result",
          "data": {
            "text/plain": [
              "<tf.Tensor: shape=(5, 5), dtype=float32, numpy=\n",
              "array([[75.94975 , 73.56144 , 69.62314 , 72.18502 , 66.91785 ],\n",
              "       [77.15861 , 77.202545, 73.34158 , 75.209465, 72.46777 ],\n",
              "       [83.9196  , 81.31598 , 81.30655 , 81.60316 , 74.21117 ],\n",
              "       [77.39996 , 75.43019 , 78.49779 , 76.20861 , 72.63331 ],\n",
              "       [78.93554 , 77.90604 , 76.70812 , 76.22255 , 73.47687 ]],\n",
              "      dtype=float32)>"
            ]
          },
          "metadata": {},
          "execution_count": 41
        }
      ]
    },
    {
      "cell_type": "markdown",
      "source": [
        "#### 6. Create a tensor with random values between 0 and 1 with shape [224, 224, 3]."
      ],
      "metadata": {
        "id": "uzl0oLIR1yo-"
      }
    },
    {
      "cell_type": "code",
      "source": [
        "C = tf.random.uniform(shape=[224, 224, 3])\n",
        "C"
      ],
      "metadata": {
        "colab": {
          "base_uri": "https://localhost:8080/"
        },
        "id": "dLFlbJMb2mO7",
        "outputId": "7232e116-3ad9-43a2-8713-f59306def355"
      },
      "execution_count": 43,
      "outputs": [
        {
          "output_type": "execute_result",
          "data": {
            "text/plain": [
              "<tf.Tensor: shape=(224, 224, 3), dtype=float32, numpy=\n",
              "array([[[0.12780273, 0.86230123, 0.41563296],\n",
              "        [0.10028672, 0.6078365 , 0.79052174],\n",
              "        [0.06068337, 0.85674644, 0.72001266],\n",
              "        ...,\n",
              "        [0.42501688, 0.777889  , 0.7029644 ],\n",
              "        [0.00265503, 0.4391595 , 0.89044964],\n",
              "        [0.63493025, 0.87544703, 0.943701  ]],\n",
              "\n",
              "       [[0.6613052 , 0.37710202, 0.51483595],\n",
              "        [0.50989354, 0.9679649 , 0.45765674],\n",
              "        [0.2590027 , 0.3557694 , 0.26365137],\n",
              "        ...,\n",
              "        [0.3261726 , 0.49975753, 0.1813755 ],\n",
              "        [0.6064073 , 0.8051214 , 0.320701  ],\n",
              "        [0.32923293, 0.5298729 , 0.39044487]],\n",
              "\n",
              "       [[0.34140837, 0.47335994, 0.01272404],\n",
              "        [0.47659898, 0.47509444, 0.8660991 ],\n",
              "        [0.16929126, 0.09049737, 0.09263301],\n",
              "        ...,\n",
              "        [0.15332878, 0.2546159 , 0.9531114 ],\n",
              "        [0.10869956, 0.5302429 , 0.8690088 ],\n",
              "        [0.6384195 , 0.19085515, 0.35851824]],\n",
              "\n",
              "       ...,\n",
              "\n",
              "       [[0.62105274, 0.22180116, 0.71062243],\n",
              "        [0.2760619 , 0.534371  , 0.57929456],\n",
              "        [0.6951517 , 0.4360646 , 0.36224568],\n",
              "        ...,\n",
              "        [0.7310444 , 0.16223037, 0.15594482],\n",
              "        [0.6054821 , 0.1953907 , 0.40999198],\n",
              "        [0.40544462, 0.5209774 , 0.67243516]],\n",
              "\n",
              "       [[0.7837734 , 0.88498044, 0.02635729],\n",
              "        [0.4288063 , 0.79856837, 0.46096778],\n",
              "        [0.32964838, 0.7818209 , 0.01215923],\n",
              "        ...,\n",
              "        [0.66016924, 0.5416131 , 0.37710178],\n",
              "        [0.36280656, 0.9870597 , 0.7095666 ],\n",
              "        [0.10434592, 0.7066307 , 0.45667446]],\n",
              "\n",
              "       [[0.6604539 , 0.88204646, 0.4301014 ],\n",
              "        [0.84370863, 0.74285805, 0.69202363],\n",
              "        [0.03373718, 0.90288174, 0.66989625],\n",
              "        ...,\n",
              "        [0.7885982 , 0.71563256, 0.01616442],\n",
              "        [0.13505852, 0.93135524, 0.18757498],\n",
              "        [0.48897624, 0.6072701 , 0.5179914 ]]], dtype=float32)>"
            ]
          },
          "metadata": {},
          "execution_count": 43
        }
      ]
    },
    {
      "cell_type": "markdown",
      "source": [
        "#### 7. Find the min and max values of the tensor you created in 6 along the first axis."
      ],
      "metadata": {
        "id": "246n2zqy10LA"
      }
    },
    {
      "cell_type": "code",
      "source": [
        "tf.reduce_min(C)"
      ],
      "metadata": {
        "colab": {
          "base_uri": "https://localhost:8080/"
        },
        "id": "InGZOFoL2wC7",
        "outputId": "cf325e29-cafe-4e5c-e866-0970b5f69c12"
      },
      "execution_count": 51,
      "outputs": [
        {
          "output_type": "execute_result",
          "data": {
            "text/plain": [
              "<tf.Tensor: shape=(), dtype=float32, numpy=3.8146973e-06>"
            ]
          },
          "metadata": {},
          "execution_count": 51
        }
      ]
    },
    {
      "cell_type": "code",
      "source": [
        "tf.reduce_max(C)"
      ],
      "metadata": {
        "colab": {
          "base_uri": "https://localhost:8080/"
        },
        "id": "Q1OQ_2xH2_gZ",
        "outputId": "5214322b-0ed0-48bf-feed-c7bc3b6c8c00"
      },
      "execution_count": 50,
      "outputs": [
        {
          "output_type": "execute_result",
          "data": {
            "text/plain": [
              "<tf.Tensor: shape=(), dtype=float32, numpy=0.9999919>"
            ]
          },
          "metadata": {},
          "execution_count": 50
        }
      ]
    },
    {
      "cell_type": "markdown",
      "source": [
        "#### 8. Created a tensor with random values of shape [1, 224, 224, 3] then squeeze it to change the shape to [224, 224, 3]."
      ],
      "metadata": {
        "id": "9mPP4yYt11a4"
      }
    },
    {
      "cell_type": "code",
      "source": [
        "D = tf.random.uniform(shape=[1, 224, 224, 3])\n",
        "D"
      ],
      "metadata": {
        "colab": {
          "base_uri": "https://localhost:8080/"
        },
        "id": "GY9Ew1jE3Bd-",
        "outputId": "167f7fa5-82be-403f-b749-eaf6ad4c6c8a"
      },
      "execution_count": 52,
      "outputs": [
        {
          "output_type": "execute_result",
          "data": {
            "text/plain": [
              "<tf.Tensor: shape=(1, 224, 224, 3), dtype=float32, numpy=\n",
              "array([[[[0.5749372 , 0.19900596, 0.7038239 ],\n",
              "         [0.05541027, 0.5884645 , 0.5430788 ],\n",
              "         [0.9185413 , 0.37144518, 0.84554374],\n",
              "         ...,\n",
              "         [0.6570301 , 0.7645861 , 0.48230588],\n",
              "         [0.41497958, 0.4241538 , 0.5199896 ],\n",
              "         [0.59315014, 0.23632371, 0.15606153]],\n",
              "\n",
              "        [[0.34459436, 0.24155474, 0.8630327 ],\n",
              "         [0.92559505, 0.41881108, 0.9492458 ],\n",
              "         [0.21597803, 0.15805602, 0.9682605 ],\n",
              "         ...,\n",
              "         [0.45298254, 0.6097312 , 0.45232892],\n",
              "         [0.04503286, 0.48371267, 0.7752477 ],\n",
              "         [0.644374  , 0.65862846, 0.11632323]],\n",
              "\n",
              "        [[0.18631506, 0.29340136, 0.3898226 ],\n",
              "         [0.8457128 , 0.86194694, 0.05938876],\n",
              "         [0.22856331, 0.74509835, 0.32373703],\n",
              "         ...,\n",
              "         [0.03299081, 0.8350847 , 0.77849007],\n",
              "         [0.5707276 , 0.7097032 , 0.07139933],\n",
              "         [0.6495327 , 0.17728817, 0.2139225 ]],\n",
              "\n",
              "        ...,\n",
              "\n",
              "        [[0.79031277, 0.3867849 , 0.21375918],\n",
              "         [0.25417638, 0.3020934 , 0.27064204],\n",
              "         [0.11525929, 0.42353046, 0.17679155],\n",
              "         ...,\n",
              "         [0.19160533, 0.7955607 , 0.04731905],\n",
              "         [0.82823336, 0.9449781 , 0.5071925 ],\n",
              "         [0.08030343, 0.71183395, 0.11125267]],\n",
              "\n",
              "        [[0.0182724 , 0.24598098, 0.28284335],\n",
              "         [0.55315006, 0.02655053, 0.94707537],\n",
              "         [0.35371137, 0.7348622 , 0.7635373 ],\n",
              "         ...,\n",
              "         [0.57624304, 0.02165937, 0.5579735 ],\n",
              "         [0.26192856, 0.75120795, 0.66724217],\n",
              "         [0.20921767, 0.18773961, 0.22273731]],\n",
              "\n",
              "        [[0.84338987, 0.42743158, 0.08734417],\n",
              "         [0.4523027 , 0.2841288 , 0.01409531],\n",
              "         [0.2512418 , 0.31763363, 0.5714514 ],\n",
              "         ...,\n",
              "         [0.99613905, 0.59350085, 0.2457118 ],\n",
              "         [0.38211465, 0.4309833 , 0.0525862 ],\n",
              "         [0.53084314, 0.14226651, 0.91185606]]]], dtype=float32)>"
            ]
          },
          "metadata": {},
          "execution_count": 52
        }
      ]
    },
    {
      "cell_type": "code",
      "source": [
        "tf.squeeze(D)"
      ],
      "metadata": {
        "colab": {
          "base_uri": "https://localhost:8080/"
        },
        "id": "jaGcs6qF3EeR",
        "outputId": "4300381f-6a91-4a81-edc1-961aa65ae37b"
      },
      "execution_count": 53,
      "outputs": [
        {
          "output_type": "execute_result",
          "data": {
            "text/plain": [
              "<tf.Tensor: shape=(224, 224, 3), dtype=float32, numpy=\n",
              "array([[[0.5749372 , 0.19900596, 0.7038239 ],\n",
              "        [0.05541027, 0.5884645 , 0.5430788 ],\n",
              "        [0.9185413 , 0.37144518, 0.84554374],\n",
              "        ...,\n",
              "        [0.6570301 , 0.7645861 , 0.48230588],\n",
              "        [0.41497958, 0.4241538 , 0.5199896 ],\n",
              "        [0.59315014, 0.23632371, 0.15606153]],\n",
              "\n",
              "       [[0.34459436, 0.24155474, 0.8630327 ],\n",
              "        [0.92559505, 0.41881108, 0.9492458 ],\n",
              "        [0.21597803, 0.15805602, 0.9682605 ],\n",
              "        ...,\n",
              "        [0.45298254, 0.6097312 , 0.45232892],\n",
              "        [0.04503286, 0.48371267, 0.7752477 ],\n",
              "        [0.644374  , 0.65862846, 0.11632323]],\n",
              "\n",
              "       [[0.18631506, 0.29340136, 0.3898226 ],\n",
              "        [0.8457128 , 0.86194694, 0.05938876],\n",
              "        [0.22856331, 0.74509835, 0.32373703],\n",
              "        ...,\n",
              "        [0.03299081, 0.8350847 , 0.77849007],\n",
              "        [0.5707276 , 0.7097032 , 0.07139933],\n",
              "        [0.6495327 , 0.17728817, 0.2139225 ]],\n",
              "\n",
              "       ...,\n",
              "\n",
              "       [[0.79031277, 0.3867849 , 0.21375918],\n",
              "        [0.25417638, 0.3020934 , 0.27064204],\n",
              "        [0.11525929, 0.42353046, 0.17679155],\n",
              "        ...,\n",
              "        [0.19160533, 0.7955607 , 0.04731905],\n",
              "        [0.82823336, 0.9449781 , 0.5071925 ],\n",
              "        [0.08030343, 0.71183395, 0.11125267]],\n",
              "\n",
              "       [[0.0182724 , 0.24598098, 0.28284335],\n",
              "        [0.55315006, 0.02655053, 0.94707537],\n",
              "        [0.35371137, 0.7348622 , 0.7635373 ],\n",
              "        ...,\n",
              "        [0.57624304, 0.02165937, 0.5579735 ],\n",
              "        [0.26192856, 0.75120795, 0.66724217],\n",
              "        [0.20921767, 0.18773961, 0.22273731]],\n",
              "\n",
              "       [[0.84338987, 0.42743158, 0.08734417],\n",
              "        [0.4523027 , 0.2841288 , 0.01409531],\n",
              "        [0.2512418 , 0.31763363, 0.5714514 ],\n",
              "        ...,\n",
              "        [0.99613905, 0.59350085, 0.2457118 ],\n",
              "        [0.38211465, 0.4309833 , 0.0525862 ],\n",
              "        [0.53084314, 0.14226651, 0.91185606]]], dtype=float32)>"
            ]
          },
          "metadata": {},
          "execution_count": 53
        }
      ]
    },
    {
      "cell_type": "markdown",
      "source": [
        "#### 9. Create a tensor with shape [10] using your own choice of values, then find the index which has the maximum value."
      ],
      "metadata": {
        "id": "uy5Aqlsk131l"
      }
    },
    {
      "cell_type": "code",
      "source": [
        "E = tf.constant(np.random.randint(0, 10, size=10))\n",
        "E"
      ],
      "metadata": {
        "colab": {
          "base_uri": "https://localhost:8080/"
        },
        "id": "lddTDEzM3KAy",
        "outputId": "4764c260-180e-4759-d701-383eaa622aca"
      },
      "execution_count": 69,
      "outputs": [
        {
          "output_type": "execute_result",
          "data": {
            "text/plain": [
              "<tf.Tensor: shape=(10,), dtype=int64, numpy=array([9, 2, 8, 6, 7, 6, 9, 6, 8, 8])>"
            ]
          },
          "metadata": {},
          "execution_count": 69
        }
      ]
    },
    {
      "cell_type": "code",
      "source": [
        "tf.argmax(E)"
      ],
      "metadata": {
        "colab": {
          "base_uri": "https://localhost:8080/"
        },
        "id": "TWhWZfki3fIa",
        "outputId": "49680127-117b-4572-c3f8-b4b88e53de1d"
      },
      "execution_count": 70,
      "outputs": [
        {
          "output_type": "execute_result",
          "data": {
            "text/plain": [
              "<tf.Tensor: shape=(), dtype=int64, numpy=0>"
            ]
          },
          "metadata": {},
          "execution_count": 70
        }
      ]
    },
    {
      "cell_type": "markdown",
      "source": [
        "#### 10. One-hot encode the tensor you created in 9."
      ],
      "metadata": {
        "id": "aFAMI8Hc15Uu"
      }
    },
    {
      "cell_type": "code",
      "source": [
        "tf.one_hot(E, depth=10)"
      ],
      "metadata": {
        "colab": {
          "base_uri": "https://localhost:8080/"
        },
        "id": "hOkeVs8S3jX8",
        "outputId": "3d381cfc-aa6e-4f14-ac82-2ec6e91224cc"
      },
      "execution_count": 71,
      "outputs": [
        {
          "output_type": "execute_result",
          "data": {
            "text/plain": [
              "<tf.Tensor: shape=(10, 10), dtype=float32, numpy=\n",
              "array([[0., 0., 0., 0., 0., 0., 0., 0., 0., 1.],\n",
              "       [0., 0., 1., 0., 0., 0., 0., 0., 0., 0.],\n",
              "       [0., 0., 0., 0., 0., 0., 0., 0., 1., 0.],\n",
              "       [0., 0., 0., 0., 0., 0., 1., 0., 0., 0.],\n",
              "       [0., 0., 0., 0., 0., 0., 0., 1., 0., 0.],\n",
              "       [0., 0., 0., 0., 0., 0., 1., 0., 0., 0.],\n",
              "       [0., 0., 0., 0., 0., 0., 0., 0., 0., 1.],\n",
              "       [0., 0., 0., 0., 0., 0., 1., 0., 0., 0.],\n",
              "       [0., 0., 0., 0., 0., 0., 0., 0., 1., 0.],\n",
              "       [0., 0., 0., 0., 0., 0., 0., 0., 1., 0.]], dtype=float32)>"
            ]
          },
          "metadata": {},
          "execution_count": 71
        }
      ]
    }
  ]
}