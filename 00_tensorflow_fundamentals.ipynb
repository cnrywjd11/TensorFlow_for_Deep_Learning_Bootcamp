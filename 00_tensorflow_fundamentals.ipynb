{
 "nbformat": 4,
 "nbformat_minor": 0,
 "metadata": {
  "colab": {
   "provenance": [],
   "collapsed_sections": [
    "fzjcZ4FHCOb5"
   ],
   "authorship_tag": "ABX9TyPtjTIh2BnxrHodM1T0I1I2",
   "include_colab_link": true
  },
  "kernelspec": {
   "name": "python3",
   "display_name": "Python 3 (ipykernel)",
   "language": "python"
  },
  "accelerator": "GPU",
  "gpuClass": "premium"
 },
 "cells": [
  {
   "metadata": {},
   "cell_type": "markdown",
   "source": [
    "## 🛠 Exercises\n",
    "\n",
    "1. Create a vector, scalar, matrix and tensor with values of your choosing using `tf.constant()`.\n",
    "2. Find the shape, rank and size of the tensors you created in 1.\n",
    "3. Create two tensors containing random values between 0 and 1 with shape `[5, 300]`.\n",
    "4. Multiply the two tensors you created in 3 using matrix multiplication.\n",
    "5. Multiply the two tensors you created in 3 using dot product.\n",
    "6. Create a tensor with random values between 0 and 1 with shape `[224, 224, 3]`.\n",
    "7. Find the min and max values of the tensor you created in 6.\n",
    "8. Created a tensor with random values of shape `[1, 224, 224, 3]` then squeeze it to change the shape to `[224, 224, 3]`.\n",
    "9. Create a tensor with shape `[10]` using your own choice of values, then find the index which has the maximum value.\n",
    "10. One-hot encode the tensor you created in 9."
   ]
  },
  {
   "metadata": {
    "ExecuteTime": {
     "end_time": "2024-11-14T06:13:45.897504Z",
     "start_time": "2024-11-14T06:13:45.894505Z"
    }
   },
   "cell_type": "code",
   "source": [
    "import tensorflow as tf\n",
    "print(tf.__version__)"
   ],
   "outputs": [
    {
     "name": "stdout",
     "output_type": "stream",
     "text": [
      "2.17.0\n"
     ]
    }
   ],
   "execution_count": 2
  },
  {
   "metadata": {
    "ExecuteTime": {
     "end_time": "2024-11-14T06:13:46.000738Z",
     "start_time": "2024-11-14T06:13:45.969571Z"
    }
   },
   "cell_type": "code",
   "source": [
    "# Ex1. Create a vector, scalar, matrix and tensor with values of your choosing using `tf.constant()`.\n",
    "\n",
    "vector = tf.constant([1,2,3])\n",
    "scalar = tf.constant(1)\n",
    "matrix = tf.constant([[1,2,3],[4,5,6]]) \n",
    "tensor = tf.constant([[[1,2,3],[4,5,6],[7,8,9]]]) \n",
    "vector, scalar, matrix, tensor"
   ],
   "outputs": [
    {
     "name": "stderr",
     "output_type": "stream",
     "text": [
      "2024-11-14 15:13:45.971338: I metal_plugin/src/device/metal_device.cc:1154] Metal device set to: Apple M1 Max\n",
      "2024-11-14 15:13:45.971362: I metal_plugin/src/device/metal_device.cc:296] systemMemory: 32.00 GB\n",
      "2024-11-14 15:13:45.971369: I metal_plugin/src/device/metal_device.cc:313] maxCacheSize: 10.67 GB\n",
      "2024-11-14 15:13:45.971384: I tensorflow/core/common_runtime/pluggable_device/pluggable_device_factory.cc:305] Could not identify NUMA node of platform GPU ID 0, defaulting to 0. Your kernel may not have been built with NUMA support.\n",
      "2024-11-14 15:13:45.971395: I tensorflow/core/common_runtime/pluggable_device/pluggable_device_factory.cc:271] Created TensorFlow device (/job:localhost/replica:0/task:0/device:GPU:0 with 0 MB memory) -> physical PluggableDevice (device: 0, name: METAL, pci bus id: <undefined>)\n"
     ]
    },
    {
     "data": {
      "text/plain": [
       "(<tf.Tensor: shape=(3,), dtype=int32, numpy=array([1, 2, 3], dtype=int32)>,\n",
       " <tf.Tensor: shape=(), dtype=int32, numpy=1>,\n",
       " <tf.Tensor: shape=(2, 3), dtype=int32, numpy=\n",
       " array([[1, 2, 3],\n",
       "        [4, 5, 6]], dtype=int32)>,\n",
       " <tf.Tensor: shape=(1, 3, 3), dtype=int32, numpy=\n",
       " array([[[1, 2, 3],\n",
       "         [4, 5, 6],\n",
       "         [7, 8, 9]]], dtype=int32)>)"
      ]
     },
     "execution_count": 3,
     "metadata": {},
     "output_type": "execute_result"
    }
   ],
   "execution_count": 3
  },
  {
   "metadata": {
    "ExecuteTime": {
     "end_time": "2024-11-14T06:13:46.151848Z",
     "start_time": "2024-11-14T06:13:46.147422Z"
    }
   },
   "cell_type": "code",
   "source": [
    "# Ex2. Find the shape, rank and size of the tensors you created in 1.\n",
    "print(\"vector : shape={}, rank={}, size={}\".format(vector.shape, vector.ndim, tf.size(vector)))\n",
    "print(\"scalar : shape={}, rank={}, size={}\".format(scalar.shape, scalar.ndim, tf.size(scalar)))\n",
    "print(\"matrix : shape={}, rank={}, size={}\".format(matrix.shape, matrix.ndim, tf.size(matrix)))\n",
    "print(\"tensor : shape={}, rank={}, size={}\".format(tensor.shape, tensor.ndim, tf.size(tensor)))"
   ],
   "outputs": [
    {
     "name": "stdout",
     "output_type": "stream",
     "text": [
      "vector : shape=(3,), rank=1, size=3\n",
      "scalar : shape=(), rank=0, size=1\n",
      "matrix : shape=(2, 3), rank=2, size=6\n",
      "tensor : shape=(1, 3, 3), rank=3, size=9\n"
     ]
    }
   ],
   "execution_count": 4
  },
  {
   "metadata": {
    "ExecuteTime": {
     "end_time": "2024-11-14T06:13:46.538614Z",
     "start_time": "2024-11-14T06:13:46.181673Z"
    }
   },
   "cell_type": "code",
   "source": [
    "# Ex3.  Create two tensors containing random values between 0 and 1 with shape `[5, 300]`.\n",
    "random_A = tf.random.uniform(shape=(5,300))\n",
    "random_B = tf.random.uniform(shape=(5,300))\n",
    "print(random_A)\n",
    "print(random_B)\n"
   ],
   "outputs": [
    {
     "name": "stdout",
     "output_type": "stream",
     "text": [
      "tf.Tensor(\n",
      "[[0.9337802  0.4932146  0.971915   ... 0.14808726 0.65912247 0.23958004]\n",
      " [0.78237784 0.77039635 0.5131935  ... 0.07094157 0.807251   0.86054444]\n",
      " [0.9451951  0.8251952  0.93685293 ... 0.35165513 0.5185801  0.08025777]\n",
      " [0.11546791 0.6995423  0.750859   ... 0.32129264 0.9909959  0.32122016]\n",
      " [0.91079235 0.40794837 0.9466622  ... 0.86728716 0.4775641  0.29764068]], shape=(5, 300), dtype=float32)\n",
      "tf.Tensor(\n",
      "[[0.31179297 0.8263413  0.6849456  ... 0.56451845 0.44649565 0.41026497]\n",
      " [0.60833323 0.50973356 0.31043375 ... 0.50437474 0.6110033  0.7943536 ]\n",
      " [0.20573044 0.5442884  0.10470831 ... 0.18146193 0.26921892 0.71201587]\n",
      " [0.31422472 0.15571809 0.59350574 ... 0.21489167 0.96785796 0.13088453]\n",
      " [0.00473952 0.06306279 0.91214204 ... 0.7092078  0.93488145 0.7450988 ]], shape=(5, 300), dtype=float32)\n"
     ]
    }
   ],
   "execution_count": 5
  },
  {
   "metadata": {
    "ExecuteTime": {
     "end_time": "2024-11-14T06:13:47.138354Z",
     "start_time": "2024-11-14T06:13:46.544798Z"
    }
   },
   "cell_type": "code",
   "source": [
    "# Ex4. Multiply the two tensors you created in 3 using matrix multiplication.\n",
    "result = random_A @ tf.transpose(random_B) \n",
    "print(result)"
   ],
   "outputs": [
    {
     "name": "stdout",
     "output_type": "stream",
     "text": [
      "tf.Tensor(\n",
      "[[76.17342  78.764725 75.731705 72.29239  75.70853 ]\n",
      " [69.31658  75.116394 71.06091  70.186935 73.10719 ]\n",
      " [75.23542  75.22896  72.29024  67.72285  72.21751 ]\n",
      " [68.239586 71.706474 71.0289   65.431694 70.97731 ]\n",
      " [76.79858  80.60443  76.75188  71.736435 79.946884]], shape=(5, 5), dtype=float32)\n"
     ]
    }
   ],
   "execution_count": 6
  },
  {
   "metadata": {
    "ExecuteTime": {
     "end_time": "2024-11-14T06:13:47.148140Z",
     "start_time": "2024-11-14T06:13:47.144583Z"
    }
   },
   "cell_type": "code",
   "source": [
    "# Ex5. Multiply the two tensors you created in 3 using dot product.\n",
    "print(tf.tensordot(random_A, tf.transpose(random_B), axes=1))"
   ],
   "outputs": [
    {
     "name": "stdout",
     "output_type": "stream",
     "text": [
      "tf.Tensor(\n",
      "[[76.17342  78.764725 75.731705 72.29239  75.70853 ]\n",
      " [69.31658  75.116394 71.06091  70.186935 73.10719 ]\n",
      " [75.23542  75.22896  72.29024  67.72285  72.21751 ]\n",
      " [68.239586 71.706474 71.0289   65.431694 70.97731 ]\n",
      " [76.79858  80.60443  76.75188  71.736435 79.946884]], shape=(5, 5), dtype=float32)\n"
     ]
    }
   ],
   "execution_count": 7
  },
  {
   "metadata": {
    "ExecuteTime": {
     "end_time": "2024-11-14T06:13:47.162879Z",
     "start_time": "2024-11-14T06:13:47.155989Z"
    }
   },
   "cell_type": "code",
   "source": [
    "# Ex6. Create a tensor with random values between 0 and 1 with shape `[224, 224, 3]`.\n",
    "X = tf.random.uniform(shape=(224,224,3))\n",
    "print(X)"
   ],
   "outputs": [
    {
     "name": "stdout",
     "output_type": "stream",
     "text": [
      "tf.Tensor(\n",
      "[[[0.31179297 0.8263413  0.6849456 ]\n",
      "  [0.0067091  0.78749514 0.3906511 ]\n",
      "  [0.29263055 0.99216926 0.95810425]\n",
      "  ...\n",
      "  [0.43970728 0.976676   0.8946736 ]\n",
      "  [0.9747398  0.7011992  0.73613393]\n",
      "  [0.4360633  0.7536833  0.01353109]]\n",
      "\n",
      " [[0.2823602  0.0927937  0.2424469 ]\n",
      "  [0.92214036 0.1318667  0.18895125]\n",
      "  [0.13469017 0.29916108 0.22880554]\n",
      "  ...\n",
      "  [0.10263181 0.3771491  0.7380618 ]\n",
      "  [0.6484846  0.69211054 0.67284966]\n",
      "  [0.43589175 0.48166    0.14082742]]\n",
      "\n",
      " [[0.41235518 0.45162737 0.6804353 ]\n",
      "  [0.04887676 0.6775023  0.29143417]\n",
      "  [0.3466624  0.17450547 0.38451958]\n",
      "  ...\n",
      "  [0.8667455  0.16113937 0.67500424]\n",
      "  [0.8560462  0.48929954 0.97561824]\n",
      "  [0.5725883  0.8036673  0.3923154 ]]\n",
      "\n",
      " ...\n",
      "\n",
      " [[0.68855166 0.3706571  0.03126299]\n",
      "  [0.61133444 0.21750414 0.9080095 ]\n",
      "  [0.20064199 0.31340492 0.85072494]\n",
      "  ...\n",
      "  [0.8053781  0.54289234 0.08450699]\n",
      "  [0.6037886  0.0091573  0.14664805]\n",
      "  [0.36727667 0.66913784 0.9003469 ]]\n",
      "\n",
      " [[0.4256966  0.88771296 0.6295724 ]\n",
      "  [0.99141705 0.49446368 0.28761828]\n",
      "  [0.18791914 0.23971832 0.9050621 ]\n",
      "  ...\n",
      "  [0.871716   0.18161333 0.5948199 ]\n",
      "  [0.41212344 0.57436764 0.69658744]\n",
      "  [0.64828384 0.0412488  0.70286477]]\n",
      "\n",
      " [[0.48708987 0.24799585 0.5379176 ]\n",
      "  [0.21690464 0.206483   0.40172505]\n",
      "  [0.8851794  0.11487484 0.05643916]\n",
      "  ...\n",
      "  [0.97581923 0.1263851  0.1536969 ]\n",
      "  [0.47106755 0.2772559  0.00255883]\n",
      "  [0.16718328 0.01739931 0.56322515]]], shape=(224, 224, 3), dtype=float32)\n"
     ]
    }
   ],
   "execution_count": 8
  },
  {
   "metadata": {
    "ExecuteTime": {
     "end_time": "2024-11-14T06:13:47.479489Z",
     "start_time": "2024-11-14T06:13:47.175800Z"
    }
   },
   "cell_type": "code",
   "source": [
    "# ex7. Find the min and max values of the tensor you created in 6.\n",
    "print(tf.reduce_min(X), tf.reduce_max(X))"
   ],
   "outputs": [
    {
     "name": "stdout",
     "output_type": "stream",
     "text": [
      "tf.Tensor(4.053116e-06, shape=(), dtype=float32) tf.Tensor(0.99998736, shape=(), dtype=float32)\n"
     ]
    }
   ],
   "execution_count": 9
  },
  {
   "metadata": {
    "ExecuteTime": {
     "end_time": "2024-11-14T06:13:47.706895Z",
     "start_time": "2024-11-14T06:13:47.485531Z"
    }
   },
   "cell_type": "code",
   "source": [
    "# ex8. Created a tensor with random values of shape `[1, 224, 224, 3]` then squeeze it to change the shape to `[224, 224, 3]`.\n",
    "X = tf.random.normal(shape=(1,224,224,3))\n",
    "print(X)\n",
    "print(tf.squeeze(X))"
   ],
   "outputs": [
    {
     "name": "stdout",
     "output_type": "stream",
     "text": [
      "tf.Tensor(\n",
      "[[[[-4.2172405e-01 -4.2308071e-01 -8.0168909e-01]\n",
      "   [-6.7317444e-01  4.3181294e-01  5.8552098e-01]\n",
      "   [ 2.2246742e-01  1.5540966e+00 -8.0575699e-01]\n",
      "   ...\n",
      "   [-4.1951582e-01 -1.9153776e+00 -3.2545367e-01]\n",
      "   [ 7.4074793e-01  4.1595727e-01 -3.2613239e-01]\n",
      "   [ 1.3694730e+00 -5.1413178e-01  8.9835227e-01]]\n",
      "\n",
      "  [[-9.9161202e-01  3.2992408e-02 -9.6722590e-03]\n",
      "   [ 6.6796428e-01  7.2086483e-02  1.5072968e+00]\n",
      "   [-1.3952900e+00 -1.2745913e+00  4.4905239e-01]\n",
      "   ...\n",
      "   [ 1.0815152e+00 -1.4982176e+00  1.1036540e+00]\n",
      "   [ 1.4173114e-01 -2.0224410e-01  1.2116796e+00]\n",
      "   [ 3.0588856e-01 -2.2433811e-01  1.8906660e-01]]\n",
      "\n",
      "  [[-2.3447473e-03 -6.0212141e-01  2.8815624e-01]\n",
      "   [-8.7414259e-01  1.2589243e-01  8.4852695e-01]\n",
      "   [ 1.3035592e-02  8.1200939e-01  3.8276184e-01]\n",
      "   ...\n",
      "   [-7.5564623e-01 -9.1405547e-01  5.3718346e-01]\n",
      "   [-1.9339793e+00  4.4547373e-01 -1.1475806e-01]\n",
      "   [-4.6536487e-01  1.1215113e+00 -7.4444062e-01]]\n",
      "\n",
      "  ...\n",
      "\n",
      "  [[-9.8509151e-01 -5.2955246e-01  1.0837586e+00]\n",
      "   [-7.1043748e-01  9.6193171e-01 -2.4802814e-01]\n",
      "   [-2.6621910e-02  1.1509722e+00  5.3685868e-01]\n",
      "   ...\n",
      "   [-9.1154218e-01  1.4336729e+00 -3.5620877e-01]\n",
      "   [ 2.1137755e-01  5.4892445e-01 -6.5120661e-01]\n",
      "   [ 4.8607618e-01  1.0045608e-01 -6.4447069e-01]]\n",
      "\n",
      "  [[-5.5869067e-01 -3.1553161e-01  5.0610971e-01]\n",
      "   [-8.4195417e-01  1.1495474e-01  2.1053311e-01]\n",
      "   [-1.6941372e+00  2.6675839e+00 -5.8174002e-01]\n",
      "   ...\n",
      "   [-1.1741943e+00 -7.2696728e-01 -1.6462953e+00]\n",
      "   [-1.0605888e+00  1.6240851e+00  1.3228710e+00]\n",
      "   [-5.6900734e-01  2.4757859e-01  5.6227791e-01]]\n",
      "\n",
      "  [[-1.1412969e+00  2.7618933e-01  4.1105151e-01]\n",
      "   [-9.9913704e-01 -1.7746004e+00  2.5463054e-01]\n",
      "   [ 4.9133441e-01  1.2939735e-01 -5.3300965e-01]\n",
      "   ...\n",
      "   [-5.7489711e-01 -1.1725463e+00  5.5518579e-01]\n",
      "   [-2.3524983e+00 -5.3439960e-02 -7.8566837e-01]\n",
      "   [-2.4433630e-03 -5.6931633e-01 -1.0560477e+00]]]], shape=(1, 224, 224, 3), dtype=float32)\n",
      "tf.Tensor(\n",
      "[[[-4.2172405e-01 -4.2308071e-01 -8.0168909e-01]\n",
      "  [-6.7317444e-01  4.3181294e-01  5.8552098e-01]\n",
      "  [ 2.2246742e-01  1.5540966e+00 -8.0575699e-01]\n",
      "  ...\n",
      "  [-4.1951582e-01 -1.9153776e+00 -3.2545367e-01]\n",
      "  [ 7.4074793e-01  4.1595727e-01 -3.2613239e-01]\n",
      "  [ 1.3694730e+00 -5.1413178e-01  8.9835227e-01]]\n",
      "\n",
      " [[-9.9161202e-01  3.2992408e-02 -9.6722590e-03]\n",
      "  [ 6.6796428e-01  7.2086483e-02  1.5072968e+00]\n",
      "  [-1.3952900e+00 -1.2745913e+00  4.4905239e-01]\n",
      "  ...\n",
      "  [ 1.0815152e+00 -1.4982176e+00  1.1036540e+00]\n",
      "  [ 1.4173114e-01 -2.0224410e-01  1.2116796e+00]\n",
      "  [ 3.0588856e-01 -2.2433811e-01  1.8906660e-01]]\n",
      "\n",
      " [[-2.3447473e-03 -6.0212141e-01  2.8815624e-01]\n",
      "  [-8.7414259e-01  1.2589243e-01  8.4852695e-01]\n",
      "  [ 1.3035592e-02  8.1200939e-01  3.8276184e-01]\n",
      "  ...\n",
      "  [-7.5564623e-01 -9.1405547e-01  5.3718346e-01]\n",
      "  [-1.9339793e+00  4.4547373e-01 -1.1475806e-01]\n",
      "  [-4.6536487e-01  1.1215113e+00 -7.4444062e-01]]\n",
      "\n",
      " ...\n",
      "\n",
      " [[-9.8509151e-01 -5.2955246e-01  1.0837586e+00]\n",
      "  [-7.1043748e-01  9.6193171e-01 -2.4802814e-01]\n",
      "  [-2.6621910e-02  1.1509722e+00  5.3685868e-01]\n",
      "  ...\n",
      "  [-9.1154218e-01  1.4336729e+00 -3.5620877e-01]\n",
      "  [ 2.1137755e-01  5.4892445e-01 -6.5120661e-01]\n",
      "  [ 4.8607618e-01  1.0045608e-01 -6.4447069e-01]]\n",
      "\n",
      " [[-5.5869067e-01 -3.1553161e-01  5.0610971e-01]\n",
      "  [-8.4195417e-01  1.1495474e-01  2.1053311e-01]\n",
      "  [-1.6941372e+00  2.6675839e+00 -5.8174002e-01]\n",
      "  ...\n",
      "  [-1.1741943e+00 -7.2696728e-01 -1.6462953e+00]\n",
      "  [-1.0605888e+00  1.6240851e+00  1.3228710e+00]\n",
      "  [-5.6900734e-01  2.4757859e-01  5.6227791e-01]]\n",
      "\n",
      " [[-1.1412969e+00  2.7618933e-01  4.1105151e-01]\n",
      "  [-9.9913704e-01 -1.7746004e+00  2.5463054e-01]\n",
      "  [ 4.9133441e-01  1.2939735e-01 -5.3300965e-01]\n",
      "  ...\n",
      "  [-5.7489711e-01 -1.1725463e+00  5.5518579e-01]\n",
      "  [-2.3524983e+00 -5.3439960e-02 -7.8566837e-01]\n",
      "  [-2.4433630e-03 -5.6931633e-01 -1.0560477e+00]]], shape=(224, 224, 3), dtype=float32)\n"
     ]
    }
   ],
   "execution_count": 10
  },
  {
   "metadata": {
    "ExecuteTime": {
     "end_time": "2024-11-14T06:13:47.716780Z",
     "start_time": "2024-11-14T06:13:47.713220Z"
    }
   },
   "cell_type": "code",
   "source": [
    "# ex9. Create a tensor with shape `[10]` using your own choice of values, then find the index which has the maximum value.\n",
    "X = tf.random.uniform(shape=(10,), minval=0, maxval=10, dtype=tf.int32)\n",
    "print(X)\n",
    "print(tf.argmax(X))"
   ],
   "outputs": [
    {
     "name": "stdout",
     "output_type": "stream",
     "text": [
      "tf.Tensor([9 1 8 2 0 8 5 2 1 8], shape=(10,), dtype=int32)\n",
      "tf.Tensor(0, shape=(), dtype=int64)\n"
     ]
    }
   ],
   "execution_count": 11
  },
  {
   "metadata": {
    "ExecuteTime": {
     "end_time": "2024-11-14T06:13:47.780266Z",
     "start_time": "2024-11-14T06:13:47.727986Z"
    }
   },
   "cell_type": "code",
   "source": [
    "# ex10. One-hot encode the tensor you created in 9.\n",
    "tf.one_hot(X, depth=10)"
   ],
   "outputs": [
    {
     "data": {
      "text/plain": [
       "<tf.Tensor: shape=(10, 10), dtype=float32, numpy=\n",
       "array([[0., 0., 0., 0., 0., 0., 0., 0., 0., 1.],\n",
       "       [0., 1., 0., 0., 0., 0., 0., 0., 0., 0.],\n",
       "       [0., 0., 0., 0., 0., 0., 0., 0., 1., 0.],\n",
       "       [0., 0., 1., 0., 0., 0., 0., 0., 0., 0.],\n",
       "       [1., 0., 0., 0., 0., 0., 0., 0., 0., 0.],\n",
       "       [0., 0., 0., 0., 0., 0., 0., 0., 1., 0.],\n",
       "       [0., 0., 0., 0., 0., 1., 0., 0., 0., 0.],\n",
       "       [0., 0., 1., 0., 0., 0., 0., 0., 0., 0.],\n",
       "       [0., 1., 0., 0., 0., 0., 0., 0., 0., 0.],\n",
       "       [0., 0., 0., 0., 0., 0., 0., 0., 1., 0.]], dtype=float32)>"
      ]
     },
     "execution_count": 12,
     "metadata": {},
     "output_type": "execute_result"
    }
   ],
   "execution_count": 12
  }
 ]
}
