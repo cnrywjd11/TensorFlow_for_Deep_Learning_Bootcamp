{
  "nbformat": 4,
  "nbformat_minor": 0,
  "metadata": {
    "colab": {
      "provenance": []
    },
    "kernelspec": {
      "name": "python3",
      "display_name": "Python 3"
    },
    "language_info": {
      "name": "python"
    }
  },
  "cells": [
    {
      "cell_type": "markdown",
      "source": [
        "## 🛠 Exercises"
      ],
      "metadata": {
        "id": "MgupmDHXNLPm"
      }
    },
    {
      "cell_type": "code",
      "source": [
        "import tensorflow as tf"
      ],
      "metadata": {
        "id": "r-KXcNARPYrq"
      },
      "execution_count": null,
      "outputs": []
    },
    {
      "cell_type": "markdown",
      "source": [
        "1. Create a vector, scalar, matrix and tensor with values of your choosing using `tf.constant()`."
      ],
      "metadata": {
        "id": "XPtT_IPiPVV6"
      }
    },
    {
      "cell_type": "code",
      "source": [
        "scalar = tf.constant(5)\n",
        "vector = tf.constant([1, 2])\n",
        "matrix = tf.constant([[3, 4], [5, 6]])\n",
        "tensor = tf.constant([[[1, 2], [3, 4]], [[5, 6], [7, 8]]])\n",
        "scalar, vector, matrix, tensor"
      ],
      "metadata": {
        "id": "xkV7Hk67NlDj",
        "colab": {
          "base_uri": "https://localhost:8080/"
        },
        "outputId": "8ccd0cba-e73e-4960-8cad-9ea417d19837"
      },
      "execution_count": null,
      "outputs": [
        {
          "output_type": "execute_result",
          "data": {
            "text/plain": [
              "(<tf.Tensor: shape=(), dtype=int32, numpy=5>,\n",
              " <tf.Tensor: shape=(2,), dtype=int32, numpy=array([1, 2], dtype=int32)>,\n",
              " <tf.Tensor: shape=(2, 2), dtype=int32, numpy=\n",
              " array([[3, 4],\n",
              "        [5, 6]], dtype=int32)>,\n",
              " <tf.Tensor: shape=(2, 2, 2), dtype=int32, numpy=\n",
              " array([[[1, 2],\n",
              "         [3, 4]],\n",
              " \n",
              "        [[5, 6],\n",
              "         [7, 8]]], dtype=int32)>)"
            ]
          },
          "metadata": {},
          "execution_count": 5
        }
      ]
    },
    {
      "cell_type": "markdown",
      "source": [
        "2. Find the shape, rank and size of the tensors you created in 1."
      ],
      "metadata": {
        "id": "f8okrA8DNVAH"
      }
    },
    {
      "cell_type": "code",
      "source": [
        "tf.shape(scalar), tf.rank(scalar), tf.size(scalar)"
      ],
      "metadata": {
        "colab": {
          "base_uri": "https://localhost:8080/"
        },
        "id": "gIVBQ3nqQHWX",
        "outputId": "9c8de7de-1e86-4f0c-f356-a716f8fdaa86"
      },
      "execution_count": null,
      "outputs": [
        {
          "output_type": "execute_result",
          "data": {
            "text/plain": [
              "(<tf.Tensor: shape=(0,), dtype=int32, numpy=array([], dtype=int32)>,\n",
              " <tf.Tensor: shape=(), dtype=int32, numpy=0>,\n",
              " <tf.Tensor: shape=(), dtype=int32, numpy=1>)"
            ]
          },
          "metadata": {},
          "execution_count": 15
        }
      ]
    },
    {
      "cell_type": "code",
      "source": [
        "tf.shape(vector), tf.rank(vector), tf.size(vector)"
      ],
      "metadata": {
        "colab": {
          "base_uri": "https://localhost:8080/"
        },
        "id": "ogqD9nRHTFaM",
        "outputId": "e5ab28bf-5a6b-4fd9-ea3a-fa3ca6d28295"
      },
      "execution_count": null,
      "outputs": [
        {
          "output_type": "execute_result",
          "data": {
            "text/plain": [
              "(<tf.Tensor: shape=(1,), dtype=int32, numpy=array([2], dtype=int32)>,\n",
              " <tf.Tensor: shape=(), dtype=int32, numpy=1>,\n",
              " <tf.Tensor: shape=(), dtype=int32, numpy=2>)"
            ]
          },
          "metadata": {},
          "execution_count": 16
        }
      ]
    },
    {
      "cell_type": "code",
      "source": [
        "tf.shape(matrix), tf.rank(matrix), tf.size(matrix)"
      ],
      "metadata": {
        "colab": {
          "base_uri": "https://localhost:8080/"
        },
        "id": "5U_ERc2oTIiJ",
        "outputId": "a8b5c76a-454c-4699-dfb9-0ca75da66321"
      },
      "execution_count": null,
      "outputs": [
        {
          "output_type": "execute_result",
          "data": {
            "text/plain": [
              "(<tf.Tensor: shape=(2,), dtype=int32, numpy=array([2, 2], dtype=int32)>,\n",
              " <tf.Tensor: shape=(), dtype=int32, numpy=2>,\n",
              " <tf.Tensor: shape=(), dtype=int32, numpy=4>)"
            ]
          },
          "metadata": {},
          "execution_count": 17
        }
      ]
    },
    {
      "cell_type": "code",
      "source": [
        "tf.shape(tensor), tf.rank(tensor), tf.size(tensor)"
      ],
      "metadata": {
        "colab": {
          "base_uri": "https://localhost:8080/"
        },
        "id": "MZPsQ3DjTL60",
        "outputId": "ff002322-422b-4530-c58c-39ad8fa9f7fd"
      },
      "execution_count": null,
      "outputs": [
        {
          "output_type": "execute_result",
          "data": {
            "text/plain": [
              "(<tf.Tensor: shape=(3,), dtype=int32, numpy=array([2, 2, 2], dtype=int32)>,\n",
              " <tf.Tensor: shape=(), dtype=int32, numpy=3>,\n",
              " <tf.Tensor: shape=(), dtype=int32, numpy=8>)"
            ]
          },
          "metadata": {},
          "execution_count": 18
        }
      ]
    },
    {
      "cell_type": "markdown",
      "source": [
        "3. Create two tensors containing random values between 0 and 1 with shape `[5, 300]`."
      ],
      "metadata": {
        "id": "bMe8__QPNXQa"
      }
    },
    {
      "cell_type": "code",
      "source": [
        "tf.random.set_seed(10)\n",
        "rt1 = tf.random.uniform(shape=[5, 300])\n",
        "rt2 = tf.random.uniform(shape=[5, 300])\n",
        "rt1, rt2"
      ],
      "metadata": {
        "colab": {
          "base_uri": "https://localhost:8080/"
        },
        "id": "oIviTWiQTPwt",
        "outputId": "ab5a4937-166b-4707-d703-28d0a2c11eed"
      },
      "execution_count": null,
      "outputs": [
        {
          "output_type": "execute_result",
          "data": {
            "text/plain": [
              "(<tf.Tensor: shape=(5, 300), dtype=float32, numpy=\n",
              " array([[0.644151  , 0.8082472 , 0.8976548 , ..., 0.64856505, 0.92532265,\n",
              "         0.21082604],\n",
              "        [0.3861388 , 0.6250967 , 0.8140892 , ..., 0.4822954 , 0.8364854 ,\n",
              "         0.02696836],\n",
              "        [0.01568139, 0.070153  , 0.07581997, ..., 0.03713143, 0.10203564,\n",
              "         0.9430717 ],\n",
              "        [0.6311755 , 0.6480881 , 0.02148747, ..., 0.8134506 , 0.1877768 ,\n",
              "         0.34784198],\n",
              "        [0.58412063, 0.90507317, 0.08946109, ..., 0.4087528 , 0.11643791,\n",
              "         0.3630116 ]], dtype=float32)>,\n",
              " <tf.Tensor: shape=(5, 300), dtype=float32, numpy=\n",
              " array([[0.55478156, 0.42658198, 0.14140713, ..., 0.72380817, 0.6550746 ,\n",
              "         0.51707363],\n",
              "        [0.85620296, 0.32831955, 0.8992617 , ..., 0.59535074, 0.19864571,\n",
              "         0.9972522 ],\n",
              "        [0.9124336 , 0.4107405 , 0.8301928 , ..., 0.20624447, 0.42023182,\n",
              "         0.06111217],\n",
              "        [0.8689436 , 0.80587316, 0.5161364 , ..., 0.870033  , 0.383214  ,\n",
              "         0.43737292],\n",
              "        [0.36501265, 0.600418  , 0.9002968 , ..., 0.06654084, 0.85152483,\n",
              "         0.12622559]], dtype=float32)>)"
            ]
          },
          "metadata": {},
          "execution_count": 20
        }
      ]
    },
    {
      "cell_type": "markdown",
      "source": [
        "4. Multiply the two tensors you created in 3 using matrix multiplication."
      ],
      "metadata": {
        "id": "_icxOfxQNZSV"
      }
    },
    {
      "cell_type": "code",
      "source": [
        "tf.matmul(rt1, tf.reshape(rt2, shape=(300, 5)))"
      ],
      "metadata": {
        "colab": {
          "base_uri": "https://localhost:8080/"
        },
        "id": "oEp_ppedT7b3",
        "outputId": "2bb0c11e-b043-42d7-9ce8-1233b2798c2b"
      },
      "execution_count": null,
      "outputs": [
        {
          "output_type": "execute_result",
          "data": {
            "text/plain": [
              "<tf.Tensor: shape=(5, 5), dtype=float32, numpy=\n",
              "array([[71.80579 , 78.936806, 79.91461 , 78.56192 , 78.249985],\n",
              "       [74.61162 , 81.50494 , 78.58472 , 78.1964  , 76.19768 ],\n",
              "       [70.507515, 74.05982 , 75.40812 , 74.66524 , 76.583786],\n",
              "       [68.26199 , 75.09592 , 68.821465, 70.49203 , 69.1523  ],\n",
              "       [75.22302 , 85.50049 , 82.40537 , 82.89246 , 78.557144]],\n",
              "      dtype=float32)>"
            ]
          },
          "metadata": {},
          "execution_count": 25
        }
      ]
    },
    {
      "cell_type": "markdown",
      "source": [
        "5. Multiply the two tensors you created in 3 using dot product."
      ],
      "metadata": {
        "id": "uMVFpRYRNbBk"
      }
    },
    {
      "cell_type": "code",
      "source": [
        "tf.matmul(rt1, tf.transpose(rt2))"
      ],
      "metadata": {
        "colab": {
          "base_uri": "https://localhost:8080/"
        },
        "id": "nsrqgW1eUrCD",
        "outputId": "4c4fc3d9-26c5-4c9d-8cff-52674b336144"
      },
      "execution_count": null,
      "outputs": [
        {
          "output_type": "execute_result",
          "data": {
            "text/plain": [
              "<tf.Tensor: shape=(5, 5), dtype=float32, numpy=\n",
              "array([[70.69089 , 77.17377 , 70.95266 , 83.92833 , 80.61466 ],\n",
              "       [74.66354 , 77.68826 , 71.44917 , 84.42623 , 79.83246 ],\n",
              "       [69.35523 , 74.14987 , 69.53276 , 79.17699 , 76.226944],\n",
              "       [68.41116 , 72.10269 , 66.07191 , 74.73178 , 73.692085],\n",
              "       [74.01436 , 80.47031 , 73.773224, 85.81409 , 83.57859 ]],\n",
              "      dtype=float32)>"
            ]
          },
          "metadata": {},
          "execution_count": 24
        }
      ]
    },
    {
      "cell_type": "markdown",
      "source": [
        "6. Create a tensor with random values between 0 and 1 with shape `[224, 224, 3]`."
      ],
      "metadata": {
        "id": "PvPJAzn3Ncn8"
      }
    },
    {
      "cell_type": "code",
      "source": [
        "rt3 = tf.random.uniform(shape=(224, 224, 3))\n",
        "rt3"
      ],
      "metadata": {
        "colab": {
          "base_uri": "https://localhost:8080/"
        },
        "id": "uF3jTqsEU7X-",
        "outputId": "2952683d-01ec-49cc-9440-1be60ba5c8f2"
      },
      "execution_count": null,
      "outputs": [
        {
          "output_type": "execute_result",
          "data": {
            "text/plain": [
              "<tf.Tensor: shape=(224, 224, 3), dtype=float32, numpy=\n",
              "array([[[0.21397555, 0.2643757 , 0.28710473],\n",
              "        [0.25718975, 0.52617586, 0.91361344],\n",
              "        [0.0447216 , 0.10029984, 0.09849989],\n",
              "        ...,\n",
              "        [0.58174455, 0.2887715 , 0.5615276 ],\n",
              "        [0.42705667, 0.64624274, 0.09242129],\n",
              "        [0.21425843, 0.6151191 , 0.82362616]],\n",
              "\n",
              "       [[0.9738668 , 0.3125571 , 0.557207  ],\n",
              "        [0.50410247, 0.5219362 , 0.30598593],\n",
              "        [0.1761465 , 0.5207732 , 0.4444375 ],\n",
              "        ...,\n",
              "        [0.28069592, 0.48089588, 0.5091605 ],\n",
              "        [0.2821281 , 0.40169716, 0.993888  ],\n",
              "        [0.97967446, 0.29352677, 0.72037685]],\n",
              "\n",
              "       [[0.13525677, 0.21918023, 0.49843597],\n",
              "        [0.7221161 , 0.20129669, 0.83721614],\n",
              "        [0.24425614, 0.33354807, 0.41158438],\n",
              "        ...,\n",
              "        [0.30333376, 0.05302632, 0.28196692],\n",
              "        [0.2015233 , 0.18005562, 0.72888017],\n",
              "        [0.03845644, 0.8930398 , 0.55132914]],\n",
              "\n",
              "       ...,\n",
              "\n",
              "       [[0.5560229 , 0.5008652 , 0.6037562 ],\n",
              "        [0.77400565, 0.54669213, 0.70541215],\n",
              "        [0.31002653, 0.94718075, 0.9226248 ],\n",
              "        ...,\n",
              "        [0.96307325, 0.7607552 , 0.27355027],\n",
              "        [0.90151536, 0.03509068, 0.7382984 ],\n",
              "        [0.6723026 , 0.7274612 , 0.8475723 ]],\n",
              "\n",
              "       [[0.7671548 , 0.41458476, 0.62396216],\n",
              "        [0.73749804, 0.18507624, 0.964869  ],\n",
              "        [0.7098665 , 0.00107467, 0.66220725],\n",
              "        ...,\n",
              "        [0.18779266, 0.9949721 , 0.22092378],\n",
              "        [0.5598494 , 0.2421875 , 0.9480593 ],\n",
              "        [0.66457117, 0.77907217, 0.4627353 ]],\n",
              "\n",
              "       [[0.7879782 , 0.00407135, 0.6565312 ],\n",
              "        [0.12640989, 0.2861036 , 0.536687  ],\n",
              "        [0.39170015, 0.37644494, 0.6030003 ],\n",
              "        ...,\n",
              "        [0.5737672 , 0.38864315, 0.5285281 ],\n",
              "        [0.91281176, 0.8962859 , 0.9669993 ],\n",
              "        [0.24064755, 0.5978404 , 0.42290342]]], dtype=float32)>"
            ]
          },
          "metadata": {},
          "execution_count": 28
        }
      ]
    },
    {
      "cell_type": "markdown",
      "source": [
        "7. Find the min and max values of the tensor you created in 6."
      ],
      "metadata": {
        "id": "o_oNEyHzNeGL"
      }
    },
    {
      "cell_type": "code",
      "source": [
        "tf.reduce_min(rt3), tf.reduce_max(rt3)"
      ],
      "metadata": {
        "colab": {
          "base_uri": "https://localhost:8080/"
        },
        "id": "erL4bjKlVI6X",
        "outputId": "2dc38c84-6023-4d2d-e9fd-babb858824bf"
      },
      "execution_count": null,
      "outputs": [
        {
          "output_type": "execute_result",
          "data": {
            "text/plain": [
              "(<tf.Tensor: shape=(), dtype=float32, numpy=1.66893e-06>,\n",
              " <tf.Tensor: shape=(), dtype=float32, numpy=0.9999931>)"
            ]
          },
          "metadata": {},
          "execution_count": 29
        }
      ]
    },
    {
      "cell_type": "markdown",
      "source": [
        "8. Created a tensor with random values of shape `[1, 224, 224, 3]` then squeeze it to change the shape to `[224, 224, 3]`."
      ],
      "metadata": {
        "id": "18y1raJUNfal"
      }
    },
    {
      "cell_type": "code",
      "source": [
        "tf.squeeze(tf.random.uniform(shape=(1, 224, 224, 3)))"
      ],
      "metadata": {
        "colab": {
          "base_uri": "https://localhost:8080/"
        },
        "id": "1l6UvJ4hVOnB",
        "outputId": "b6026359-96f3-4939-d789-1f29c3058b07"
      },
      "execution_count": null,
      "outputs": [
        {
          "output_type": "execute_result",
          "data": {
            "text/plain": [
              "<tf.Tensor: shape=(224, 224, 3), dtype=float32, numpy=\n",
              "array([[[0.36972272, 0.71753395, 0.47393608],\n",
              "        [0.5105393 , 0.03172052, 0.9922534 ],\n",
              "        [0.2888118 , 0.5410501 , 0.5243013 ],\n",
              "        ...,\n",
              "        [0.0814687 , 0.12145126, 0.6564065 ],\n",
              "        [0.8112055 , 0.17618   , 0.6871786 ],\n",
              "        [0.62845075, 0.1272161 , 0.8027468 ]],\n",
              "\n",
              "       [[0.6930344 , 0.44599724, 0.628914  ],\n",
              "        [0.3750267 , 0.04310226, 0.89763975],\n",
              "        [0.09768474, 0.5758071 , 0.2960837 ],\n",
              "        ...,\n",
              "        [0.9532541 , 0.18054235, 0.76729536],\n",
              "        [0.0686326 , 0.5063958 , 0.32386482],\n",
              "        [0.6551193 , 0.74971604, 0.69964385]],\n",
              "\n",
              "       [[0.5558903 , 0.7498704 , 0.8201214 ],\n",
              "        [0.36736226, 0.5536103 , 0.8432181 ],\n",
              "        [0.11633825, 0.5597563 , 0.6796478 ],\n",
              "        ...,\n",
              "        [0.4298005 , 0.82902443, 0.33343232],\n",
              "        [0.46054077, 0.3107102 , 0.80764616],\n",
              "        [0.07650483, 0.21793199, 0.68653023]],\n",
              "\n",
              "       ...,\n",
              "\n",
              "       [[0.46779907, 0.29490995, 0.11963928],\n",
              "        [0.17731452, 0.8053591 , 0.3807336 ],\n",
              "        [0.8283541 , 0.6406176 , 0.5891204 ],\n",
              "        ...,\n",
              "        [0.5274302 , 0.06669104, 0.4526391 ],\n",
              "        [0.6471251 , 0.53022945, 0.09127283],\n",
              "        [0.01854169, 0.04086816, 0.72713137]],\n",
              "\n",
              "       [[0.06971812, 0.69572866, 0.44931233],\n",
              "        [0.3632313 , 0.7091917 , 0.29861403],\n",
              "        [0.9134743 , 0.4436797 , 0.8438399 ],\n",
              "        ...,\n",
              "        [0.2787714 , 0.09696031, 0.6518495 ],\n",
              "        [0.26199174, 0.07791722, 0.8030684 ],\n",
              "        [0.65561104, 0.4281566 , 0.06071389]],\n",
              "\n",
              "       [[0.12099028, 0.47260618, 0.5678328 ],\n",
              "        [0.08785045, 0.47606754, 0.41946113],\n",
              "        [0.11982906, 0.54391515, 0.31888938],\n",
              "        ...,\n",
              "        [0.6357759 , 0.89950633, 0.36575067],\n",
              "        [0.22700799, 0.86804664, 0.830889  ],\n",
              "        [0.5455202 , 0.9022509 , 0.5147041 ]]], dtype=float32)>"
            ]
          },
          "metadata": {},
          "execution_count": 30
        }
      ]
    },
    {
      "cell_type": "markdown",
      "source": [
        "9. Create a tensor with shape `[10]` using your own choice of values, then find the index which has the maximum value."
      ],
      "metadata": {
        "id": "2dZAApy6Ng_I"
      }
    },
    {
      "cell_type": "code",
      "source": [
        "import numpy as np\n",
        "tensor = tf.constant(np.random.randint(0, 100, size=100))\n",
        "tensor"
      ],
      "metadata": {
        "colab": {
          "base_uri": "https://localhost:8080/"
        },
        "id": "DyuZnpnKVfPZ",
        "outputId": "2b1b6912-211d-493c-9e72-90011144c1f0"
      },
      "execution_count": null,
      "outputs": [
        {
          "output_type": "execute_result",
          "data": {
            "text/plain": [
              "<tf.Tensor: shape=(10,), dtype=int64, numpy=array([4, 7, 4, 2, 1, 4, 8, 0, 7, 7])>"
            ]
          },
          "metadata": {},
          "execution_count": 39
        }
      ]
    },
    {
      "cell_type": "code",
      "source": [
        "tf.argmax(tensor)"
      ],
      "metadata": {
        "colab": {
          "base_uri": "https://localhost:8080/"
        },
        "id": "pRLBF2xIWG60",
        "outputId": "85f05970-d5b5-43fc-ba01-82bb2c234ec3"
      },
      "execution_count": null,
      "outputs": [
        {
          "output_type": "execute_result",
          "data": {
            "text/plain": [
              "<tf.Tensor: shape=(), dtype=int64, numpy=6>"
            ]
          },
          "metadata": {},
          "execution_count": 40
        }
      ]
    },
    {
      "cell_type": "markdown",
      "source": [
        "10. One-hot encode the tensor you created in 9."
      ],
      "metadata": {
        "id": "SAHgZGpHNiQn"
      }
    },
    {
      "cell_type": "code",
      "source": [
        "tf.one_hot(tensor, depth=10, dtype=tf.int32)"
      ],
      "metadata": {
        "colab": {
          "base_uri": "https://localhost:8080/"
        },
        "id": "NtX9dqpqWXgS",
        "outputId": "b9fed88b-c02f-46fb-cbd3-db5fd893460b"
      },
      "execution_count": null,
      "outputs": [
        {
          "output_type": "execute_result",
          "data": {
            "text/plain": [
              "<tf.Tensor: shape=(10, 10), dtype=int32, numpy=\n",
              "array([[0, 0, 0, 0, 1, 0, 0, 0, 0, 0],\n",
              "       [0, 0, 0, 0, 0, 0, 0, 1, 0, 0],\n",
              "       [0, 0, 0, 0, 1, 0, 0, 0, 0, 0],\n",
              "       [0, 0, 1, 0, 0, 0, 0, 0, 0, 0],\n",
              "       [0, 1, 0, 0, 0, 0, 0, 0, 0, 0],\n",
              "       [0, 0, 0, 0, 1, 0, 0, 0, 0, 0],\n",
              "       [0, 0, 0, 0, 0, 0, 0, 0, 1, 0],\n",
              "       [1, 0, 0, 0, 0, 0, 0, 0, 0, 0],\n",
              "       [0, 0, 0, 0, 0, 0, 0, 1, 0, 0],\n",
              "       [0, 0, 0, 0, 0, 0, 0, 1, 0, 0]], dtype=int32)>"
            ]
          },
          "metadata": {},
          "execution_count": 41
        }
      ]
    },
    {
      "cell_type": "code",
      "source": [],
      "metadata": {
        "id": "JTPeE3U_Wb2o"
      },
      "execution_count": null,
      "outputs": []
    }
  ]
}