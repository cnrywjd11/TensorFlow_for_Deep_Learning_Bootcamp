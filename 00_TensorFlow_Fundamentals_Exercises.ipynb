{
  "nbformat": 4,
  "nbformat_minor": 0,
  "metadata": {
    "colab": {
      "provenance": [],
      "authorship_tag": "ABX9TyOy6MS5k6susxEoiLjdV8IG",
      "include_colab_link": true
    },
    "kernelspec": {
      "name": "python3",
      "display_name": "Python 3"
    },
    "language_info": {
      "name": "python"
    }
  },
  "cells": [
    {
      "cell_type": "markdown",
      "metadata": {
        "id": "view-in-github",
        "colab_type": "text"
      },
      "source": [
        "<a href=\"https://colab.research.google.com/github/cnrywjd11/TensorFlow_for_Deep_Learning_Bootcamp/blob/week1%2Fjwchoi/00_TensorFlow_Fundamentals_Exercises.ipynb\" target=\"_parent\"><img src=\"https://colab.research.google.com/assets/colab-badge.svg\" alt=\"Open In Colab\"/></a>"
      ]
    },
    {
      "cell_type": "markdown",
      "source": [
        "1. Create a vector, scalar, matrix and tensor with values of your choosing using tf.constant()."
      ],
      "metadata": {
        "id": "g2un78OweRHw"
      }
    },
    {
      "cell_type": "code",
      "source": [
        "import tensorflow as tf"
      ],
      "metadata": {
        "id": "VJBJuNCgeSVd"
      },
      "execution_count": 1,
      "outputs": []
    },
    {
      "cell_type": "code",
      "source": [
        "vector = tf.constant([1,2])\n",
        "scalar = tf.constant(7)\n",
        "Matrix = tf.constant([[1,2],[3,4]])\n",
        "Tensor = tf.constant([[[1,2],[3,4]]])"
      ],
      "metadata": {
        "id": "Ny8HJuFOeaKa"
      },
      "execution_count": 9,
      "outputs": []
    },
    {
      "cell_type": "code",
      "source": [
        "vector, scalar, Matrix, Tensor"
      ],
      "metadata": {
        "colab": {
          "base_uri": "https://localhost:8080/"
        },
        "id": "48P9JJgpefv2",
        "outputId": "5cd8d88b-8d2f-448d-8094-85ba619b4f15"
      },
      "execution_count": 10,
      "outputs": [
        {
          "output_type": "execute_result",
          "data": {
            "text/plain": [
              "(<tf.Tensor: shape=(2,), dtype=int32, numpy=array([1, 2], dtype=int32)>,\n",
              " <tf.Tensor: shape=(), dtype=int32, numpy=7>,\n",
              " <tf.Tensor: shape=(2, 2), dtype=int32, numpy=\n",
              " array([[1, 2],\n",
              "        [3, 4]], dtype=int32)>,\n",
              " <tf.Tensor: shape=(1, 2, 2), dtype=int32, numpy=\n",
              " array([[[1, 2],\n",
              "         [3, 4]]], dtype=int32)>)"
            ]
          },
          "metadata": {},
          "execution_count": 10
        }
      ]
    },
    {
      "cell_type": "markdown",
      "source": [
        "2. Find the shape, rank and size of the tensors you created in 1."
      ],
      "metadata": {
        "id": "Dd91MzUNfZBa"
      }
    },
    {
      "cell_type": "code",
      "source": [
        "vector.shape, vector.ndim, tf.size(vector)"
      ],
      "metadata": {
        "colab": {
          "base_uri": "https://localhost:8080/"
        },
        "id": "CnkeWQ2Cehmi",
        "outputId": "23a43c6f-8b34-4757-d42b-52bc959bcd01"
      },
      "execution_count": 12,
      "outputs": [
        {
          "output_type": "execute_result",
          "data": {
            "text/plain": [
              "(TensorShape([2]), 1, <tf.Tensor: shape=(), dtype=int32, numpy=2>)"
            ]
          },
          "metadata": {},
          "execution_count": 12
        }
      ]
    },
    {
      "cell_type": "code",
      "source": [
        "scalar.shape, scalar.ndim, tf.size(scalar)"
      ],
      "metadata": {
        "colab": {
          "base_uri": "https://localhost:8080/"
        },
        "id": "qwrfsIumh94f",
        "outputId": "c9c22e73-440f-4203-9ff2-2e1d0fe53a27"
      },
      "execution_count": 13,
      "outputs": [
        {
          "output_type": "execute_result",
          "data": {
            "text/plain": [
              "(TensorShape([]), 0, <tf.Tensor: shape=(), dtype=int32, numpy=1>)"
            ]
          },
          "metadata": {},
          "execution_count": 13
        }
      ]
    },
    {
      "cell_type": "code",
      "source": [
        "Matrix.shape, Matrix.ndim, tf.size(Matrix)"
      ],
      "metadata": {
        "colab": {
          "base_uri": "https://localhost:8080/"
        },
        "id": "WeurGpLGh969",
        "outputId": "b7c8688c-e5b2-432b-97f7-642434cc3e1f"
      },
      "execution_count": 14,
      "outputs": [
        {
          "output_type": "execute_result",
          "data": {
            "text/plain": [
              "(TensorShape([2, 2]), 2, <tf.Tensor: shape=(), dtype=int32, numpy=4>)"
            ]
          },
          "metadata": {},
          "execution_count": 14
        }
      ]
    },
    {
      "cell_type": "code",
      "source": [
        "Tensor.shape, Tensor.ndim, tf.size(Tensor)"
      ],
      "metadata": {
        "colab": {
          "base_uri": "https://localhost:8080/"
        },
        "id": "rH85njMbh99c",
        "outputId": "8a99221c-b903-4f27-dc45-191bd948ba8b"
      },
      "execution_count": 15,
      "outputs": [
        {
          "output_type": "execute_result",
          "data": {
            "text/plain": [
              "(TensorShape([1, 2, 2]), 3, <tf.Tensor: shape=(), dtype=int32, numpy=4>)"
            ]
          },
          "metadata": {},
          "execution_count": 15
        }
      ]
    },
    {
      "cell_type": "markdown",
      "source": [
        "3. Create two tensors containing random values between 0 and 1 with shape [5, 300]."
      ],
      "metadata": {
        "id": "raUDzsGFf_UT"
      }
    },
    {
      "cell_type": "code",
      "source": [
        "T1 = tf.random.Generator.from_seed(100).normal(shape=(5, 300))\n",
        "T2 =tf.random.Generator.from_seed(101).normal(shape=(5, 300))"
      ],
      "metadata": {
        "id": "W4mLngtBgCXP"
      },
      "execution_count": 19,
      "outputs": []
    },
    {
      "cell_type": "code",
      "source": [
        "T1, T2"
      ],
      "metadata": {
        "colab": {
          "base_uri": "https://localhost:8080/"
        },
        "id": "YUBY0Ht0ifvH",
        "outputId": "8cd423d9-2b33-4492-fb50-faff3d81e33f"
      },
      "execution_count": 20,
      "outputs": [
        {
          "output_type": "execute_result",
          "data": {
            "text/plain": [
              "(<tf.Tensor: shape=(5, 300), dtype=float32, numpy=\n",
              " array([[-0.90112925, -0.0175216 , -0.4188493 , ..., -0.4321791 ,\n",
              "          1.1739746 ,  0.34979692],\n",
              "        [-0.3643946 , -3.1925747 ,  0.74550235, ...,  0.84823394,\n",
              "         -0.25278994,  1.9206251 ],\n",
              "        [ 0.28755897, -0.5995689 , -0.96432054, ..., -0.8950815 ,\n",
              "          1.3879406 ,  0.9307403 ],\n",
              "        [-0.1455882 ,  0.47244102, -0.6284949 , ...,  0.44786277,\n",
              "          0.7897152 , -1.1668082 ],\n",
              "        [ 1.4570636 , -0.06070056,  0.32132152, ..., -0.06993853,\n",
              "          0.9464174 , -1.1680335 ]], dtype=float32)>,\n",
              " <tf.Tensor: shape=(5, 300), dtype=float32, numpy=\n",
              " array([[ 0.08036723, -1.7199678 , -0.6891769 , ..., -3.1925747 ,\n",
              "          0.74550235,  1.6823604 ],\n",
              "        [ 1.0547173 ,  0.43973717, -1.5463331 , ..., -0.5995689 ,\n",
              "         -0.96432054,  0.2030316 ],\n",
              "        [-0.47879514, -0.673436  ,  1.2044759 , ...,  0.47244102,\n",
              "         -0.6284949 ,  0.38839826],\n",
              "        [ 1.8276811 , -0.32110527,  0.66303664, ..., -0.06070056,\n",
              "          0.32132152, -0.8614107 ],\n",
              "        [ 1.3434758 , -0.384727  , -1.0334609 , ...,  1.2456808 ,\n",
              "         -0.3774071 , -0.23353587]], dtype=float32)>)"
            ]
          },
          "metadata": {},
          "execution_count": 20
        }
      ]
    },
    {
      "cell_type": "markdown",
      "source": [
        "4. Multiply the two tensors you created in 3 using matrix multiplication."
      ],
      "metadata": {
        "id": "-hM7qh9Af_YN"
      }
    },
    {
      "cell_type": "code",
      "source": [
        "tf.matmul(T1,tf.reshape(T2, shape=(300, 5)))"
      ],
      "metadata": {
        "colab": {
          "base_uri": "https://localhost:8080/"
        },
        "id": "RYaz4QP4gH4A",
        "outputId": "2f342f11-c72e-4f3e-dcc4-00aab8b1aa4a"
      },
      "execution_count": 22,
      "outputs": [
        {
          "output_type": "execute_result",
          "data": {
            "text/plain": [
              "<tf.Tensor: shape=(5, 5), dtype=float32, numpy=\n",
              "array([[ 13.07712   ,   5.7567916 ,  19.574226  ,  -1.0552359 ,\n",
              "        -32.583282  ],\n",
              "       [ -7.1636405 ,  15.051571  , -15.870622  , -17.011593  ,\n",
              "         -7.990184  ],\n",
              "       [  6.119339  ,  -0.11221433,   1.2579386 ,   5.979478  ,\n",
              "        -40.37672   ],\n",
              "       [ 25.240788  ,  10.606144  , -18.27661   , -23.603588  ,\n",
              "         22.708105  ],\n",
              "       [  2.1643357 , -21.203434  , -35.481903  ,  -6.701633  ,\n",
              "         -6.5635223 ]], dtype=float32)>"
            ]
          },
          "metadata": {},
          "execution_count": 22
        }
      ]
    },
    {
      "cell_type": "markdown",
      "source": [
        "5. Multiply the two tensors you created in 3 using dot product."
      ],
      "metadata": {
        "id": "D-_gVyyof_a_"
      }
    },
    {
      "cell_type": "code",
      "source": [
        "tf.tensordot(tf.transpose(T1), T2, axes=1)"
      ],
      "metadata": {
        "colab": {
          "base_uri": "https://localhost:8080/"
        },
        "id": "Emu9NrYsgIYi",
        "outputId": "783489a7-db1c-4513-b833-21c12e85508b"
      },
      "execution_count": 23,
      "outputs": [
        {
          "output_type": "execute_result",
          "data": {
            "text/plain": [
              "<tf.Tensor: shape=(300, 300), dtype=float32, numpy=\n",
              "array([[ 1.0970044 ,  0.6822003 , -0.07147767, ...,  5.05513   ,\n",
              "        -1.097817  , -1.6931857 ],\n",
              "       [-2.2996793 , -1.0983362 ,  4.6026707 , ...,  1.5825557 ,\n",
              "         3.6171434 , -1.3033327 ],\n",
              "       [ 0.49734393,  1.7758324 , -2.774423  , ...,  0.8730571 ,\n",
              "        -0.7483037 , -0.46148327],\n",
              "       ...,\n",
              "       [ 2.0130641 ,  1.6022103 , -1.7226803 , ...,  0.33400956,\n",
              "        -0.40730256, -1.2719715 ],\n",
              "       [ 1.8780242 , -3.6827433 ,  0.7990871 , ..., -1.809719  ,\n",
              "         0.14322555,  1.5615064 ],\n",
              "       [-2.0935833 ,  0.44017908, -1.6564636 , ..., -3.2127512 ,\n",
              "        -2.110386  ,  2.6178088 ]], dtype=float32)>"
            ]
          },
          "metadata": {},
          "execution_count": 23
        }
      ]
    },
    {
      "cell_type": "markdown",
      "source": [
        "6. Create a tensor with random values between 0 and 1 with shape [224, 224, 3]"
      ],
      "metadata": {
        "id": "QO2NOFNzf_ch"
      }
    },
    {
      "cell_type": "code",
      "source": [
        "T3 = tf.random.Generator.from_seed(100).normal(shape=(224, 224, 3))"
      ],
      "metadata": {
        "id": "xjQ_aL_xgI2N"
      },
      "execution_count": 24,
      "outputs": []
    },
    {
      "cell_type": "markdown",
      "source": [
        "7. Find the min and max values of the tensor you created in 6 along the first axis."
      ],
      "metadata": {
        "id": "LlV0AzJjf_ek"
      }
    },
    {
      "cell_type": "code",
      "source": [
        "tf.reduce_min(T3), tf.reduce_max(T3)"
      ],
      "metadata": {
        "colab": {
          "base_uri": "https://localhost:8080/"
        },
        "id": "lFNxSzdJff7v",
        "outputId": "22c34f20-3fcc-490b-8fae-52d46d566195"
      },
      "execution_count": 25,
      "outputs": [
        {
          "output_type": "execute_result",
          "data": {
            "text/plain": [
              "(<tf.Tensor: shape=(), dtype=float32, numpy=-4.848316>,\n",
              " <tf.Tensor: shape=(), dtype=float32, numpy=4.4032865>)"
            ]
          },
          "metadata": {},
          "execution_count": 25
        }
      ]
    },
    {
      "cell_type": "markdown",
      "source": [
        "8. Created a tensor with random values of shape [1, 224, 224, 3] then squeeze it to change the shape to [224, 224, 3]."
      ],
      "metadata": {
        "id": "6e0Va-uZkABB"
      }
    },
    {
      "cell_type": "code",
      "source": [
        "T4 = tf.random.Generator.from_seed(100).normal(shape=(1, 224, 224, 3))\n",
        "T4_squeezed = tf.squeeze(T4)\n",
        "T4, T4_squeezed"
      ],
      "metadata": {
        "colab": {
          "base_uri": "https://localhost:8080/"
        },
        "id": "Z3upPN2hkAYn",
        "outputId": "1c288b09-fa21-48b9-9ff1-6012099b64e6"
      },
      "execution_count": 26,
      "outputs": [
        {
          "output_type": "execute_result",
          "data": {
            "text/plain": [
              "(<tf.Tensor: shape=(1, 224, 224, 3), dtype=float32, numpy=\n",
              " array([[[[-0.90112925, -0.0175216 , -0.4188493 ],\n",
              "          [ 0.29532313,  0.08036723, -1.7199678 ],\n",
              "          [-0.6891769 ,  0.22862972, -0.69891334],\n",
              "          ...,\n",
              "          [ 0.52378887,  0.98307234,  0.34288085],\n",
              "          [ 1.216793  , -1.24293   ,  0.84324265],\n",
              "          [-0.23379943,  0.4276398 , -1.0215694 ]],\n",
              " \n",
              "         [[-1.4299808 ,  0.19492291, -0.10816212],\n",
              "          [ 0.8752192 ,  0.02671668,  0.76397264],\n",
              "          [ 1.222406  ,  0.46577054,  0.22190082],\n",
              "          ...,\n",
              "          [ 1.4884479 ,  0.33970562,  2.2447717 ],\n",
              "          [-0.46612498, -0.9905671 ,  1.6669905 ],\n",
              "          [-1.348683  , -0.9285897 ,  0.64070654]],\n",
              " \n",
              "         [[-1.1137408 ,  1.2421573 , -1.0235466 ],\n",
              "          [-0.57331395,  1.60733   , -0.5550322 ],\n",
              "          [ 0.3821156 ,  0.8475615 , -0.18030316],\n",
              "          ...,\n",
              "          [-1.4313707 ,  0.31060782,  0.11755535],\n",
              "          [ 0.47162578,  0.1313885 ,  0.6719677 ],\n",
              "          [-1.753269  , -0.14561196,  0.4589733 ]],\n",
              " \n",
              "         ...,\n",
              " \n",
              "         [[-0.03548223, -1.1168375 , -0.5450401 ],\n",
              "          [ 0.9380369 , -0.30285102,  0.96011364],\n",
              "          [ 0.6234733 , -0.05551004, -0.08061304],\n",
              "          ...,\n",
              "          [-1.1349803 ,  0.8193738 ,  1.3677464 ],\n",
              "          [-1.1427066 , -1.6600374 ,  0.87668777],\n",
              "          [ 0.1599369 ,  0.96205825,  1.0347375 ]],\n",
              " \n",
              "         [[ 2.6639905 , -0.00301515,  0.6029539 ],\n",
              "          [ 1.1115394 , -1.086752  ,  0.7041497 ],\n",
              "          [-0.45958874, -0.09451278, -0.7821161 ],\n",
              "          ...,\n",
              "          [-0.7223764 , -1.9356624 ,  0.8516783 ],\n",
              "          [-0.11077261,  1.4275075 ,  0.08904611],\n",
              "          [ 0.16890351,  0.93707585, -0.6237205 ]],\n",
              " \n",
              "         [[ 1.5967009 , -0.87491995,  0.25456196],\n",
              "          [-0.01100433, -0.08316743,  1.2258008 ],\n",
              "          [ 1.4536436 ,  0.7947877 , -1.2539718 ],\n",
              "          ...,\n",
              "          [ 0.78680086,  1.575493  , -0.5152489 ],\n",
              "          [-1.9779383 ,  0.62270886,  0.5548549 ],\n",
              "          [ 0.09053382, -0.47688562, -0.10112027]]]], dtype=float32)>,\n",
              " <tf.Tensor: shape=(224, 224, 3), dtype=float32, numpy=\n",
              " array([[[-0.90112925, -0.0175216 , -0.4188493 ],\n",
              "         [ 0.29532313,  0.08036723, -1.7199678 ],\n",
              "         [-0.6891769 ,  0.22862972, -0.69891334],\n",
              "         ...,\n",
              "         [ 0.52378887,  0.98307234,  0.34288085],\n",
              "         [ 1.216793  , -1.24293   ,  0.84324265],\n",
              "         [-0.23379943,  0.4276398 , -1.0215694 ]],\n",
              " \n",
              "        [[-1.4299808 ,  0.19492291, -0.10816212],\n",
              "         [ 0.8752192 ,  0.02671668,  0.76397264],\n",
              "         [ 1.222406  ,  0.46577054,  0.22190082],\n",
              "         ...,\n",
              "         [ 1.4884479 ,  0.33970562,  2.2447717 ],\n",
              "         [-0.46612498, -0.9905671 ,  1.6669905 ],\n",
              "         [-1.348683  , -0.9285897 ,  0.64070654]],\n",
              " \n",
              "        [[-1.1137408 ,  1.2421573 , -1.0235466 ],\n",
              "         [-0.57331395,  1.60733   , -0.5550322 ],\n",
              "         [ 0.3821156 ,  0.8475615 , -0.18030316],\n",
              "         ...,\n",
              "         [-1.4313707 ,  0.31060782,  0.11755535],\n",
              "         [ 0.47162578,  0.1313885 ,  0.6719677 ],\n",
              "         [-1.753269  , -0.14561196,  0.4589733 ]],\n",
              " \n",
              "        ...,\n",
              " \n",
              "        [[-0.03548223, -1.1168375 , -0.5450401 ],\n",
              "         [ 0.9380369 , -0.30285102,  0.96011364],\n",
              "         [ 0.6234733 , -0.05551004, -0.08061304],\n",
              "         ...,\n",
              "         [-1.1349803 ,  0.8193738 ,  1.3677464 ],\n",
              "         [-1.1427066 , -1.6600374 ,  0.87668777],\n",
              "         [ 0.1599369 ,  0.96205825,  1.0347375 ]],\n",
              " \n",
              "        [[ 2.6639905 , -0.00301515,  0.6029539 ],\n",
              "         [ 1.1115394 , -1.086752  ,  0.7041497 ],\n",
              "         [-0.45958874, -0.09451278, -0.7821161 ],\n",
              "         ...,\n",
              "         [-0.7223764 , -1.9356624 ,  0.8516783 ],\n",
              "         [-0.11077261,  1.4275075 ,  0.08904611],\n",
              "         [ 0.16890351,  0.93707585, -0.6237205 ]],\n",
              " \n",
              "        [[ 1.5967009 , -0.87491995,  0.25456196],\n",
              "         [-0.01100433, -0.08316743,  1.2258008 ],\n",
              "         [ 1.4536436 ,  0.7947877 , -1.2539718 ],\n",
              "         ...,\n",
              "         [ 0.78680086,  1.575493  , -0.5152489 ],\n",
              "         [-1.9779383 ,  0.62270886,  0.5548549 ],\n",
              "         [ 0.09053382, -0.47688562, -0.10112027]]], dtype=float32)>)"
            ]
          },
          "metadata": {},
          "execution_count": 26
        }
      ]
    },
    {
      "cell_type": "markdown",
      "source": [
        "9. Create a tensor with shape [10] using your own choice of values, then find the index which has the maximum value."
      ],
      "metadata": {
        "id": "j50r_rXHkAiR"
      }
    },
    {
      "cell_type": "code",
      "source": [
        "import numpy as np\n",
        "T5 = tf.constant(np.arange(1, 11, dtype=np.int32))\n",
        "tf.argmax(T5)"
      ],
      "metadata": {
        "colab": {
          "base_uri": "https://localhost:8080/"
        },
        "id": "hwYDvFbbkArE",
        "outputId": "918d3236-8ec4-423f-cf5d-88bc67882196"
      },
      "execution_count": 30,
      "outputs": [
        {
          "output_type": "execute_result",
          "data": {
            "text/plain": [
              "<tf.Tensor: shape=(), dtype=int64, numpy=9>"
            ]
          },
          "metadata": {},
          "execution_count": 30
        }
      ]
    },
    {
      "cell_type": "markdown",
      "source": [
        "10. One-hot encode the tensor you created in 9."
      ],
      "metadata": {
        "id": "iRdt-EQHkA_U"
      }
    },
    {
      "cell_type": "code",
      "source": [
        "tf.one_hot(T5, depth=10)"
      ],
      "metadata": {
        "colab": {
          "base_uri": "https://localhost:8080/"
        },
        "id": "LcvwS7qtkBI5",
        "outputId": "9a9344fd-2fe5-4214-d8ed-f9933bba4583"
      },
      "execution_count": 31,
      "outputs": [
        {
          "output_type": "execute_result",
          "data": {
            "text/plain": [
              "<tf.Tensor: shape=(10, 10), dtype=float32, numpy=\n",
              "array([[0., 1., 0., 0., 0., 0., 0., 0., 0., 0.],\n",
              "       [0., 0., 1., 0., 0., 0., 0., 0., 0., 0.],\n",
              "       [0., 0., 0., 1., 0., 0., 0., 0., 0., 0.],\n",
              "       [0., 0., 0., 0., 1., 0., 0., 0., 0., 0.],\n",
              "       [0., 0., 0., 0., 0., 1., 0., 0., 0., 0.],\n",
              "       [0., 0., 0., 0., 0., 0., 1., 0., 0., 0.],\n",
              "       [0., 0., 0., 0., 0., 0., 0., 1., 0., 0.],\n",
              "       [0., 0., 0., 0., 0., 0., 0., 0., 1., 0.],\n",
              "       [0., 0., 0., 0., 0., 0., 0., 0., 0., 1.],\n",
              "       [0., 0., 0., 0., 0., 0., 0., 0., 0., 0.]], dtype=float32)>"
            ]
          },
          "metadata": {},
          "execution_count": 31
        }
      ]
    },
    {
      "cell_type": "code",
      "source": [],
      "metadata": {
        "id": "5ujFnReOlvbF"
      },
      "execution_count": null,
      "outputs": []
    }
  ]
}